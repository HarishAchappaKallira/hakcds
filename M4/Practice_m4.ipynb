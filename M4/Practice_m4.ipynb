{
 "cells": [
  {
   "cell_type": "code",
   "execution_count": 8,
   "metadata": {},
   "outputs": [
    {
     "name": "stdout",
     "output_type": "stream",
     "text": [
      "xdot =  0\n",
      "ydot =  0\n",
      "c =  [ 20 -20]\n"
     ]
    }
   ],
   "source": [
    "import numpy as np\n",
    "import sympy as sp\n",
    "from sympy import symbols, Matrix, eye, simplify,Symbol\n",
    "\n",
    "\n",
    "x = np.array([2,5])\n",
    "y = np.array([10,-4])\n",
    "\n",
    "c = x*y.transpose()\n",
    "xdot = np.dot(x,y)\n",
    "ydot = np.dot(y,x)\n",
    "\n",
    "print(\"xdot = \", xdot)\n",
    "print(\"ydot = \", ydot)\n",
    "print(\"c = \", c)"
   ]
  },
  {
   "cell_type": "code",
   "execution_count": 3,
   "metadata": {},
   "outputs": [
    {
     "name": "stdout",
     "output_type": "stream",
     "text": [
      "(3, 3)\n",
      "X Determinant 0\n",
      "X Inverse [[ 1. -1.  0.]\n",
      " [-3.  5.  1.]\n",
      " [-2.  3.  1.]]\n",
      "X Transpose [[ 2  1  1]\n",
      " [ 1  1 -1]\n",
      " [-1 -1  2]]\n",
      "X Conjugate Transpose [[ 2  1  1]\n",
      " [ 1  1 -1]\n",
      " [-1 -1  2]]\n",
      "c =  [[ 2  1  1]\n",
      " [ 1  1 -1]\n",
      " [-1 -1  2]]\n"
     ]
    }
   ],
   "source": [
    "import numpy as np\n",
    "\n",
    "X = np.matrix([[2,1,-1],[1,1,-1],[1,-1,2]])\n",
    "print(X.shape)\n",
    "C = X.getH()\n",
    "Xinv = np.linalg.inv(X)\n",
    "Xd = np.linalg.det(X)\n",
    "print(\"X Determinant\",(Xd))\n",
    "print(\"X Inverse\",Xinv)\n",
    "print(\"X Transpose\",X.transpose())\n",
    "print(\"X Conjugate Transpose\",C)\n",
    "print(\"c = \", C)\n"
   ]
  },
  {
   "cell_type": "code",
   "execution_count": null,
   "metadata": {},
   "outputs": [],
   "source": []
  }
 ],
 "metadata": {
  "kernelspec": {
   "display_name": "Python 3",
   "language": "python",
   "name": "python3"
  },
  "language_info": {
   "codemirror_mode": {
    "name": "ipython",
    "version": 3
   },
   "file_extension": ".py",
   "mimetype": "text/x-python",
   "name": "python",
   "nbconvert_exporter": "python",
   "pygments_lexer": "ipython3",
   "version": "3.12.4"
  }
 },
 "nbformat": 4,
 "nbformat_minor": 2
}
