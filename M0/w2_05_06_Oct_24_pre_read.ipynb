{
  "nbformat": 4,
  "nbformat_minor": 0,
  "metadata": {
    "colab": {
      "provenance": [],
      "authorship_tag": "ABX9TyNJAmO7Mq1bOsihSrh0IMBc",
      "include_colab_link": true
    },
    "kernelspec": {
      "name": "python3",
      "display_name": "Python 3"
    },
    "language_info": {
      "name": "python"
    }
  },
  "cells": [
    {
      "cell_type": "markdown",
      "metadata": {
        "id": "view-in-github",
        "colab_type": "text"
      },
      "source": [
        "<a href=\"https://colab.research.google.com/github/HarishAchappaKallira/hakcds/blob/main/M0/w2_05_06_Oct_24_pre_read.ipynb\" target=\"_parent\"><img src=\"https://colab.research.google.com/assets/colab-badge.svg\" alt=\"Open In Colab\"/></a>"
      ]
    },
    {
      "cell_type": "markdown",
      "source": [
        "# Euler Problem 1\n",
        "If we list all the natural numbers below 10 that are multiples of 3 or 5, we get 3, 5, 6 and 9. The sum of these multiples is 23.\n",
        "Find the sum of all the multiples of 3 or 5 below 1000."
      ],
      "metadata": {
        "id": "SrvkMhsNdnrE"
      }
    },
    {
      "cell_type": "code",
      "execution_count": null,
      "metadata": {
        "id": "-DQs77mclruo"
      },
      "outputs": [],
      "source": [
        "def e11(limit: int)-> int:\n",
        "    total_e1, i = 0,1\n",
        "    #print (i,total_e1)\n",
        "    while i < limit:\n",
        "        if i % 3 == 0 or i % 5 == 0:\n",
        "            total_e1 += i\n",
        "#            print (i,total_e1)\n",
        "\n",
        "        i += 1 #did mistake here. i should have been outside loop\n",
        "\n",
        "    return total_e1"
      ]
    },
    {
      "cell_type": "code",
      "source": [
        "%time e11(1000)"
      ],
      "metadata": {
        "colab": {
          "base_uri": "https://localhost:8080/"
        },
        "collapsed": true,
        "id": "s06R-Ss7S3Um",
        "outputId": "99990a1d-9b09-4275-eb4b-4f812b796902"
      },
      "execution_count": null,
      "outputs": [
        {
          "output_type": "stream",
          "name": "stdout",
          "text": [
            "CPU times: user 297 µs, sys: 0 ns, total: 297 µs\n",
            "Wall time: 313 µs\n"
          ]
        },
        {
          "output_type": "execute_result",
          "data": {
            "text/plain": [
              "233168"
            ]
          },
          "metadata": {},
          "execution_count": 2
        }
      ]
    },
    {
      "cell_type": "code",
      "source": [
        "def e12(limit: int) -> int:\n",
        "   return sum([i for i in range(limit) if i % 3 == 0 or  i % 5 ==0])"
      ],
      "metadata": {
        "id": "VTRQkySpdxJH"
      },
      "execution_count": null,
      "outputs": []
    },
    {
      "cell_type": "code",
      "source": [
        "%time e12(1000)"
      ],
      "metadata": {
        "colab": {
          "base_uri": "https://localhost:8080/"
        },
        "id": "hJfEp_BWe9vQ",
        "outputId": "ffd742a2-10a7-44b4-8207-9f12dc9f60fd"
      },
      "execution_count": null,
      "outputs": [
        {
          "output_type": "stream",
          "name": "stdout",
          "text": [
            "CPU times: user 187 µs, sys: 37 µs, total: 224 µs\n",
            "Wall time: 228 µs\n"
          ]
        },
        {
          "output_type": "execute_result",
          "data": {
            "text/plain": [
              "233168"
            ]
          },
          "metadata": {},
          "execution_count": 4
        }
      ]
    },
    {
      "cell_type": "code",
      "source": [
        "def e13(limit: int) -> int:\n",
        "    return sum((set(range(0,limit,3)) | set(range(0,limit,5))))"
      ],
      "metadata": {
        "id": "_4T3ea15ep2T"
      },
      "execution_count": null,
      "outputs": []
    },
    {
      "cell_type": "code",
      "source": [
        "%time e13(1000)"
      ],
      "metadata": {
        "colab": {
          "base_uri": "https://localhost:8080/"
        },
        "id": "XC_MBu5CebYE",
        "outputId": "fca18af3-790b-4531-9542-5828ec928640"
      },
      "execution_count": null,
      "outputs": [
        {
          "output_type": "stream",
          "name": "stdout",
          "text": [
            "CPU times: user 168 µs, sys: 0 ns, total: 168 µs\n",
            "Wall time: 5.7 ms\n"
          ]
        },
        {
          "output_type": "execute_result",
          "data": {
            "text/plain": [
              "233168"
            ]
          },
          "metadata": {},
          "execution_count": 6
        }
      ]
    },
    {
      "cell_type": "markdown",
      "source": [
        "#Euler Problem 10\n",
        "The sum of the primes below 10 is 2 + 3 + 5 + 7 = 17. Find the sum of all the primes below two million.\n"
      ],
      "metadata": {
        "id": "uCf8RvMRt0Tg"
      }
    },
    {
      "cell_type": "code",
      "source": [
        "def isPrime(num: int) -> bool:\n",
        "    if (num % 2 == 0) or (num % 3 ==0) or (num % 5 == 0):\n",
        "        return False\n",
        "\n",
        "    return False"
      ],
      "metadata": {
        "id": "0nzCieY9sWO7"
      },
      "execution_count": null,
      "outputs": []
    },
    {
      "cell_type": "code",
      "source": [
        "def sumPrimes(limit: int) -> int:\n",
        "    sum = 2\n",
        "\n",
        "    return sum"
      ],
      "metadata": {
        "id": "qa_KSfb5urD6"
      },
      "execution_count": null,
      "outputs": []
    },
    {
      "cell_type": "code",
      "source": [
        "sumPrimes(10)"
      ],
      "metadata": {
        "colab": {
          "base_uri": "https://localhost:8080/"
        },
        "id": "7MDIoQFPu_Go",
        "outputId": "e967099b-e34a-4e73-fc4d-cace4587ba68"
      },
      "execution_count": null,
      "outputs": [
        {
          "output_type": "execute_result",
          "data": {
            "text/plain": [
              "2"
            ]
          },
          "metadata": {},
          "execution_count": 6
        }
      ]
    },
    {
      "cell_type": "markdown",
      "source": [
        "# Euler Problem 3\n",
        "The prime factors of 13195 are 5, 7, 13 and 29.\n",
        "What is the largest prime factor of the number 600851475143 ?"
      ],
      "metadata": {
        "id": "0_fypyK_t_pG"
      }
    },
    {
      "cell_type": "markdown",
      "source": [
        "#Euler Problem 4\n",
        "A palindromic number reads the same both ways. The largest palindrome made from the product of two 2-digit numbers is 9009 = 91 0 99.\n",
        "Find the largest palindrome made from the product of two 3-digit numbers"
      ],
      "metadata": {
        "id": "khV0luWiuPrR"
      }
    },
    {
      "cell_type": "markdown",
      "source": [
        "#Fizz Buzz\n",
        "Print integers 1 to N, but print “Fizz” if an integer is divisible by 3, “Buzz” if an integer is divisible by 5, and “FizzBuzz” if an integer is divisible by both 3 and 5"
      ],
      "metadata": {
        "id": "exZhN0wq_o02"
      }
    },
    {
      "cell_type": "code",
      "source": [
        "def make_fizzbuzz(upto: int, fizzbuzz) -> list [str]:\n",
        "    'For each value up to int, call function to determine int or value to print'\n"
      ],
      "metadata": {
        "id": "m8DRl3KQ6E5e"
      },
      "execution_count": null,
      "outputs": []
    },
    {
      "cell_type": "markdown",
      "source": [
        "#Euler Problem 5\n",
        "2520 is the smallest number that can be divided by each of the numbers from 1 to 10 without any remainder.\n",
        "What is the smallest positive number that is evenly divisible by all of the numbers from 1 to 20?"
      ],
      "metadata": {
        "id": "utRmnPmru2Xz"
      }
    },
    {
      "cell_type": "markdown",
      "source": [
        "#Kaprekar’s Constant\n",
        "Step 1: Choose any four digit number, say n. This is the first number of the sequence.\n",
        "Step 2: Create a new number α which is the largest number that can be formed by using the four digits of n.\n",
        "Step 3: Create a new number β which is the smallest number that can be formed by using the four digits of n.\n",
        "Step 4: α − β is the next number in the sequence.\n",
        "Step 5: Repeat from step 2.\n",
        "\n",
        "The sequence is called a Kaprekar sequence and the function K(n) = α − β is the Kaprekar mapping. Some numbers map to themselves; these are the fixed points of the Kaprekar mapping, and are called Kaprekar’s constants. Zero is a Kaprekar’s constant, and so is called a trivial Kaprekar’s constant. All other Kaprekar’s constant are nontrivial Kaprekar’s constants.\n",
        "\n",
        "For example, starting with 3524,\n",
        "K(3524) = 5432 − 2345 = 3087\n",
        "K(3087) = 8730 − 378 = 8352\n",
        "K(8352) = 8532 − 2358 = 6174\n",
        "K(6174) = 7641 − 1467 = 6174\n",
        "with 6174 as a Kaprekar’s constant."
      ],
      "metadata": {
        "id": "6zYXdj--BzM_"
      }
    },
    {
      "cell_type": "code",
      "source": [
        "def get_max_int(inp: str) -> int:\n",
        "    return int(''.join (sorted(inp, reverse=True)))"
      ],
      "metadata": {
        "id": "06QYDMV4jDM-"
      },
      "execution_count": null,
      "outputs": []
    },
    {
      "cell_type": "code",
      "source": [
        "def get_min_int(inp: str) -> int:\n",
        "    return int(''.join(sorted(inp)))"
      ],
      "metadata": {
        "id": "H3yUe4-UlZ3G"
      },
      "execution_count": null,
      "outputs": []
    },
    {
      "cell_type": "code",
      "source": [
        "def find_next_seq(knum: int) -> int:\n",
        "    return  (get_max_int(str(knum)) - get_min_int(str(knum)))"
      ],
      "metadata": {
        "id": "w88_eM7PfiP-"
      },
      "execution_count": null,
      "outputs": []
    },
    {
      "cell_type": "code",
      "source": [
        "def find_Kap_C(skap: int) -> (bool,list):\n",
        "    isKapC = False\n",
        "\n",
        "    nextSeq = 0\n",
        "    kseq = []\n",
        "\n",
        "    while isKapC==False:\n",
        "        print('nextSeq:', nextSeq,'skap:',skap)\n",
        "        nextSeq = find_next_seq(skap)\n",
        "        kseq.append(skap)\n",
        "\n",
        "        if (skap == nextSeq):\n",
        "\n",
        "            isKapC = True\n",
        "        else:\n",
        "            skap = nextSeq\n",
        "\n",
        "    return (isKapC, kseq)"
      ],
      "metadata": {
        "id": "OcgpHCjN6ac6"
      },
      "execution_count": null,
      "outputs": []
    },
    {
      "cell_type": "code",
      "source": [
        "%time find_Kap_C(3579)"
      ],
      "metadata": {
        "colab": {
          "base_uri": "https://localhost:8080/"
        },
        "id": "Q3dVwQgb85ZX",
        "outputId": "0a7ed08c-195d-4679-c27d-275d87e9391d"
      },
      "execution_count": null,
      "outputs": [
        {
          "output_type": "stream",
          "name": "stdout",
          "text": [
            "nextSeq: 0 skap: 3579\n",
            "nextSeq: 6174 skap: 6174\n",
            "CPU times: user 0 ns, sys: 454 µs, total: 454 µs\n",
            "Wall time: 343 µs\n"
          ]
        },
        {
          "output_type": "execute_result",
          "data": {
            "text/plain": [
              "(True, [3579, 6174])"
            ]
          },
          "metadata": {},
          "execution_count": 18
        }
      ]
    },
    {
      "cell_type": "code",
      "source": [
        "'''\n",
        "A string is termed descending and denoted by \"D\" if the charatcters in the string are in strict descending order. Example: \"yoke\"\n",
        "If the first part of a string is ascending and the remaining is descending, it is termed a peak and denoted by \"P\". The number of characters in the two parts need not be the same. But together the two parts must contain all the chanracters. Example \"13789640\"\n",
        "Similarly we use the term valley, denoted by \"V\" for a string whose characters descend and then ascend. \"yogam\"\n",
        "We denote the strings that do not come under these as \"X\".\n",
        "Write a set of fuctions to classify a given string\n",
        "'''\n",
        "\n",
        "def ADPVX(inp: str) -> str\n",
        "    'for given x in a string traversing 0toN, if the ord(n) is greater than ord(n+1)'\n",
        "\n",
        "\n",
        "\n"
      ],
      "metadata": {
        "id": "tQh3K8kfQ4SD"
      },
      "execution_count": null,
      "outputs": []
    },
    {
      "cell_type": "code",
      "source": [],
      "metadata": {
        "id": "aAnVKR80UBSB"
      },
      "execution_count": null,
      "outputs": []
    },
    {
      "cell_type": "code",
      "source": [],
      "metadata": {
        "id": "kCfph-YRkLyZ"
      },
      "execution_count": null,
      "outputs": []
    },
    {
      "cell_type": "markdown",
      "source": [
        "#Print Cheque numbers to words"
      ],
      "metadata": {
        "id": "cgvnX6vEeXBf"
      }
    },
    {
      "cell_type": "markdown",
      "source": [
        "##amount to words - IN"
      ],
      "metadata": {
        "id": "eWUVvtWMkT_y"
      }
    },
    {
      "cell_type": "code",
      "source": [
        "def split_amt(amt: int) ->list[str]:\n",
        "    print(str(amt))\n",
        "    print(str(amt)[::-1])\n",
        "    stramt = str(amt)[::-1]\n",
        "\n",
        "    print(stramt,len(stramt))\n",
        "    place=0\n",
        "    lenamt = len(stramt)\n",
        "\n",
        "    for i in stramt:\n",
        "        print('value:',int(i),'place:',place,'total digits:',lenamt)\n",
        "        #construct and return string\n",
        "        place += 1\n",
        "    return (stramt)"
      ],
      "metadata": {
        "id": "O4ISfTpZMWMC"
      },
      "execution_count": null,
      "outputs": []
    },
    {
      "cell_type": "code",
      "source": [
        "    def amt_seq(amt: int) -> list[int]:\n",
        "        print_amt=[]\n",
        "\n",
        "        while amt not in print_amt:\n",
        "            print_amt.append (amt)\n",
        "            print(print_amt)\n",
        "            print(dequeue(print_amt))\n"
      ],
      "metadata": {
        "id": "ArmqKopkzntZ"
      },
      "execution_count": null,
      "outputs": []
    },
    {
      "cell_type": "code",
      "source": [
        "def print_chq_amt(amt: int) -> str:\n",
        "    #Parse digits by place\n",
        "    #construct a dictionary of places'\n",
        "    #look up value and substitute by style\n",
        "    'digits = num_to__digits(amt)'\n",
        "    split_amt(amt)\n",
        "    amt_seq(amt)\n",
        "    #print_chq_lakhs()\n",
        "    #'''chqstr='one''''\n",
        "    #return str(digits)"
      ],
      "metadata": {
        "id": "f1I29SrETTec"
      },
      "execution_count": null,
      "outputs": []
    },
    {
      "cell_type": "markdown",
      "source": [
        "\n"
      ],
      "metadata": {
        "id": "RvMenQ5yLIu2"
      }
    },
    {
      "cell_type": "code",
      "source": [
        "print_chq_amt(1002001005)"
      ],
      "metadata": {
        "colab": {
          "base_uri": "https://localhost:8080/",
          "height": 507
        },
        "id": "wYFQDelcUKU2",
        "outputId": "437a9ef8-27cf-4405-c179-1e7f6d39f9d6"
      },
      "execution_count": null,
      "outputs": [
        {
          "output_type": "stream",
          "name": "stdout",
          "text": [
            "1002001005\n",
            "5001002001\n",
            "5001002001 10\n",
            "value: 5 place: 0 total digits: 10\n",
            "value: 0 place: 1 total digits: 10\n",
            "value: 0 place: 2 total digits: 10\n",
            "value: 1 place: 3 total digits: 10\n",
            "value: 0 place: 4 total digits: 10\n",
            "value: 0 place: 5 total digits: 10\n",
            "value: 2 place: 6 total digits: 10\n",
            "value: 0 place: 7 total digits: 10\n",
            "value: 0 place: 8 total digits: 10\n",
            "value: 1 place: 9 total digits: 10\n",
            "[1002001005]\n"
          ]
        },
        {
          "output_type": "error",
          "ename": "AttributeError",
          "evalue": "'list' object has no attribute 'dequeue'",
          "traceback": [
            "\u001b[0;31m---------------------------------------------------------------------------\u001b[0m",
            "\u001b[0;31mAttributeError\u001b[0m                            Traceback (most recent call last)",
            "\u001b[0;32m<ipython-input-96-b2d1dfda193b>\u001b[0m in \u001b[0;36m<cell line: 1>\u001b[0;34m()\u001b[0m\n\u001b[0;32m----> 1\u001b[0;31m \u001b[0mprint_chq_amt\u001b[0m\u001b[0;34m(\u001b[0m\u001b[0;36m1002001005\u001b[0m\u001b[0;34m)\u001b[0m\u001b[0;34m\u001b[0m\u001b[0;34m\u001b[0m\u001b[0m\n\u001b[0m",
            "\u001b[0;32m<ipython-input-90-5892d94da383>\u001b[0m in \u001b[0;36mprint_chq_amt\u001b[0;34m(amt)\u001b[0m\n\u001b[1;32m      5\u001b[0m     \u001b[0;34m'digits = num_to__digits(amt)'\u001b[0m\u001b[0;34m\u001b[0m\u001b[0;34m\u001b[0m\u001b[0m\n\u001b[1;32m      6\u001b[0m     \u001b[0msplit_amt\u001b[0m\u001b[0;34m(\u001b[0m\u001b[0mamt\u001b[0m\u001b[0;34m)\u001b[0m\u001b[0;34m\u001b[0m\u001b[0;34m\u001b[0m\u001b[0m\n\u001b[0;32m----> 7\u001b[0;31m     \u001b[0mamt_seq\u001b[0m\u001b[0;34m(\u001b[0m\u001b[0mamt\u001b[0m\u001b[0;34m)\u001b[0m\u001b[0;34m\u001b[0m\u001b[0;34m\u001b[0m\u001b[0m\n\u001b[0m\u001b[1;32m      8\u001b[0m     \u001b[0;31m#print_chq_lakhs()\u001b[0m\u001b[0;34m\u001b[0m\u001b[0;34m\u001b[0m\u001b[0m\n\u001b[1;32m      9\u001b[0m     \u001b[0;31m#'''chqstr='one''''\u001b[0m\u001b[0;34m\u001b[0m\u001b[0;34m\u001b[0m\u001b[0m\n",
            "\u001b[0;32m<ipython-input-95-96d53d698bb7>\u001b[0m in \u001b[0;36mamt_seq\u001b[0;34m(amt)\u001b[0m\n\u001b[1;32m      5\u001b[0m         \u001b[0mprint_amt\u001b[0m\u001b[0;34m.\u001b[0m\u001b[0mappend\u001b[0m \u001b[0;34m(\u001b[0m\u001b[0mamt\u001b[0m\u001b[0;34m)\u001b[0m\u001b[0;34m\u001b[0m\u001b[0;34m\u001b[0m\u001b[0m\n\u001b[1;32m      6\u001b[0m         \u001b[0mprint\u001b[0m\u001b[0;34m(\u001b[0m\u001b[0mprint_amt\u001b[0m\u001b[0;34m)\u001b[0m\u001b[0;34m\u001b[0m\u001b[0;34m\u001b[0m\u001b[0m\n\u001b[0;32m----> 7\u001b[0;31m         \u001b[0mprint\u001b[0m\u001b[0;34m(\u001b[0m\u001b[0mprint_amt\u001b[0m\u001b[0;34m.\u001b[0m\u001b[0mdequeue\u001b[0m\u001b[0;34m(\u001b[0m\u001b[0;34m)\u001b[0m\u001b[0;34m)\u001b[0m\u001b[0;34m\u001b[0m\u001b[0;34m\u001b[0m\u001b[0m\n\u001b[0m",
            "\u001b[0;31mAttributeError\u001b[0m: 'list' object has no attribute 'dequeue'"
          ]
        }
      ]
    },
    {
      "cell_type": "code",
      "source": [
        "import math,functools"
      ],
      "metadata": {
        "id": "ochoxepcMPxr"
      },
      "execution_count": null,
      "outputs": []
    },
    {
      "cell_type": "code",
      "source": [
        "functools.reduce(math.lcm,range(1,21))"
      ],
      "metadata": {
        "colab": {
          "base_uri": "https://localhost:8080/"
        },
        "id": "OnFbp-QaMH2j",
        "outputId": "2d2affb2-a9a7-4c7a-e010-42ad03b312ae"
      },
      "execution_count": null,
      "outputs": [
        {
          "output_type": "execute_result",
          "data": {
            "text/plain": [
              "232792560"
            ]
          },
          "metadata": {},
          "execution_count": 99
        }
      ]
    },
    {
      "cell_type": "code",
      "source": [
        "def is_anagram(a: str, b: str) -> bool:\n",
        "    '''Checks if the two strings given\n",
        "    are anagrams of each other. Case sensitive'''\n",
        "    if sorted(a) == sorted(b):\n",
        "        val = True\n",
        "    else:\n",
        "        val = False\n",
        "\n",
        "    return val"
      ],
      "metadata": {
        "id": "Vwipg5ShZrzF"
      },
      "execution_count": null,
      "outputs": []
    },
    {
      "cell_type": "code",
      "source": [
        "is_anagram('aba','baa')"
      ],
      "metadata": {
        "colab": {
          "base_uri": "https://localhost:8080/"
        },
        "id": "qS632KIyZ5ZY",
        "outputId": "adae9e8f-578c-4c95-cadd-047e014d10bd"
      },
      "execution_count": null,
      "outputs": [
        {
          "output_type": "execute_result",
          "data": {
            "text/plain": [
              "False"
            ]
          },
          "metadata": {},
          "execution_count": 117
        }
      ]
    },
    {
      "cell_type": "code",
      "source": [
        "def isvowel(s: str, extras=\"\") -> bool:\n",
        "    return s in 'aeiouAEIOU' + extras"
      ],
      "metadata": {
        "id": "w3uLR1xzjRwy"
      },
      "execution_count": null,
      "outputs": []
    },
    {
      "cell_type": "code",
      "source": [
        "isvowel('z','z')"
      ],
      "metadata": {
        "colab": {
          "base_uri": "https://localhost:8080/"
        },
        "id": "I2JC0BzejfNq",
        "outputId": "d3fb29e9-946d-4e2a-f0c9-f5fe7eaae3d5"
      },
      "execution_count": null,
      "outputs": [
        {
          "output_type": "execute_result",
          "data": {
            "text/plain": [
              "True"
            ]
          },
          "metadata": {},
          "execution_count": 123
        }
      ]
    },
    {
      "cell_type": "code",
      "source": [
        "def get_julian(mon: str) -> int:\n",
        "    lstr = clean_date_str('02, January, 1999')\n",
        "    int_date = lstr[0]\n",
        "    int_year = lstr[2]\n",
        "\n",
        "    print (int_date)\n",
        "    print(int_year)\n",
        "\n"
      ],
      "metadata": {
        "id": "GNoUQoM-6HJD"
      },
      "execution_count": null,
      "outputs": []
    },
    {
      "cell_type": "code",
      "source": [
        "   def get_julian_days_for_month(mon: str) -> int:\n",
        "    month_julian = {'jan':0,\n",
        "                    'feb':31,\n",
        "                    'mar':31+28,\n",
        "                    'apr':31+28+31,\n",
        "                    'may':31+28+31+30,\n",
        "                    'jun':31+28+31+30+31,\n",
        "                    'jul':31+28+31+30+31+30,\n",
        "                    'aug':31+28+31+30+31+30+31,\n",
        "                    'sep':31+28+31+30+31+30+31+31,\n",
        "                    'oct':31+28+31+30+31+30+31+31+30,\n",
        "                    'nov':31+28+31+30+31+30+31+31+30+31,\n",
        "                    'dec':31+28+31+30+31+30+31+31+30+31+30,\n",
        "                    }"
      ],
      "metadata": {
        "id": "gLl5BLqCAChB"
      },
      "execution_count": null,
      "outputs": []
    },
    {
      "cell_type": "code",
      "source": [
        "def clean_date_str(s: str)-> str:\n",
        "    s2 = s.replace(',',' ')\n",
        "    print(s2)\n",
        "    #lstr[1].lower()[:3]\n",
        "    #lstr = s.replace(',','').replace(' ','').replace(', ','')\n",
        "    return lstr\n"
      ],
      "metadata": {
        "id": "e8S08DhUkGRk"
      },
      "execution_count": null,
      "outputs": []
    },
    {
      "cell_type": "code",
      "source": [
        "lstr = clean_date_str('2, MARCH, 1999')"
      ],
      "metadata": {
        "id": "erVMeF-dmaB_",
        "colab": {
          "base_uri": "https://localhost:8080/"
        },
        "outputId": "4b613f31-63fc-47ca-8918-d8d07a0161db"
      },
      "execution_count": null,
      "outputs": [
        {
          "output_type": "stream",
          "name": "stdout",
          "text": [
            "2  MARCH  1999\n"
          ]
        }
      ]
    },
    {
      "cell_type": "code",
      "source": [
        "print(lstr)"
      ],
      "metadata": {
        "colab": {
          "base_uri": "https://localhost:8080/"
        },
        "id": "7cFA0FABn7ZY",
        "outputId": "13c32f5e-5927-4fe7-d73f-0441546f261c"
      },
      "execution_count": null,
      "outputs": [
        {
          "output_type": "stream",
          "name": "stdout",
          "text": [
            "['2', ' mar', ' 1999']\n"
          ]
        }
      ]
    },
    {
      "cell_type": "markdown",
      "source": [
        "#Given a string convert roman to arabic"
      ],
      "metadata": {
        "id": "I0iIkGYKQ_ts"
      }
    },
    {
      "cell_type": "code",
      "source": [
        "def lookup_roman_to_arabic(inroman: str) -> str:\n",
        "    rom = {'I':1,\n",
        "           'II':2,\n",
        "           'III':3,\n",
        "           'IV':4,\n",
        "           'V':5,\n",
        "           'VI':6,\n",
        "           'VII':7,\n",
        "           'VIII':8,\n",
        "           'IX':9,\n",
        "           'X':10,\n",
        "           'L':50,\n",
        "           'C':100,\n",
        "           'D':500,\n",
        "           'M':1000\n",
        "           }"
      ],
      "metadata": {
        "id": "1qMcKYezREol"
      },
      "execution_count": null,
      "outputs": []
    },
    {
      "cell_type": "code",
      "source": [
        "def rom_to_arabic(inroman: str) -> str:\n",
        "    input = ('MCXIX') #1000+100+10+9\n",
        "\n",
        "    input.count('M')\n",
        "\n",
        "    #count all M x 1000 (look up)\n",
        "    #Count all C x 100 (look up)\n",
        "    #strip string for rest\n",
        "\n",
        "# Apply rules\n",
        "# I - can be succeeded only\n",
        "# X - can be succeeded only by X(max of four times), V (once) or I (max of 3 times)\n",
        "\n",
        "# use dictionary lookup?  parse value and look up dictionary and add arabic subsitution? check these rules :("
      ],
      "metadata": {
        "id": "b2LVH9vjRF68"
      },
      "execution_count": null,
      "outputs": []
    },
    {
      "cell_type": "code",
      "source": [
        "import re\n",
        "\n",
        "inp= '1009988765'\n",
        "s = re.split()"
      ],
      "metadata": {
        "id": "nTc6KmmfFRNK",
        "colab": {
          "base_uri": "https://localhost:8080/",
          "height": 176
        },
        "outputId": "e719068a-a20e-48bb-82f5-137b6618b056"
      },
      "execution_count": null,
      "outputs": [
        {
          "output_type": "error",
          "ename": "TypeError",
          "evalue": "split() missing 2 required positional arguments: 'pattern' and 'string'",
          "traceback": [
            "\u001b[0;31m---------------------------------------------------------------------------\u001b[0m",
            "\u001b[0;31mTypeError\u001b[0m                                 Traceback (most recent call last)",
            "\u001b[0;32m<ipython-input-3-1d949e166496>\u001b[0m in \u001b[0;36m<cell line: 4>\u001b[0;34m()\u001b[0m\n\u001b[1;32m      2\u001b[0m \u001b[0;34m\u001b[0m\u001b[0m\n\u001b[1;32m      3\u001b[0m \u001b[0minp\u001b[0m\u001b[0;34m=\u001b[0m \u001b[0;34m'1009988765'\u001b[0m\u001b[0;34m\u001b[0m\u001b[0;34m\u001b[0m\u001b[0m\n\u001b[0;32m----> 4\u001b[0;31m \u001b[0ms\u001b[0m \u001b[0;34m=\u001b[0m \u001b[0mre\u001b[0m\u001b[0;34m.\u001b[0m\u001b[0msplit\u001b[0m\u001b[0;34m(\u001b[0m\u001b[0;34m)\u001b[0m\u001b[0;34m\u001b[0m\u001b[0;34m\u001b[0m\u001b[0m\n\u001b[0m",
            "\u001b[0;31mTypeError\u001b[0m: split() missing 2 required positional arguments: 'pattern' and 'string'"
          ]
        }
      ]
    },
    {
      "cell_type": "code",
      "source": [
        "f = 'Hello world'"
      ],
      "metadata": {
        "id": "oRBRvSffggnq"
      },
      "execution_count": null,
      "outputs": []
    },
    {
      "cell_type": "code",
      "source": [
        "f[::-2]"
      ],
      "metadata": {
        "id": "u2nJ0Zxegjnv"
      },
      "execution_count": null,
      "outputs": []
    },
    {
      "cell_type": "code",
      "source": [],
      "metadata": {
        "id": "bsP9cdBVgjlg"
      },
      "execution_count": null,
      "outputs": []
    },
    {
      "cell_type": "markdown",
      "source": [
        "#Vibha. problem\n"
      ],
      "metadata": {
        "id": "gqYiWzYW1MV0"
      }
    },
    {
      "cell_type": "code",
      "source": [
        "#Prime numbers between 2 and 20\n",
        "print(\"Prime numbers between 2 and 20\")\n",
        "\n",
        "for i in range(1,21):\n",
        "    count=0 #count of the number of factors\n",
        "    for j in range(2,i//2+1):\n",
        "        if i%j==0: #if j is a factor of i then i is composite\n",
        "            count+=1\n",
        "    if count==0: #there is no factor for i\n",
        "        print(i)\n",
        "\n",
        "\n",
        "\n",
        "\n"
      ],
      "metadata": {
        "colab": {
          "base_uri": "https://localhost:8080/"
        },
        "id": "AHJxUmWB1Vyg",
        "outputId": "bc9ae069-c8c0-4b3a-a66a-8806cb2fcba3"
      },
      "execution_count": null,
      "outputs": [
        {
          "output_type": "stream",
          "name": "stdout",
          "text": [
            "Prime numbers between 2 and 20\n",
            "1\n",
            "2\n",
            "3\n",
            "5\n",
            "7\n",
            "11\n",
            "13\n",
            "17\n",
            "19\n"
          ]
        }
      ]
    }
  ]
}