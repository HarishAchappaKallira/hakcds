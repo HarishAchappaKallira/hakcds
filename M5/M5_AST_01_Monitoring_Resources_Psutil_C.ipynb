{
  "cells": [
    {
      "cell_type": "markdown",
      "metadata": {
        "id": "5hEAs4TxQfpO"
      },
      "source": [
        "# Advanced Certification Program in Computational Data Science\n",
        "## A program by IISc and TalentSprint\n",
        "### Assignment 1: Monitoring Resources Using Psutil"
      ]
    },
    {
      "cell_type": "markdown",
      "metadata": {
        "id": "rXUi1yR6QpBI"
      },
      "source": [
        "## Learning Objectives"
      ]
    },
    {
      "cell_type": "markdown",
      "metadata": {
        "id": "spgmBDk4QsxR"
      },
      "source": [
        "At the end of the experiment, you will be able to:\n",
        "\n",
        "- Understand, what does monitoring your device mean\n",
        "- Explore various functions of `psutil` package\n",
        "- Explore `multiprocessing` package\n",
        "- Evaluate the advantage of parallelism using Psutil"
      ]
    },
    {
      "cell_type": "code",
      "execution_count": null,
      "metadata": {
        "cellView": "form",
        "id": "bNdzwIB3MzCS"
      },
      "outputs": [],
      "source": [
        "#@title Walkthrough Video\n",
        "from IPython.display import HTML\n",
        "HTML(\"\"\"<video width=\"420\" height=\"240\" controls>\n",
        "<source src=\"https://cdn.chn.talentsprint.com/content/Monitoring_Resources_Psutil.mp4\">\n",
        "</video>\"\"\")"
      ]
    },
    {
      "cell_type": "markdown",
      "metadata": {
        "id": "S1hRsonEe-ab"
      },
      "source": [
        "### What does monitoring your device mean?"
      ]
    },
    {
      "cell_type": "markdown",
      "metadata": {
        "id": "S43SA47Ze_-R"
      },
      "source": [
        "It means to keep track of various resources in the system and their utilization\n",
        "\n",
        "\n",
        "Resources such as:\n",
        "- CPU\n",
        "- GPU\n",
        "- Memory (RAM, Swap space, and Hard disk space)\n",
        "- Disks\n",
        "- Network\n",
        "- Sensors"
      ]
    },
    {
      "cell_type": "markdown",
      "metadata": {
        "id": "I4gh7rJlgC7g"
      },
      "source": [
        "### Why do we want to monitor various resources?"
      ]
    },
    {
      "cell_type": "markdown",
      "metadata": {
        "id": "YXCAQ_engE0v"
      },
      "source": [
        "1. Monitoring and measuring allows us to understand resource allocation better\n",
        "2. Monitoring helps to regularly evaluate the performance of the critical system resources.\n",
        "3. Helps to identify the process that is using the maximum resources.\n",
        "4. It helps to evaluate if the current system's resources are sufficient to execute a particular task.\n",
        "5. To reduce escalation of issues."
      ]
    },
    {
      "cell_type": "markdown",
      "metadata": {
        "id": "jBJsQwE8hsA6"
      },
      "source": [
        "### Psutil"
      ]
    },
    {
      "cell_type": "markdown",
      "metadata": {
        "id": "c8IhKM0qhuRj"
      },
      "source": [
        "Psutil is a Python cross-platform library used to access system details and process utilities.\n",
        "This library is used for system monitoring, profiling, limiting process resources, and the management of running processes.\n",
        "\n",
        "Click [here](https://pypi.org/project/psutil/) to proceed to the official documentation of Psutil."
      ]
    },
    {
      "cell_type": "markdown",
      "metadata": {
        "id": "THfwo-6vLD_N"
      },
      "source": [
        "Let us explore various functions of Psutil."
      ]
    },
    {
      "cell_type": "markdown",
      "metadata": {
        "id": "whKnUjWyQ3Oy"
      },
      "source": [
        "### Setup Steps:"
      ]
    },
    {
      "cell_type": "code",
      "execution_count": null,
      "metadata": {
        "id": "a0lOWPrrRDNp"
      },
      "outputs": [],
      "source": [
        "#@title Please enter your registration id to start: { run: \"auto\", display-mode: \"form\" }\n",
        "Id = \"2417833\" #@param {type:\"string\"}"
      ]
    },
    {
      "cell_type": "code",
      "execution_count": null,
      "metadata": {
        "id": "-EhywUXcRJnS"
      },
      "outputs": [],
      "source": [
        "#@title Please enter your password (your registered phone number) to continue: { run: \"auto\", display-mode: \"form\" }\n",
        "password = \"9840913286\" #@param {type:\"string\"}"
      ]
    },
    {
      "cell_type": "code",
      "execution_count": null,
      "metadata": {
        "cellView": "form",
        "id": "ngDFdwCARQhS",
        "colab": {
          "base_uri": "https://localhost:8080/",
          "height": 34
        },
        "outputId": "c83bef7b-a28a-45b6-8a8c-853e588d200c"
      },
      "outputs": [
        {
          "output_type": "display_data",
          "data": {
            "text/plain": [
              "<IPython.core.display.HTML object>"
            ],
            "text/html": [
              "<script src=\"https://dashboard.talentsprint.com/aiml/record_ip.html?traineeId=2417833&recordId=4551\"></script>"
            ]
          },
          "metadata": {}
        },
        {
          "output_type": "stream",
          "name": "stdout",
          "text": [
            "Setup completed successfully\n"
          ]
        }
      ],
      "source": [
        "#@title Run this cell to complete the setup for this Notebook\n",
        "from IPython import get_ipython\n",
        "\n",
        "ipython = get_ipython()\n",
        "\n",
        "notebook= \"M5_AST_01_Monitoring_Resources_Psutil_C\" #name of the notebook\n",
        "\n",
        "def setup():\n",
        "#  ipython.magic(\"sx pip3 install torch\")\n",
        "    from IPython.display import HTML, display\n",
        "    display(HTML('<script src=\"https://dashboard.talentsprint.com/aiml/record_ip.html?traineeId={0}&recordId={1}\"></script>'.format(getId(),submission_id)))\n",
        "    print(\"Setup completed successfully\")\n",
        "    return\n",
        "\n",
        "def submit_notebook():\n",
        "    ipython.magic(\"notebook -e \"+ notebook + \".ipynb\")\n",
        "\n",
        "    import requests, json, base64, datetime\n",
        "\n",
        "    url = \"https://dashboard.talentsprint.com/xp/app/save_notebook_attempts\"\n",
        "    if not submission_id:\n",
        "      data = {\"id\" : getId(), \"notebook\" : notebook, \"mobile\" : getPassword()}\n",
        "      r = requests.post(url, data = data)\n",
        "      r = json.loads(r.text)\n",
        "\n",
        "      if r[\"status\"] == \"Success\":\n",
        "          return r[\"record_id\"]\n",
        "      elif \"err\" in r:\n",
        "        print(r[\"err\"])\n",
        "        return None\n",
        "      else:\n",
        "        print (\"Something is wrong, the notebook will not be submitted for grading\")\n",
        "        return None\n",
        "\n",
        "    elif getAnswer() and getComplexity() and getAdditional() and getConcepts() and getComments() and getMentorSupport():\n",
        "      f = open(notebook + \".ipynb\", \"rb\")\n",
        "      file_hash = base64.b64encode(f.read())\n",
        "\n",
        "      data = {\"complexity\" : Complexity, \"additional\" :Additional,\n",
        "              \"concepts\" : Concepts, \"record_id\" : submission_id,\n",
        "              \"answer\" : Answer, \"id\" : Id, \"file_hash\" : file_hash,\n",
        "              \"notebook\" : notebook,\n",
        "              \"feedback_experiments_input\" : Comments,\n",
        "              \"feedback_mentor_support\": Mentor_support}\n",
        "      r = requests.post(url, data = data)\n",
        "      r = json.loads(r.text)\n",
        "      if \"err\" in r:\n",
        "        print(r[\"err\"])\n",
        "        return None\n",
        "      else:\n",
        "        print(\"Your submission is successful.\")\n",
        "        print(\"Ref Id:\", submission_id)\n",
        "        print(\"Date of submission: \", r[\"date\"])\n",
        "        print(\"Time of submission: \", r[\"time\"])\n",
        "        print(\"View your submissions: https://learn-iisc.talentsprint.com/notebook_submissions\")\n",
        "        #print(\"For any queries/discrepancies, please connect with mentors through the chat icon in LMS dashboard.\")\n",
        "        return submission_id\n",
        "    else: submission_id\n",
        "\n",
        "\n",
        "def getAdditional():\n",
        "  try:\n",
        "    if not Additional:\n",
        "      raise NameError\n",
        "    else:\n",
        "      return Additional\n",
        "  except NameError:\n",
        "    print (\"Please answer Additional Question\")\n",
        "    return None\n",
        "\n",
        "def getComplexity():\n",
        "  try:\n",
        "    if not Complexity:\n",
        "      raise NameError\n",
        "    else:\n",
        "      return Complexity\n",
        "  except NameError:\n",
        "    print (\"Please answer Complexity Question\")\n",
        "    return None\n",
        "\n",
        "def getConcepts():\n",
        "  try:\n",
        "    if not Concepts:\n",
        "      raise NameError\n",
        "    else:\n",
        "      return Concepts\n",
        "  except NameError:\n",
        "    print (\"Please answer Concepts Question\")\n",
        "    return None\n",
        "\n",
        "\n",
        "# def getWalkthrough():\n",
        "#   try:\n",
        "#     if not Walkthrough:\n",
        "#       raise NameError\n",
        "#     else:\n",
        "#       return Walkthrough\n",
        "#   except NameError:\n",
        "#     print (\"Please answer Walkthrough Question\")\n",
        "#     return None\n",
        "\n",
        "def getComments():\n",
        "  try:\n",
        "    if not Comments:\n",
        "      raise NameError\n",
        "    else:\n",
        "      return Comments\n",
        "  except NameError:\n",
        "    print (\"Please answer Comments Question\")\n",
        "    return None\n",
        "\n",
        "\n",
        "def getMentorSupport():\n",
        "  try:\n",
        "    if not Mentor_support:\n",
        "      raise NameError\n",
        "    else:\n",
        "      return Mentor_support\n",
        "  except NameError:\n",
        "    print (\"Please answer Mentor support Question\")\n",
        "    return None\n",
        "\n",
        "def getAnswer():\n",
        "  try:\n",
        "    if not Answer:\n",
        "      raise NameError\n",
        "    else:\n",
        "      return Answer\n",
        "  except NameError:\n",
        "    print (\"Please answer Question\")\n",
        "    return None\n",
        "\n",
        "\n",
        "def getId():\n",
        "  try:\n",
        "    return Id if Id else None\n",
        "  except NameError:\n",
        "    return None\n",
        "\n",
        "def getPassword():\n",
        "  try:\n",
        "    return password if password else None\n",
        "  except NameError:\n",
        "    return None\n",
        "\n",
        "submission_id = None\n",
        "### Setup\n",
        "if getPassword() and getId():\n",
        "  submission_id = submit_notebook()\n",
        "  if submission_id:\n",
        "    setup()\n",
        "else:\n",
        "  print (\"Please complete Id and Password cells before running setup\")\n",
        "\n"
      ]
    },
    {
      "cell_type": "markdown",
      "metadata": {
        "id": "MyQKyEYTRur0"
      },
      "source": [
        "### Import required packages"
      ]
    },
    {
      "cell_type": "code",
      "execution_count": null,
      "metadata": {
        "id": "bS5lt3DVSTAo"
      },
      "outputs": [],
      "source": [
        "# Importing libraries\n",
        "import psutil\n",
        "import platform"
      ]
    },
    {
      "cell_type": "markdown",
      "metadata": {
        "id": "OGlHC1XwM9oO"
      },
      "source": [
        "### System profile\n",
        "\n",
        "\n"
      ]
    },
    {
      "cell_type": "markdown",
      "metadata": {
        "id": "OTaqBW63yaUW"
      },
      "source": [
        "Here we will explore the Psutil functions that helps us explore about the system."
      ]
    },
    {
      "cell_type": "markdown",
      "metadata": {
        "id": "0dQu-hk6NC1Q"
      },
      "source": [
        "Profile your system to know the system name, OS version, if the system is a 64-bit architecture or 32-bit architecture, number of physical and virtual cores, and the max and min frequency of the CPU."
      ]
    },
    {
      "cell_type": "code",
      "execution_count": null,
      "metadata": {
        "id": "LTDe0WqfTNxM",
        "colab": {
          "base_uri": "https://localhost:8080/"
        },
        "outputId": "21e2add3-38bd-43d4-a6f7-ee15a25fd10e"
      },
      "outputs": [
        {
          "output_type": "stream",
          "name": "stdout",
          "text": [
            "System: Linux\n"
          ]
        }
      ],
      "source": [
        "#Windows or Linux\n",
        "uname = platform.uname()\n",
        "print(f\"System: {uname.system}\")"
      ]
    },
    {
      "cell_type": "code",
      "execution_count": null,
      "metadata": {
        "id": "oASnVEpxTd1L",
        "colab": {
          "base_uri": "https://localhost:8080/"
        },
        "outputId": "33dfb3e1-ece4-497c-c185-88f566d3e15d"
      },
      "outputs": [
        {
          "output_type": "stream",
          "name": "stdout",
          "text": [
            "Node Name: 93f3ae631cc8\n"
          ]
        }
      ],
      "source": [
        "# System name\n",
        "print(f\"Node Name: {uname.node}\")"
      ]
    },
    {
      "cell_type": "code",
      "execution_count": null,
      "metadata": {
        "id": "OaJZB4mgTmwC",
        "colab": {
          "base_uri": "https://localhost:8080/"
        },
        "outputId": "afaa6ab8-52f9-4209-af38-fd3464e63b36"
      },
      "outputs": [
        {
          "output_type": "stream",
          "name": "stdout",
          "text": [
            "Release: 6.1.123+\n"
          ]
        }
      ],
      "source": [
        "# OS release version like  10(Windows) or 5.4.0-72-generic(linux)\n",
        "print(f\"Release: {uname.release}\")"
      ]
    },
    {
      "cell_type": "code",
      "execution_count": null,
      "metadata": {
        "id": "ltrJxgASTrmJ",
        "colab": {
          "base_uri": "https://localhost:8080/"
        },
        "outputId": "509a9f96-4f70-4a2d-db74-2c3b06a77a26"
      },
      "outputs": [
        {
          "output_type": "stream",
          "name": "stdout",
          "text": [
            "Version: #1 SMP PREEMPT_DYNAMIC Sun Mar 30 16:01:29 UTC 2025\n"
          ]
        }
      ],
      "source": [
        "print(f\"Version: {uname.version}\")"
      ]
    },
    {
      "cell_type": "code",
      "execution_count": null,
      "metadata": {
        "id": "8xVRnYS4Tvbd",
        "colab": {
          "base_uri": "https://localhost:8080/"
        },
        "outputId": "988e77e5-25e1-4d7d-b21f-9c4696039c5f"
      },
      "outputs": [
        {
          "output_type": "stream",
          "name": "stdout",
          "text": [
            "Machine: x86_64\n"
          ]
        }
      ],
      "source": [
        "# machine can be AMD64 or x86-64\n",
        "print(f\"Machine: {uname.machine}\")"
      ]
    },
    {
      "cell_type": "code",
      "execution_count": null,
      "metadata": {
        "id": "fIYZtCa3T1Xt",
        "colab": {
          "base_uri": "https://localhost:8080/"
        },
        "outputId": "79017d2d-7983-4a5a-b624-50fdc9486f23"
      },
      "outputs": [
        {
          "output_type": "stream",
          "name": "stdout",
          "text": [
            "Processor: x86_64\n"
          ]
        }
      ],
      "source": [
        "#  Intel64 Family 6 or x86_64\n",
        "print(f\"Processor: {uname.processor}\")"
      ]
    },
    {
      "cell_type": "code",
      "execution_count": null,
      "metadata": {
        "id": "oFQ1-bP33LKT",
        "colab": {
          "base_uri": "https://localhost:8080/"
        },
        "outputId": "95b2f59a-ebe1-4a3c-9d6a-083d03500e4a"
      },
      "outputs": [
        {
          "output_type": "stream",
          "name": "stdout",
          "text": [
            "Physical cores: 1\n"
          ]
        }
      ],
      "source": [
        "#Number of physical cores\n",
        "print(\"Physical cores:\", psutil.cpu_count(logical=False))"
      ]
    },
    {
      "cell_type": "code",
      "execution_count": null,
      "metadata": {
        "id": "62_JA_gx3aoJ",
        "colab": {
          "base_uri": "https://localhost:8080/"
        },
        "outputId": "795c6110-8c7b-4be0-ffa8-2b9af3c71ffd"
      },
      "outputs": [
        {
          "output_type": "stream",
          "name": "stdout",
          "text": [
            "Total cores: 2\n"
          ]
        }
      ],
      "source": [
        "print(\"Total cores:\", psutil.cpu_count(logical=True))"
      ]
    },
    {
      "cell_type": "markdown",
      "metadata": {
        "id": "wxT98sb37UsO"
      },
      "source": [
        "* user – time spent by normal processes executing in user mode.\n",
        "* system – time spent by processes executing in kernel mode.\n",
        "* idle – time when system was idle.\n",
        "* nice – time spent by priority processes executing in user mode.\n",
        "* iowait – time spent waiting for I/O to complete. This is not accounted in idle time counter.\n",
        "* irq – time spent for servicing hardware interrupts.\n",
        "* softirq – time spent for servicing software interrupts.\n",
        "* steal – time spent by other operating systems running in a virtualized environment.\n",
        "* guest – time spent running a virtual CPU for guest operating systems under the control of the Linux kernel."
      ]
    },
    {
      "cell_type": "code",
      "execution_count": null,
      "metadata": {
        "id": "h-WVLHPQ7GjP",
        "colab": {
          "base_uri": "https://localhost:8080/"
        },
        "outputId": "a18a6dc3-aca5-4b84-a971-57ec17f1e5ac"
      },
      "outputs": [
        {
          "output_type": "stream",
          "name": "stdout",
          "text": [
            "scputimes(user=73.62, nice=0.0, system=34.86, idle=61.88, iowait=18.67, irq=0.0, softirq=1.62, steal=0.1, guest=0.0, guest_nice=0.0)\n"
          ]
        }
      ],
      "source": [
        "print(psutil.cpu_times())"
      ]
    },
    {
      "cell_type": "markdown",
      "metadata": {
        "id": "omjty3C0760v"
      },
      "source": [
        "This function calculates the current system-wide percentage CPU utilization. It is recommended to provide time interval (seconds) as parameter to the function over which the average CPU usage will be calculated; ignoring the interval parameter could result in high variation in usage values."
      ]
    },
    {
      "cell_type": "code",
      "execution_count": null,
      "metadata": {
        "id": "b_5uSgda7uYY",
        "colab": {
          "base_uri": "https://localhost:8080/"
        },
        "outputId": "59a2a064-6a05-4966-a5ad-38f1a3520127"
      },
      "outputs": [
        {
          "output_type": "stream",
          "name": "stdout",
          "text": [
            "2.0\n"
          ]
        }
      ],
      "source": [
        "print(psutil.cpu_percent(1))"
      ]
    },
    {
      "cell_type": "markdown",
      "metadata": {
        "id": "i6JwFHPv8TTX"
      },
      "source": [
        "* ctx_switches – number of context switches since boot.\n",
        "* interrupts – number of interrupts since boot.\n",
        "* soft_interrupts – number of software interrupts since boot.\n",
        "* syscalls – number of system calls since boot. Always set to 0 in Ubuntu."
      ]
    },
    {
      "cell_type": "code",
      "execution_count": null,
      "metadata": {
        "id": "RDoL2trS8M2B",
        "colab": {
          "base_uri": "https://localhost:8080/"
        },
        "outputId": "7ea43193-ee6b-4a97-e4c1-934b793de02a"
      },
      "outputs": [
        {
          "output_type": "stream",
          "name": "stdout",
          "text": [
            "CPU Statistics scpustats(ctx_switches=1665050, interrupts=1205067, soft_interrupts=1144273, syscalls=0)\n"
          ]
        }
      ],
      "source": [
        "print(\"CPU Statistics\", psutil.cpu_stats())"
      ]
    },
    {
      "cell_type": "code",
      "execution_count": null,
      "metadata": {
        "id": "JOjYAJ2DEbEO",
        "colab": {
          "base_uri": "https://localhost:8080/"
        },
        "outputId": "cec88317-2b0f-4b18-c9f4-4c53f0a0b539"
      },
      "outputs": [
        {
          "output_type": "stream",
          "name": "stdout",
          "text": [
            "1745652085.0\n"
          ]
        }
      ],
      "source": [
        "print(psutil.boot_time())"
      ]
    },
    {
      "cell_type": "markdown",
      "metadata": {
        "id": "1OJEcJjQEhkt"
      },
      "source": [
        " This function returns the system boot time which is expressed in seconds since the epoch."
      ]
    },
    {
      "cell_type": "markdown",
      "metadata": {
        "id": "_Y6wYXpvxIgQ"
      },
      "source": [
        "### Monitoring and Limiting Memory"
      ]
    },
    {
      "cell_type": "markdown",
      "metadata": {
        "id": "3e2qHmGAxTLw"
      },
      "source": [
        "Virtual memory is a combination of RAM and the disk space that all the processes running on the CPU use, while Swap space is the portion of virtual memory on the hard disk used by the running processes when the RAM is full."
      ]
    },
    {
      "cell_type": "markdown",
      "metadata": {
        "id": "c58Qgs0E_XVd"
      },
      "source": [
        "* total – total physical memory excluding swap.\n",
        "* available – the memory that can be given instantly to processes without the system going into swap.\n",
        "* used – memory used.\n",
        "* free – memory not used at and is readily available\n",
        "* active – memory currently in use or very recently used.\n",
        "* inactive – memory that is marked as not used.\n",
        "* buffers – cache data like file system metadata.\n",
        "* cached – cached data\n",
        "* shared – memory that may be accessed by multiple processes."
      ]
    },
    {
      "cell_type": "code",
      "execution_count": null,
      "metadata": {
        "id": "CtTSBek1-bA8",
        "colab": {
          "base_uri": "https://localhost:8080/"
        },
        "outputId": "526c4667-a0be-4477-b0d7-38184f3a52e0"
      },
      "outputs": [
        {
          "output_type": "stream",
          "name": "stdout",
          "text": [
            "svmem(total=13608370176, available=12554076160, percent=7.7, used=745426944, free=8376991744, active=767283200, inactive=4192362496, buffers=435597312, cached=4050354176, shared=1839104, slab=159789056)\n"
          ]
        }
      ],
      "source": [
        "print(psutil.virtual_memory())"
      ]
    },
    {
      "cell_type": "markdown",
      "metadata": {
        "id": "9M6Q5IYx_nIV"
      },
      "source": [
        "* total – total swap memory in bytes\n",
        "* used – used swap memory in bytes\n",
        "* free – free swap memory in bytes\n",
        "* percent – the percentage usage that is calculated as (total – available) / total * 100\n",
        "* sin – the number of bytes the system has swapped in from disk\n",
        "* sout – the number of bytes the system has swapped out from disk"
      ]
    },
    {
      "cell_type": "code",
      "execution_count": null,
      "metadata": {
        "id": "V-c5C3SP_jdi",
        "colab": {
          "base_uri": "https://localhost:8080/"
        },
        "outputId": "5f71825f-613e-47de-d8e3-cb83151c2dd4"
      },
      "outputs": [
        {
          "output_type": "stream",
          "name": "stdout",
          "text": [
            "sswap(total=0, used=0, free=0, percent=0.0, sin=0, sout=0)\n"
          ]
        }
      ],
      "source": [
        "print(psutil.swap_memory())"
      ]
    },
    {
      "cell_type": "code",
      "execution_count": null,
      "metadata": {
        "id": "75p_NTu6zBgh"
      },
      "outputs": [],
      "source": [
        "def get_size(bytes, suffix=\"B\"):\n",
        "    \"\"\"\n",
        "    Scale bytes to its proper format- KB, MB, GB, TB and PB\n",
        "    \"\"\"\n",
        "    factor = 1024\n",
        "    for unit in [\"\", \"K\", \"M\", \"G\", \"T\", \"P\"]:\n",
        "        if bytes < factor:\n",
        "            return f\"{bytes:.2f}{unit}{suffix}\"\n",
        "        bytes /= factor"
      ]
    },
    {
      "cell_type": "code",
      "execution_count": null,
      "metadata": {
        "id": "HHOeRICOT51i",
        "colab": {
          "base_uri": "https://localhost:8080/"
        },
        "outputId": "385e27cb-60b7-49ae-bf5d-662794ddbceb"
      },
      "outputs": [
        {
          "output_type": "stream",
          "name": "stdout",
          "text": [
            "Virtual memory\n",
            "Total: 12.67GB\n",
            "Available: 11.67GB\n",
            "Used: 734.55MB\n",
            "Percentage: 7.9%\n"
          ]
        }
      ],
      "source": [
        "print(\"Virtual memory\")\n",
        "svmem = psutil.virtual_memory()\n",
        "print(f\"Total: {get_size(svmem.total)}\")\n",
        "print(f\"Available: {get_size(svmem.available)}\")\n",
        "print(f\"Used: {get_size(svmem.used)}\")\n",
        "print(f\"Percentage: {svmem.percent}%\")\n"
      ]
    },
    {
      "cell_type": "code",
      "execution_count": null,
      "metadata": {
        "id": "0iCW2vU4T5y6",
        "colab": {
          "base_uri": "https://localhost:8080/"
        },
        "outputId": "74eccc18-e1ad-4670-af91-c7e5d44f718d"
      },
      "outputs": [
        {
          "output_type": "stream",
          "name": "stdout",
          "text": [
            "SWAP memory\n",
            "Total: 0.00B\n",
            "Free: 0.00B\n",
            "Used: 0.00B\n",
            "Percentage: 0.0%\n"
          ]
        }
      ],
      "source": [
        "# get the swap memory details (if exists)\n",
        "swap = psutil.swap_memory()\n",
        "print(\"SWAP memory\")\n",
        "print(f\"Total: {get_size(swap.total)}\")\n",
        "print(f\"Free: {get_size(swap.free)}\")\n",
        "print(f\"Used: {get_size(swap.used)}\")\n",
        "print(f\"Percentage: {swap.percent}%\")"
      ]
    },
    {
      "cell_type": "markdown",
      "metadata": {
        "id": "dmIexmaC1flj"
      },
      "source": [
        "### Monitoring and Limiting Hard Disk Space"
      ]
    },
    {
      "cell_type": "markdown",
      "metadata": {
        "id": "Gmg3Gj_fBDxR"
      },
      "source": [
        "This function provides the details of all mounted disk partitions as a list of tuples including device, mount point and filesystem type."
      ]
    },
    {
      "cell_type": "code",
      "execution_count": null,
      "metadata": {
        "id": "1ayZORSqBEnU",
        "colab": {
          "base_uri": "https://localhost:8080/"
        },
        "outputId": "4467d31d-ba85-4c1b-ebc2-113daf93a870"
      },
      "outputs": [
        {
          "output_type": "stream",
          "name": "stdout",
          "text": [
            "[sdiskpart(device='/dev/root', mountpoint='/usr/sbin/docker-init', fstype='ext2', opts='ro,relatime', maxfile=255, maxpath=4096), sdiskpart(device='/dev/sda1', mountpoint='/kaggle/input', fstype='ext4', opts='ro,relatime,commit=30', maxfile=255, maxpath=4096), sdiskpart(device='/dev/sda1', mountpoint='/etc/resolv.conf', fstype='ext4', opts='rw,nosuid,nodev,relatime,commit=30', maxfile=255, maxpath=4096), sdiskpart(device='/dev/sda1', mountpoint='/etc/hostname', fstype='ext4', opts='rw,nosuid,nodev,relatime,commit=30', maxfile=255, maxpath=4096), sdiskpart(device='/dev/sda1', mountpoint='/etc/hosts', fstype='ext4', opts='rw,nosuid,nodev,relatime,commit=30', maxfile=255, maxpath=4096)]\n"
          ]
        }
      ],
      "source": [
        "print(psutil.disk_partitions())"
      ]
    },
    {
      "cell_type": "markdown",
      "metadata": {
        "id": "0znGv7uNBZRu"
      },
      "source": [
        " This function gives disk usage statistics as a tuple for a given path. Total, used and free space are expressed in bytes, along with the percentage usage."
      ]
    },
    {
      "cell_type": "code",
      "execution_count": null,
      "metadata": {
        "id": "JsA7Wg6cBU-t",
        "colab": {
          "base_uri": "https://localhost:8080/"
        },
        "outputId": "76f91339-8912-418d-ed7b-b48fc33c1681"
      },
      "outputs": [
        {
          "output_type": "stream",
          "name": "stdout",
          "text": [
            "sdiskusage(total=115658190848, used=39701512192, free=75939901440, percent=34.3)\n"
          ]
        }
      ],
      "source": [
        "print(psutil.disk_usage('/'))"
      ]
    },
    {
      "cell_type": "code",
      "execution_count": null,
      "metadata": {
        "id": "sa7J9umqzfTi",
        "colab": {
          "base_uri": "https://localhost:8080/"
        },
        "outputId": "c63d62db-faa0-448a-9300-710ae198dc63"
      },
      "outputs": [
        {
          "output_type": "stream",
          "name": "stdout",
          "text": [
            "Hard Disk Information\n",
            "Partitions and Usage:\n",
            "Device: /dev/root\n",
            "Partition Mountpoint:  /usr/sbin/docker-init\n",
            "Partition File system type ext2\n",
            "Total Size:  1.93GB\n",
            "Used Space:  1.17GB\n",
            "Free hard disk Space 774.92MB\n",
            "Hard disk Used Percentage:  60.7 %\n",
            "Device: /dev/sda1\n",
            "Partition Mountpoint:  /kaggle/input\n",
            "Partition File system type ext4\n",
            "Total Size:  84.41GB\n",
            "Used Space:  65.08GB\n",
            "Free hard disk Space 19.31GB\n",
            "Hard disk Used Percentage:  77.1 %\n",
            "Device: /dev/sda1\n",
            "Partition Mountpoint:  /etc/resolv.conf\n",
            "Partition File system type ext4\n",
            "Total Size:  84.41GB\n",
            "Used Space:  65.08GB\n",
            "Free hard disk Space 19.31GB\n",
            "Hard disk Used Percentage:  77.1 %\n",
            "Device: /dev/sda1\n",
            "Partition Mountpoint:  /etc/hostname\n",
            "Partition File system type ext4\n",
            "Total Size:  84.41GB\n",
            "Used Space:  65.08GB\n",
            "Free hard disk Space 19.31GB\n",
            "Hard disk Used Percentage:  77.1 %\n",
            "Device: /dev/sda1\n",
            "Partition Mountpoint:  /etc/hosts\n",
            "Partition File system type ext4\n",
            "Total Size:  84.41GB\n",
            "Used Space:  65.08GB\n",
            "Free hard disk Space 19.31GB\n",
            "Hard disk Used Percentage:  77.1 %\n"
          ]
        }
      ],
      "source": [
        "print( \"Hard Disk Information\")\n",
        "print(\"Partitions and Usage:\")\n",
        "# get all disk partitions on the device\n",
        "partitions = psutil.disk_partitions()\n",
        "for partition in partitions:\n",
        "    print(\"Device:\",partition.device)\n",
        "    print(\"Partition Mountpoint: \",partition.mountpoint)\n",
        "    print(\"Partition File system type\",partition.fstype)\n",
        "    try:\n",
        "        partition_usage = psutil.disk_usage(partition.mountpoint)\n",
        "    except PermissionError:\n",
        "        continue\n",
        "    print(\"Total Size: \", get_size(partition_usage.total))\n",
        "    print(\"Used Space: \", get_size(partition_usage.used))\n",
        "    print(\"Free hard disk Space\", get_size(partition_usage.free))\n",
        "    print(\"Hard disk Used Percentage: \", partition_usage.percent, \"%\")\n",
        "    if(partition_usage.percent >82):\n",
        "        print(\"Disk space nearing full\")"
      ]
    },
    {
      "cell_type": "markdown",
      "metadata": {
        "id": "u8fmsdwh4F7u"
      },
      "source": [
        "### Monitoring and Limiting Network Usage"
      ]
    },
    {
      "cell_type": "markdown",
      "metadata": {
        "id": "G6GSCkFu4vQz"
      },
      "source": [
        "All network protocols are associated with a specific address family. An address family provides services like packet fragmentation and reassembly, routing, addressing, and transporting. The address family provides interprocess communication between processes that run on the same system or different systems."
      ]
    },
    {
      "cell_type": "markdown",
      "metadata": {
        "id": "CQoWeAK84yCb"
      },
      "source": [
        "An address family is normally comprised of several protocols, one per socket type."
      ]
    },
    {
      "cell_type": "markdown",
      "metadata": {
        "id": "FZqQ0Kkc42oM"
      },
      "source": [
        "Different networks address families and their purpose:\n",
        "* AF_INET: IPv4 Internet protocols\n",
        "* AF_INET6: IPv6 Internet protocols\n",
        "* AF_NETLINK: Kernel user interface device\n",
        "* AF_PACKET: Low-level packet interface"
      ]
    },
    {
      "cell_type": "markdown",
      "metadata": {
        "id": "5QIAXPV9D62q"
      },
      "source": [
        "* family – the socket family, either AF_INET or AF_INET6\n",
        "* address – the primary NIC address\n",
        "* netmask – the netmask address\n",
        "* broadcast – the broadcast address.\n",
        "* ptp – “point to point” it is the destination address on a point to point interface."
      ]
    },
    {
      "cell_type": "code",
      "execution_count": null,
      "metadata": {
        "id": "RoutNlzHD3Up",
        "colab": {
          "base_uri": "https://localhost:8080/"
        },
        "outputId": "fd8911c4-17aa-4422-e5c0-52678a39edbf"
      },
      "outputs": [
        {
          "output_type": "stream",
          "name": "stdout",
          "text": [
            "{'lo': [snicaddr(family=<AddressFamily.AF_INET: 2>, address='127.0.0.1', netmask='255.0.0.0', broadcast=None, ptp=None), snicaddr(family=<AddressFamily.AF_PACKET: 17>, address='00:00:00:00:00:00', netmask=None, broadcast=None, ptp=None)], 'eth0': [snicaddr(family=<AddressFamily.AF_INET: 2>, address='172.28.0.12', netmask='255.255.0.0', broadcast='172.28.255.255', ptp=None), snicaddr(family=<AddressFamily.AF_PACKET: 17>, address='02:42:ac:1c:00:0c', netmask=None, broadcast='ff:ff:ff:ff:ff:ff', ptp=None)]}\n"
          ]
        }
      ],
      "source": [
        "print(psutil.net_if_addrs())"
      ]
    },
    {
      "cell_type": "code",
      "execution_count": null,
      "metadata": {
        "id": "gaVwcCCwzf70",
        "colab": {
          "base_uri": "https://localhost:8080/"
        },
        "outputId": "c62ed643-12d2-4da3-89de-52c871677d36"
      },
      "outputs": [
        {
          "output_type": "stream",
          "name": "stdout",
          "text": [
            "Network Information\n",
            " Interface:  lo\n",
            " Interface:  lo\n",
            " Interface:  eth0\n",
            " Interface:  eth0\n"
          ]
        }
      ],
      "source": [
        "print( \"Network Information\")\n",
        "# get all network interfaces (virtual and physical)\n",
        "if_addrs = psutil.net_if_addrs()\n",
        "for interface_name, interface_addresses in if_addrs.items():\n",
        "    for address in interface_addresses:\n",
        "        print(\" Interface: \", interface_name)\n",
        "        if str(address.family) == 'AddressFamily.AF_INET':\n",
        "            print(\"  IP Address: \", address.address)\n",
        "            print(\"  Netmask: \", address.netmask)\n",
        "            print(\"  Broadcast IPv4: \",address.broadcast)\n",
        "        elif str(address.family) == 'AddressFamily.AF_PACKET':\n",
        "            print(\"  MAC Address: {address.address}\")\n",
        "            print(\"  Netmask: {address.netmask}\")\n",
        "            print(\"  Broadcast MAC: {address.broadcast}\")\n",
        "        elif str(address.family) == 'AddressFamily.AF_INET6':\n",
        "            print(\"  IP Address: \", address.address)\n",
        "            print(\"  Netmask: \", address.netmask)\n",
        "            print(\"  Broadcast IPv6: \",address.broadcast)"
      ]
    },
    {
      "cell_type": "markdown",
      "metadata": {
        "id": "yk2ruqSa5KcN"
      },
      "source": [
        " Return system-wide network I/O statistics like bytes sent, bytes received, incoming packets that were dropped, or outgoing packets dropped"
      ]
    },
    {
      "cell_type": "markdown",
      "metadata": {
        "id": "JfJn-bvPCvQL"
      },
      "source": [
        "* bytes_sent – number of bytes sent\n",
        "* bytes_recv – number of bytes received\n",
        "* packets_sent – number of packets sent\n",
        "* packets_recv – number of packets received\n",
        "* errin – total number of errors while receiving\n",
        "* errout – total number of errors while sending\n",
        "* dropin – total number of incoming packets which were dropped\n",
        "* dropout – total number of outgoing packets which were dropped"
      ]
    },
    {
      "cell_type": "code",
      "execution_count": null,
      "metadata": {
        "id": "i_wp0SqmCrA0",
        "colab": {
          "base_uri": "https://localhost:8080/"
        },
        "outputId": "60835145-c9f6-45a3-a4a5-962633918ff7"
      },
      "outputs": [
        {
          "output_type": "stream",
          "name": "stdout",
          "text": [
            "snetio(bytes_sent=5209896, bytes_recv=4842031, packets_sent=21934, packets_recv=22434, errin=0, errout=0, dropin=0, dropout=0)\n"
          ]
        }
      ],
      "source": [
        "print(psutil.net_io_counters())"
      ]
    },
    {
      "cell_type": "code",
      "execution_count": null,
      "metadata": {
        "id": "LHdmkaG6zgAs",
        "colab": {
          "base_uri": "https://localhost:8080/"
        },
        "outputId": "bc64528e-a3d5-4b88-c98c-6d76c8db37aa"
      },
      "outputs": [
        {
          "output_type": "stream",
          "name": "stdout",
          "text": [
            "Total Bytes Sent:  5.02MB\n",
            "Total Bytes Received:  4.66MB\n",
            "Total outgoing packets dropped:  0\n",
            "Total incoming packets dropped: 0\n",
            "Total outgoing errors:  0\n",
            "Total incoming errors: 0\n"
          ]
        }
      ],
      "source": [
        "net_io = psutil.net_io_counters()\n",
        "print(\"Total Bytes Sent: \", get_size(net_io.bytes_sent))\n",
        "print(\"Total Bytes Received: \", get_size(net_io.bytes_recv))\n",
        "print(\"Total outgoing packets dropped: \", net_io.dropin)\n",
        "print(\"Total incoming packets dropped:\", net_io.dropout)\n",
        "print(\"Total outgoing errors: \", net_io.errout)\n",
        "print(\"Total incoming errors:\", net_io.errin)"
      ]
    },
    {
      "cell_type": "markdown",
      "metadata": {
        "id": "9l8eRVJlDFrV"
      },
      "source": [
        "This function gives the list of socket connections of a system as a named tuples."
      ]
    },
    {
      "cell_type": "markdown",
      "metadata": {
        "id": "BD3MbSdUDIIk"
      },
      "source": [
        "* fd – the socket file descriptor.\n",
        "* family – the socket family, either AF_INET, AF_INET6 or AF_UNIX.\n",
        "* type – the socket type, either SOCK_STREAM, SOCK_DGRAM or SOCK_SEQPACKET.\n",
        "* laddr – the local address as a (ip, port) named tuple\n",
        "* raddr – the remote address as a (ip, port) named tuple\n",
        "* status – represents the status of a TCP connection.\n",
        "* pid – the PID of the process which opened the socket, if retrievable, else None."
      ]
    },
    {
      "cell_type": "code",
      "execution_count": null,
      "metadata": {
        "id": "gqySXOxjC_Ov",
        "colab": {
          "base_uri": "https://localhost:8080/"
        },
        "outputId": "4f6dc693-1c2d-4365-fa73-db3f731d8f43"
      },
      "outputs": [
        {
          "output_type": "stream",
          "name": "stdout",
          "text": [
            "[sconn(fd=-1, family=<AddressFamily.AF_INET: 2>, type=<SocketKind.SOCK_STREAM: 1>, laddr=addr(ip='172.28.0.12', port=6000), raddr=addr(ip='172.28.0.12', port=52010), status='TIME_WAIT', pid=None), sconn(fd=-1, family=<AddressFamily.AF_INET: 2>, type=<SocketKind.SOCK_STREAM: 1>, laddr=addr(ip='172.28.0.12', port=6000), raddr=addr(ip='172.28.0.12', port=51988), status='TIME_WAIT', pid=None), sconn(fd=-1, family=<AddressFamily.AF_INET: 2>, type=<SocketKind.SOCK_DGRAM: 2>, laddr=addr(ip='127.0.0.11', port=41281), raddr=(), status='NONE', pid=None), sconn(fd=6, family=<AddressFamily.AF_INET: 2>, type=<SocketKind.SOCK_STREAM: 1>, laddr=addr(ip='127.0.0.1', port=57817), raddr=addr(ip='127.0.0.1', port=41570), status='ESTABLISHED', pid=223), sconn(fd=28, family=<AddressFamily.AF_INET: 2>, type=<SocketKind.SOCK_STREAM: 1>, laddr=addr(ip='127.0.0.1', port=33921), raddr=(), status='LISTEN', pid=184), sconn(fd=6, family=<AddressFamily.AF_INET: 2>, type=<SocketKind.SOCK_STREAM: 1>, laddr=addr(ip='172.28.0.12', port=6000), raddr=addr(ip='172.28.0.12', port=40952), status='ESTABLISHED', pid=20), sconn(fd=4, family=<AddressFamily.AF_INET: 2>, type=<SocketKind.SOCK_STREAM: 1>, laddr=addr(ip='127.0.0.1', port=57817), raddr=(), status='LISTEN', pid=223), sconn(fd=3, family=<AddressFamily.AF_INET: 2>, type=<SocketKind.SOCK_STREAM: 1>, laddr=addr(ip='127.0.0.1', port=36321), raddr=(), status='LISTEN', pid=223), sconn(fd=-1, family=<AddressFamily.AF_INET: 2>, type=<SocketKind.SOCK_STREAM: 1>, laddr=addr(ip='172.28.0.12', port=6000), raddr=addr(ip='172.28.0.12', port=55434), status='TIME_WAIT', pid=None), sconn(fd=27, family=<AddressFamily.AF_INET: 2>, type=<SocketKind.SOCK_STREAM: 1>, laddr=addr(ip='172.28.0.12', port=9000), raddr=addr(ip='172.28.0.12', port=33750), status='ESTABLISHED', pid=88), sconn(fd=5, family=<AddressFamily.AF_INET: 2>, type=<SocketKind.SOCK_STREAM: 1>, laddr=addr(ip='127.0.0.1', port=36321), raddr=addr(ip='127.0.0.1', port=40678), status='ESTABLISHED', pid=223), sconn(fd=7, family=<AddressFamily.AF_INET: 2>, type=<SocketKind.SOCK_STREAM: 1>, laddr=addr(ip='172.28.0.12', port=40970), raddr=addr(ip='172.28.0.12', port=9000), status='ESTABLISHED', pid=20), sconn(fd=8, family=<AddressFamily.AF_INET: 2>, type=<SocketKind.SOCK_STREAM: 1>, laddr=addr(ip='172.28.0.12', port=9000), raddr=addr(ip='172.28.0.12', port=40970), status='ESTABLISHED', pid=88), sconn(fd=3, family=<AddressFamily.AF_INET: 2>, type=<SocketKind.SOCK_STREAM: 1>, laddr=addr(ip='172.28.0.12', port=6000), raddr=(), status='LISTEN', pid=20), sconn(fd=-1, family=<AddressFamily.AF_INET: 2>, type=<SocketKind.SOCK_STREAM: 1>, laddr=addr(ip='172.28.0.12', port=6000), raddr=addr(ip='172.28.0.12', port=50712), status='TIME_WAIT', pid=None), sconn(fd=-1, family=<AddressFamily.AF_INET: 2>, type=<SocketKind.SOCK_STREAM: 1>, laddr=addr(ip='127.0.0.11', port=37829), raddr=(), status='LISTEN', pid=None), sconn(fd=47, family=<AddressFamily.AF_INET: 2>, type=<SocketKind.SOCK_STREAM: 1>, laddr=addr(ip='127.0.0.1', port=41570), raddr=addr(ip='127.0.0.1', port=57817), status='ESTABLISHED', pid=184), sconn(fd=-1, family=<AddressFamily.AF_INET6: 10>, type=<SocketKind.SOCK_STREAM: 1>, laddr=addr(ip='::ffff:172.28.0.12', port=8080), raddr=addr(ip='::ffff:172.28.0.1', port=49634), status='TIME_WAIT', pid=None), sconn(fd=-1, family=<AddressFamily.AF_INET6: 10>, type=<SocketKind.SOCK_STREAM: 1>, laddr=addr(ip='::ffff:172.28.0.12', port=8080), raddr=addr(ip='::ffff:172.28.0.1', port=34320), status='TIME_WAIT', pid=None), sconn(fd=7, family=<AddressFamily.AF_INET: 2>, type=<SocketKind.SOCK_STREAM: 1>, laddr=addr(ip='172.28.0.12', port=9000), raddr=(), status='LISTEN', pid=88), sconn(fd=-1, family=<AddressFamily.AF_INET: 2>, type=<SocketKind.SOCK_STREAM: 1>, laddr=addr(ip='172.28.0.12', port=6000), raddr=addr(ip='172.28.0.12', port=35544), status='TIME_WAIT', pid=None), sconn(fd=27, family=<AddressFamily.AF_INET: 2>, type=<SocketKind.SOCK_STREAM: 1>, laddr=addr(ip='172.28.0.12', port=40952), raddr=addr(ip='172.28.0.12', port=6000), status='ESTABLISHED', pid=7), sconn(fd=9, family=<AddressFamily.AF_INET: 2>, type=<SocketKind.SOCK_STREAM: 1>, laddr=addr(ip='172.28.0.12', port=6000), raddr=addr(ip='172.28.0.1', port=56590), status='ESTABLISHED', pid=20), sconn(fd=16, family=<AddressFamily.AF_INET: 2>, type=<SocketKind.SOCK_STREAM: 1>, laddr=addr(ip='172.28.0.12', port=9000), raddr=addr(ip='172.28.0.12', port=59164), status='ESTABLISHED', pid=88), sconn(fd=-1, family=<AddressFamily.AF_INET: 2>, type=<SocketKind.SOCK_STREAM: 1>, laddr=addr(ip='172.28.0.12', port=6000), raddr=addr(ip='172.28.0.12', port=51996), status='TIME_WAIT', pid=None), sconn(fd=21, family=<AddressFamily.AF_INET6: 10>, type=<SocketKind.SOCK_STREAM: 1>, laddr=addr(ip='::', port=8080), raddr=(), status='LISTEN', pid=7), sconn(fd=28, family=<AddressFamily.AF_INET6: 10>, type=<SocketKind.SOCK_STREAM: 1>, laddr=addr(ip='::ffff:172.28.0.12', port=8080), raddr=addr(ip='::ffff:172.28.0.1', port=39920), status='ESTABLISHED', pid=7), sconn(fd=3, family=<AddressFamily.AF_INET: 2>, type=<SocketKind.SOCK_STREAM: 1>, laddr=addr(ip='127.0.0.1', port=3453), raddr=(), status='LISTEN', pid=71), sconn(fd=8, family=<AddressFamily.AF_INET: 2>, type=<SocketKind.SOCK_STREAM: 1>, laddr=addr(ip='172.28.0.12', port=59164), raddr=addr(ip='172.28.0.12', port=9000), status='ESTABLISHED', pid=20), sconn(fd=8, family=<AddressFamily.AF_INET: 2>, type=<SocketKind.SOCK_STREAM: 1>, laddr=addr(ip='127.0.0.1', port=40678), raddr=addr(ip='127.0.0.1', port=36321), status='ESTABLISHED', pid=89), sconn(fd=-1, family=<AddressFamily.AF_INET: 2>, type=<SocketKind.SOCK_STREAM: 1>, laddr=addr(ip='172.28.0.12', port=6000), raddr=addr(ip='172.28.0.12', port=55442), status='TIME_WAIT', pid=None), sconn(fd=12, family=<AddressFamily.AF_INET: 2>, type=<SocketKind.SOCK_STREAM: 1>, laddr=addr(ip='172.28.0.12', port=33750), raddr=addr(ip='172.28.0.12', port=9000), status='ESTABLISHED', pid=20), sconn(fd=-1, family=<AddressFamily.AF_INET: 2>, type=<SocketKind.SOCK_STREAM: 1>, laddr=addr(ip='172.28.0.12', port=6000), raddr=addr(ip='172.28.0.12', port=48596), status='TIME_WAIT', pid=None), sconn(fd=26, family=<AddressFamily.AF_INET6: 10>, type=<SocketKind.SOCK_STREAM: 1>, laddr=addr(ip='::ffff:172.28.0.12', port=8080), raddr=addr(ip='::ffff:172.28.0.1', port=51216), status='ESTABLISHED', pid=7), sconn(fd=30, family=<AddressFamily.AF_INET6: 10>, type=<SocketKind.SOCK_STREAM: 1>, laddr=addr(ip='::ffff:172.28.0.12', port=8080), raddr=addr(ip='::ffff:172.28.0.1', port=39940), status='ESTABLISHED', pid=7), sconn(fd=-1, family=<AddressFamily.AF_INET: 2>, type=<SocketKind.SOCK_STREAM: 1>, laddr=addr(ip='172.28.0.12', port=6000), raddr=addr(ip='172.28.0.12', port=49384), status='TIME_WAIT', pid=None)]\n"
          ]
        }
      ],
      "source": [
        "print(psutil.net_connections())"
      ]
    },
    {
      "cell_type": "markdown",
      "metadata": {
        "id": "22YK3vxQE_p4"
      },
      "source": [
        "### Exploring Multiprocessing"
      ]
    },
    {
      "cell_type": "markdown",
      "metadata": {
        "id": "M8zLCxSY8Xzu"
      },
      "source": [
        "One of the key objectives for a developer is to make the code run faster. However, many tasks take time to be processed, even on fast computers with several cores. Partially it happens because of Python GIL (Python Global Interpreter Lock) that allows only one thread to take control over Python Interpreter, so we end up never using the whole power of the machine by just executing a function or method."
      ]
    },
    {
      "cell_type": "markdown",
      "metadata": {
        "id": "6pGDCf348a3z"
      },
      "source": [
        "### Comparison between synchronous and multiprocessing code."
      ]
    },
    {
      "cell_type": "markdown",
      "metadata": {
        "id": "YbhIW3XI8eHf"
      },
      "source": [
        "The test in this case is a simple HTTP GET request from the public API, https://httpbin.org. They offer many API services but the one used here is `uuid`, which simply returns a unique 36 character string every time you make a GET request."
      ]
    },
    {
      "cell_type": "markdown",
      "metadata": {
        "id": "wrXrjNj48hDB"
      },
      "source": [
        "Data fetching from the Internet can be done in various ways. Here to keep things simple `requests` module is used."
      ]
    },
    {
      "cell_type": "markdown",
      "metadata": {
        "id": "63DkUU0XpteE"
      },
      "source": [
        "## Synchronous code"
      ]
    },
    {
      "cell_type": "markdown",
      "metadata": {
        "id": "9J35QBp0qcUG"
      },
      "source": [
        "Synchronous code is a sequence of tasks that are done in a synchronous fashion or one after the other. What that means is that before task 3 is started, the machine has to wait for task 2 to finish, but prior to that, wait for task 1 to finish. This is not an efficient way of doing things but sometimes there is just no other way. Synchronous code is quite easy to understand and easy to write."
      ]
    },
    {
      "cell_type": "code",
      "execution_count": null,
      "metadata": {
        "id": "7E4HdHC1sSKx",
        "colab": {
          "base_uri": "https://localhost:8080/"
        },
        "outputId": "d6bb3702-309c-47db-f164-290ea14fed06"
      },
      "outputs": [
        {
          "output_type": "stream",
          "name": "stdout",
          "text": [
            "It took 71.24 s to finish the request\n"
          ]
        }
      ],
      "source": [
        "import time\n",
        "import requests\n",
        "\n",
        "URL = 'https://httpbin.org/uuid'\n",
        "\n",
        "t0 = time.time()\n",
        "\n",
        "for _ in range(300):\n",
        "    response = requests.get(URL)\n",
        "\n",
        "print(f'It took {time.time() - t0:.2f} s to finish the request')"
      ]
    },
    {
      "cell_type": "markdown",
      "metadata": {
        "id": "7BBFMWRNqiCo"
      },
      "source": [
        "What the code does is that it starts 300 GET requests to the API in question and returns the result. Before starting the requests a time variable t0 is initialized that holds the start time. After exiting the 'for' loop, the time it took to finish all the requests is displayed."
      ]
    },
    {
      "cell_type": "markdown",
      "metadata": {
        "id": "EiACNdqTqnWv"
      },
      "source": [
        "## Multiprocessing code"
      ]
    },
    {
      "cell_type": "markdown",
      "metadata": {
        "id": "dRftjIWXo2Tc"
      },
      "source": [
        "A multiprocessing code is able to leverage modern CPUs by [spawning processes](https://docs.python.org/3/library/multiprocessing.html#contexts-and-start-methods). What that means is that if there are 8 cores in the CPU, 8 different processes can be spawned to attempt 8 different tasks simultaneously. An additional module called `ProcessPoolExecutor` is used here. It is a subclass that executes calls asynchronously using a pool object. One benefit of using a process pool executor is that it returns a generator object instead of a simple list containing the results. It is possible to iterate over results we can simple call __next__ on it."
      ]
    },
    {
      "cell_type": "code",
      "execution_count": null,
      "metadata": {
        "id": "GZWOJRvHp2G-",
        "colab": {
          "base_uri": "https://localhost:8080/"
        },
        "outputId": "b1540bad-9a48-4b62-9115-20e6d9316837"
      },
      "outputs": [
        {
          "output_type": "stream",
          "name": "stdout",
          "text": [
            "It took 45.57 secs to finish multiprocessing\n"
          ]
        }
      ],
      "source": [
        "import time\n",
        "import requests\n",
        "from concurrent.futures import ProcessPoolExecutor\n",
        "\n",
        "def fetch(url):\n",
        "    response = requests.get(url)\n",
        "    return response.json()\n",
        "\n",
        "if __name__ == '__main__':\n",
        "\n",
        "    URL = 'https://httpbin.org/uuid'\n",
        "    t0 = time.time()\n",
        "\n",
        "    with ProcessPoolExecutor() as executor:\n",
        "        future = executor.map(fetch, [URL for _ in range(300)])\n",
        "\n",
        "    print(f'It took {time.time() - t0:.2f} secs to finish multiprocessing')"
      ]
    },
    {
      "cell_type": "markdown",
      "metadata": {
        "id": "94iE25STq9ai"
      },
      "source": [
        "As seen from the above results, there is quite an improvement with few lines of code, in comparison with synchronous results."
      ]
    },
    {
      "cell_type": "markdown",
      "metadata": {
        "id": "B7kwh3ssbYs_"
      },
      "source": [
        "### Please answer the questions below to complete the experiment:"
      ]
    },
    {
      "cell_type": "code",
      "execution_count": null,
      "metadata": {
        "id": "HoJstaBoHkQL"
      },
      "outputs": [],
      "source": [
        "#@title Which of the following describes spawning? { run: \"auto\", form-width: \"500px\", display-mode: \"form\" }\n",
        "Answer = \"The parent process starts a fresh Python interpreter process. The child process will only inherit those resources necessary to run the process object’s run() method\" #@param [\"\", \"The parent process starts a fresh Python interpreter process. The child process will only inherit those resources necessary to run the process object’s run() method\", \"The child process, when it begins, is effectively identical to the parent process. All resources of the parent are inherited by the child process\", \"A server process is started. From then on, whenever a new process is needed, the parent process connects to the server and requests that it fork a new process\"]"
      ]
    },
    {
      "cell_type": "code",
      "execution_count": null,
      "metadata": {
        "id": "WSenbIG2SVzb"
      },
      "outputs": [],
      "source": [
        "#@title How was the experiment? { run: \"auto\", form-width: \"500px\", display-mode: \"form\" }\n",
        "Complexity = \"Good, But Not Challenging for me\" #@param [\"\",\"Too Simple, I am wasting time\", \"Good, But Not Challenging for me\", \"Good and Challenging for me\", \"Was Tough, but I did it\", \"Too Difficult for me\"]\n"
      ]
    },
    {
      "cell_type": "code",
      "execution_count": null,
      "metadata": {
        "id": "dfoWryqWSZ51"
      },
      "outputs": [],
      "source": [
        "#@title If it was too easy, what more would you have liked to be added? If it was very difficult, what would you have liked to have been removed? { run: \"auto\", display-mode: \"form\" }\n",
        "Additional = \"I know PSUtil and basics of threads and programming - so found this easy\" #@param {type:\"string\"}\n"
      ]
    },
    {
      "cell_type": "code",
      "execution_count": null,
      "metadata": {
        "id": "5W3mKx7ZSdQJ"
      },
      "outputs": [],
      "source": [
        "#@title Can you identify the concepts from the lecture which this experiment covered? { run: \"auto\", vertical-output: true, display-mode: \"form\" }\n",
        "Concepts = \"Yes\" #@param [\"\",\"Yes\", \"No\"]\n"
      ]
    },
    {
      "cell_type": "code",
      "execution_count": null,
      "metadata": {
        "id": "jrSL7a8xSqZp"
      },
      "outputs": [],
      "source": [
        "#@title  Text and image description/explanation and code comments within the experiment: { run: \"auto\", vertical-output: true, display-mode: \"form\" }\n",
        "Comments = \"Very Useful\" #@param [\"\",\"Very Useful\", \"Somewhat Useful\", \"Not Useful\", \"Didn't use\"]\n"
      ]
    },
    {
      "cell_type": "code",
      "execution_count": null,
      "metadata": {
        "id": "2PhHCHJ_SwgY"
      },
      "outputs": [],
      "source": [
        "#@title Mentor Support: { run: \"auto\", vertical-output: true, display-mode: \"form\" }\n",
        "Mentor_support = \"Didn't use\" #@param [\"\",\"Very Useful\", \"Somewhat Useful\", \"Not Useful\", \"Didn't use\"]\n"
      ]
    },
    {
      "cell_type": "code",
      "execution_count": null,
      "metadata": {
        "cellView": "form",
        "id": "NbEVWeY_bhez",
        "colab": {
          "base_uri": "https://localhost:8080/"
        },
        "outputId": "25b4012a-c78b-47a1-cf86-9f900f8aea6f"
      },
      "outputs": [
        {
          "output_type": "stream",
          "name": "stdout",
          "text": [
            "Your submission is successful.\n",
            "Ref Id: 4551\n",
            "Date of submission:  26 Apr 2025\n",
            "Time of submission:  13:32:38\n",
            "View your submissions: https://learn-iisc.talentsprint.com/notebook_submissions\n"
          ]
        }
      ],
      "source": [
        "#@title Run this cell to submit your notebook for grading { vertical-output: true }\n",
        "try:\n",
        "  if submission_id:\n",
        "      return_id = submit_notebook()\n",
        "      if return_id : submission_id = return_id\n",
        "  else:\n",
        "      print(\"Please complete the setup first.\")\n",
        "except NameError:\n",
        "  print (\"Please complete the setup first.\")"
      ]
    }
  ],
  "metadata": {
    "colab": {
      "provenance": []
    },
    "kernelspec": {
      "display_name": "Python 3",
      "name": "python3"
    },
    "language_info": {
      "name": "python"
    }
  },
  "nbformat": 4,
  "nbformat_minor": 0
}