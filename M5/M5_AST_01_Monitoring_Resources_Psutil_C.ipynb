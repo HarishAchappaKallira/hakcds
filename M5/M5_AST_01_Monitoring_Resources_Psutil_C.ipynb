{
  "cells": [
    {
      "cell_type": "markdown",
      "metadata": {
        "id": "5hEAs4TxQfpO"
      },
      "source": [
        "# Advanced Certification Program in Computational Data Science\n",
        "## A program by IISc and TalentSprint\n",
        "### Assignment 1: Monitoring Resources Using Psutil"
      ]
    },
    {
      "cell_type": "markdown",
      "metadata": {
        "id": "rXUi1yR6QpBI"
      },
      "source": [
        "## Learning Objectives"
      ]
    },
    {
      "cell_type": "markdown",
      "metadata": {
        "id": "spgmBDk4QsxR"
      },
      "source": [
        "At the end of the experiment, you will be able to:\n",
        "\n",
        "- Understand, what does monitoring your device mean\n",
        "- Explore various functions of `psutil` package\n",
        "- Explore `multiprocessing` package\n",
        "- Evaluate the advantage of parallelism using Psutil"
      ]
    },
    {
      "cell_type": "code",
      "execution_count": null,
      "metadata": {
        "cellView": "form",
        "id": "bNdzwIB3MzCS"
      },
      "outputs": [],
      "source": [
        "#@title Walkthrough Video\n",
        "from IPython.display import HTML\n",
        "HTML(\"\"\"<video width=\"420\" height=\"240\" controls>\n",
        "<source src=\"https://cdn.chn.talentsprint.com/content/Monitoring_Resources_Psutil.mp4\">\n",
        "</video>\"\"\")"
      ]
    },
    {
      "cell_type": "markdown",
      "metadata": {
        "id": "S1hRsonEe-ab"
      },
      "source": [
        "### What does monitoring your device mean?"
      ]
    },
    {
      "cell_type": "markdown",
      "metadata": {
        "id": "S43SA47Ze_-R"
      },
      "source": [
        "It means to keep track of various resources in the system and their utilization\n",
        "\n",
        "\n",
        "Resources such as:\n",
        "- CPU\n",
        "- GPU\n",
        "- Memory (RAM, Swap space, and Hard disk space)\n",
        "- Disks\n",
        "- Network\n",
        "- Sensors"
      ]
    },
    {
      "cell_type": "markdown",
      "metadata": {
        "id": "I4gh7rJlgC7g"
      },
      "source": [
        "### Why do we want to monitor various resources?"
      ]
    },
    {
      "cell_type": "markdown",
      "metadata": {
        "id": "YXCAQ_engE0v"
      },
      "source": [
        "1. Monitoring and measuring allows us to understand resource allocation better\n",
        "2. Monitoring helps to regularly evaluate the performance of the critical system resources.\n",
        "3. Helps to identify the process that is using the maximum resources.\n",
        "4. It helps to evaluate if the current system's resources are sufficient to execute a particular task.\n",
        "5. To reduce escalation of issues."
      ]
    },
    {
      "cell_type": "markdown",
      "metadata": {
        "id": "jBJsQwE8hsA6"
      },
      "source": [
        "### Psutil"
      ]
    },
    {
      "cell_type": "markdown",
      "metadata": {
        "id": "c8IhKM0qhuRj"
      },
      "source": [
        "Psutil is a Python cross-platform library used to access system details and process utilities.\n",
        "This library is used for system monitoring, profiling, limiting process resources, and the management of running processes.\n",
        "\n",
        "Click [here](https://pypi.org/project/psutil/) to proceed to the official documentation of Psutil."
      ]
    },
    {
      "cell_type": "markdown",
      "metadata": {
        "id": "THfwo-6vLD_N"
      },
      "source": [
        "Let us explore various functions of Psutil."
      ]
    },
    {
      "cell_type": "markdown",
      "metadata": {
        "id": "whKnUjWyQ3Oy"
      },
      "source": [
        "### Setup Steps:"
      ]
    },
    {
      "cell_type": "code",
      "execution_count": null,
      "metadata": {
        "id": "a0lOWPrrRDNp"
      },
      "outputs": [],
      "source": [
        "#@title Please enter your registration id to start: { run: \"auto\", display-mode: \"form\" }\n",
        "Id = \"2417833\" #@param {type:\"string\"}"
      ]
    },
    {
      "cell_type": "code",
      "execution_count": null,
      "metadata": {
        "id": "-EhywUXcRJnS"
      },
      "outputs": [],
      "source": [
        "#@title Please enter your password (your registered phone number) to continue: { run: \"auto\", display-mode: \"form\" }\n",
        "password = \"9840913286\" #@param {type:\"string\"}"
      ]
    },
    {
      "cell_type": "code",
      "execution_count": null,
      "metadata": {
        "cellView": "form",
        "colab": {
          "base_uri": "https://localhost:8080/",
          "height": 34
        },
        "id": "ngDFdwCARQhS",
        "outputId": "c83bef7b-a28a-45b6-8a8c-853e588d200c"
      },
      "outputs": [
        {
          "data": {
            "text/html": [
              "<script src=\"https://dashboard.talentsprint.com/aiml/record_ip.html?traineeId=2417833&recordId=4551\"></script>"
            ],
            "text/plain": [
              "<IPython.core.display.HTML object>"
            ]
          },
          "metadata": {},
          "output_type": "display_data"
        },
        {
          "name": "stdout",
          "output_type": "stream",
          "text": [
            "Setup completed successfully\n"
          ]
        }
      ],
      "source": [
        "#@title Run this cell to complete the setup for this Notebook\n",
        "from IPython import get_ipython\n",
        "\n",
        "ipython = get_ipython()\n",
        "\n",
        "notebook= \"M5_AST_01_Monitoring_Resources_Psutil_C\" #name of the notebook\n",
        "\n",
        "def setup():\n",
        "#  ipython.magic(\"sx pip3 install torch\")\n",
        "    from IPython.display import HTML, display\n",
        "    display(HTML('<script src=\"https://dashboard.talentsprint.com/aiml/record_ip.html?traineeId={0}&recordId={1}\"></script>'.format(getId(),submission_id)))\n",
        "    print(\"Setup completed successfully\")\n",
        "    return\n",
        "\n",
        "def submit_notebook():\n",
        "    ipython.magic(\"notebook -e \"+ notebook + \".ipynb\")\n",
        "\n",
        "    import requests, json, base64, datetime\n",
        "\n",
        "    url = \"https://dashboard.talentsprint.com/xp/app/save_notebook_attempts\"\n",
        "    if not submission_id:\n",
        "      data = {\"id\" : getId(), \"notebook\" : notebook, \"mobile\" : getPassword()}\n",
        "      r = requests.post(url, data = data)\n",
        "      r = json.loads(r.text)\n",
        "\n",
        "      if r[\"status\"] == \"Success\":\n",
        "          return r[\"record_id\"]\n",
        "      elif \"err\" in r:\n",
        "        print(r[\"err\"])\n",
        "        return None\n",
        "      else:\n",
        "        print (\"Something is wrong, the notebook will not be submitted for grading\")\n",
        "        return None\n",
        "\n",
        "    elif getAnswer() and getComplexity() and getAdditional() and getConcepts() and getComments() and getMentorSupport():\n",
        "      f = open(notebook + \".ipynb\", \"rb\")\n",
        "      file_hash = base64.b64encode(f.read())\n",
        "\n",
        "      data = {\"complexity\" : Complexity, \"additional\" :Additional,\n",
        "              \"concepts\" : Concepts, \"record_id\" : submission_id,\n",
        "              \"answer\" : Answer, \"id\" : Id, \"file_hash\" : file_hash,\n",
        "              \"notebook\" : notebook,\n",
        "              \"feedback_experiments_input\" : Comments,\n",
        "              \"feedback_mentor_support\": Mentor_support}\n",
        "      r = requests.post(url, data = data)\n",
        "      r = json.loads(r.text)\n",
        "      if \"err\" in r:\n",
        "        print(r[\"err\"])\n",
        "        return None\n",
        "      else:\n",
        "        print(\"Your submission is successful.\")\n",
        "        print(\"Ref Id:\", submission_id)\n",
        "        print(\"Date of submission: \", r[\"date\"])\n",
        "        print(\"Time of submission: \", r[\"time\"])\n",
        "        print(\"View your submissions: https://learn-iisc.talentsprint.com/notebook_submissions\")\n",
        "        #print(\"For any queries/discrepancies, please connect with mentors through the chat icon in LMS dashboard.\")\n",
        "        return submission_id\n",
        "    else: submission_id\n",
        "\n",
        "\n",
        "def getAdditional():\n",
        "  try:\n",
        "    if not Additional:\n",
        "      raise NameError\n",
        "    else:\n",
        "      return Additional\n",
        "  except NameError:\n",
        "    print (\"Please answer Additional Question\")\n",
        "    return None\n",
        "\n",
        "def getComplexity():\n",
        "  try:\n",
        "    if not Complexity:\n",
        "      raise NameError\n",
        "    else:\n",
        "      return Complexity\n",
        "  except NameError:\n",
        "    print (\"Please answer Complexity Question\")\n",
        "    return None\n",
        "\n",
        "def getConcepts():\n",
        "  try:\n",
        "    if not Concepts:\n",
        "      raise NameError\n",
        "    else:\n",
        "      return Concepts\n",
        "  except NameError:\n",
        "    print (\"Please answer Concepts Question\")\n",
        "    return None\n",
        "\n",
        "\n",
        "# def getWalkthrough():\n",
        "#   try:\n",
        "#     if not Walkthrough:\n",
        "#       raise NameError\n",
        "#     else:\n",
        "#       return Walkthrough\n",
        "#   except NameError:\n",
        "#     print (\"Please answer Walkthrough Question\")\n",
        "#     return None\n",
        "\n",
        "def getComments():\n",
        "  try:\n",
        "    if not Comments:\n",
        "      raise NameError\n",
        "    else:\n",
        "      return Comments\n",
        "  except NameError:\n",
        "    print (\"Please answer Comments Question\")\n",
        "    return None\n",
        "\n",
        "\n",
        "def getMentorSupport():\n",
        "  try:\n",
        "    if not Mentor_support:\n",
        "      raise NameError\n",
        "    else:\n",
        "      return Mentor_support\n",
        "  except NameError:\n",
        "    print (\"Please answer Mentor support Question\")\n",
        "    return None\n",
        "\n",
        "def getAnswer():\n",
        "  try:\n",
        "    if not Answer:\n",
        "      raise NameError\n",
        "    else:\n",
        "      return Answer\n",
        "  except NameError:\n",
        "    print (\"Please answer Question\")\n",
        "    return None\n",
        "\n",
        "\n",
        "def getId():\n",
        "  try:\n",
        "    return Id if Id else None\n",
        "  except NameError:\n",
        "    return None\n",
        "\n",
        "def getPassword():\n",
        "  try:\n",
        "    return password if password else None\n",
        "  except NameError:\n",
        "    return None\n",
        "\n",
        "submission_id = None\n",
        "### Setup\n",
        "if getPassword() and getId():\n",
        "  submission_id = submit_notebook()\n",
        "  if submission_id:\n",
        "    setup()\n",
        "else:\n",
        "  print (\"Please complete Id and Password cells before running setup\")\n",
        "\n"
      ]
    },
    {
      "cell_type": "markdown",
      "metadata": {
        "id": "MyQKyEYTRur0"
      },
      "source": [
        "### Import required packages"
      ]
    },
    {
      "cell_type": "code",
      "execution_count": 2,
      "metadata": {
        "id": "bS5lt3DVSTAo"
      },
      "outputs": [],
      "source": [
        "# Importing libraries\n",
        "import psutil\n",
        "import platform"
      ]
    },
    {
      "cell_type": "markdown",
      "metadata": {
        "id": "OGlHC1XwM9oO"
      },
      "source": [
        "### System profile\n",
        "\n",
        "\n"
      ]
    },
    {
      "cell_type": "markdown",
      "metadata": {
        "id": "OTaqBW63yaUW"
      },
      "source": [
        "Here we will explore the Psutil functions that helps us explore about the system."
      ]
    },
    {
      "cell_type": "markdown",
      "metadata": {
        "id": "0dQu-hk6NC1Q"
      },
      "source": [
        "Profile your system to know the system name, OS version, if the system is a 64-bit architecture or 32-bit architecture, number of physical and virtual cores, and the max and min frequency of the CPU."
      ]
    },
    {
      "cell_type": "code",
      "execution_count": 2,
      "metadata": {
        "colab": {
          "base_uri": "https://localhost:8080/"
        },
        "id": "LTDe0WqfTNxM",
        "outputId": "21e2add3-38bd-43d4-a6f7-ee15a25fd10e"
      },
      "outputs": [
        {
          "name": "stdout",
          "output_type": "stream",
          "text": [
            "System: Darwin\n"
          ]
        }
      ],
      "source": [
        "#Windows or Linux\n",
        "uname = platform.uname()\n",
        "print(f\"System: {uname.system}\")"
      ]
    },
    {
      "cell_type": "code",
      "execution_count": 3,
      "metadata": {
        "colab": {
          "base_uri": "https://localhost:8080/"
        },
        "id": "oASnVEpxTd1L",
        "outputId": "33dfb3e1-ece4-497c-c185-88f566d3e15d"
      },
      "outputs": [
        {
          "name": "stdout",
          "output_type": "stream",
          "text": [
            "Node Name: Achappas-MacBook-Pro.local\n"
          ]
        }
      ],
      "source": [
        "# System name\n",
        "print(f\"Node Name: {uname.node}\")"
      ]
    },
    {
      "cell_type": "code",
      "execution_count": 4,
      "metadata": {
        "colab": {
          "base_uri": "https://localhost:8080/"
        },
        "id": "OaJZB4mgTmwC",
        "outputId": "afaa6ab8-52f9-4209-af38-fd3464e63b36"
      },
      "outputs": [
        {
          "name": "stdout",
          "output_type": "stream",
          "text": [
            "Release: 23.2.0\n"
          ]
        }
      ],
      "source": [
        "# OS release version like  10(Windows) or 5.4.0-72-generic(linux)\n",
        "print(f\"Release: {uname.release}\")"
      ]
    },
    {
      "cell_type": "code",
      "execution_count": 5,
      "metadata": {
        "colab": {
          "base_uri": "https://localhost:8080/"
        },
        "id": "ltrJxgASTrmJ",
        "outputId": "509a9f96-4f70-4a2d-db74-2c3b06a77a26"
      },
      "outputs": [
        {
          "name": "stdout",
          "output_type": "stream",
          "text": [
            "Version: Darwin Kernel Version 23.2.0: Wed Nov 15 21:54:55 PST 2023; root:xnu-10002.61.3~2/RELEASE_ARM64_T8122\n"
          ]
        }
      ],
      "source": [
        "print(f\"Version: {uname.version}\")"
      ]
    },
    {
      "cell_type": "code",
      "execution_count": 6,
      "metadata": {
        "colab": {
          "base_uri": "https://localhost:8080/"
        },
        "id": "8xVRnYS4Tvbd",
        "outputId": "988e77e5-25e1-4d7d-b21f-9c4696039c5f"
      },
      "outputs": [
        {
          "name": "stdout",
          "output_type": "stream",
          "text": [
            "Machine: arm64\n"
          ]
        }
      ],
      "source": [
        "# machine can be AMD64 or x86-64\n",
        "print(f\"Machine: {uname.machine}\")"
      ]
    },
    {
      "cell_type": "code",
      "execution_count": 7,
      "metadata": {
        "colab": {
          "base_uri": "https://localhost:8080/"
        },
        "id": "fIYZtCa3T1Xt",
        "outputId": "79017d2d-7983-4a5a-b624-50fdc9486f23"
      },
      "outputs": [
        {
          "name": "stdout",
          "output_type": "stream",
          "text": [
            "Processor: arm\n"
          ]
        }
      ],
      "source": [
        "#  Intel64 Family 6 or x86_64\n",
        "print(f\"Processor: {uname.processor}\")"
      ]
    },
    {
      "cell_type": "code",
      "execution_count": 8,
      "metadata": {
        "colab": {
          "base_uri": "https://localhost:8080/"
        },
        "id": "oFQ1-bP33LKT",
        "outputId": "95b2f59a-ebe1-4a3c-9d6a-083d03500e4a"
      },
      "outputs": [
        {
          "name": "stdout",
          "output_type": "stream",
          "text": [
            "Physical cores: 8\n"
          ]
        }
      ],
      "source": [
        "#Number of physical cores\n",
        "print(\"Physical cores:\", psutil.cpu_count(logical=False))"
      ]
    },
    {
      "cell_type": "code",
      "execution_count": 9,
      "metadata": {
        "colab": {
          "base_uri": "https://localhost:8080/"
        },
        "id": "62_JA_gx3aoJ",
        "outputId": "795c6110-8c7b-4be0-ffa8-2b9af3c71ffd"
      },
      "outputs": [
        {
          "name": "stdout",
          "output_type": "stream",
          "text": [
            "Total cores: 8\n"
          ]
        }
      ],
      "source": [
        "print(\"Total cores:\", psutil.cpu_count(logical=True))"
      ]
    },
    {
      "cell_type": "markdown",
      "metadata": {
        "id": "wxT98sb37UsO"
      },
      "source": [
        "* user – time spent by normal processes executing in user mode.\n",
        "* system – time spent by processes executing in kernel mode.\n",
        "* idle – time when system was idle.\n",
        "* nice – time spent by priority processes executing in user mode.\n",
        "* iowait – time spent waiting for I/O to complete. This is not accounted in idle time counter.\n",
        "* irq – time spent for servicing hardware interrupts.\n",
        "* softirq – time spent for servicing software interrupts.\n",
        "* steal – time spent by other operating systems running in a virtualized environment.\n",
        "* guest – time spent running a virtual CPU for guest operating systems under the control of the Linux kernel."
      ]
    },
    {
      "cell_type": "code",
      "execution_count": 10,
      "metadata": {
        "colab": {
          "base_uri": "https://localhost:8080/"
        },
        "id": "h-WVLHPQ7GjP",
        "outputId": "a18a6dc3-aca5-4b84-a971-57ec17f1e5ac"
      },
      "outputs": [
        {
          "name": "stdout",
          "output_type": "stream",
          "text": [
            "scputimes(user=26941.81, nice=0.0, system=15071.44, idle=424784.13)\n"
          ]
        }
      ],
      "source": [
        "print(psutil.cpu_times())"
      ]
    },
    {
      "cell_type": "markdown",
      "metadata": {
        "id": "omjty3C0760v"
      },
      "source": [
        "This function calculates the current system-wide percentage CPU utilization. It is recommended to provide time interval (seconds) as parameter to the function over which the average CPU usage will be calculated; ignoring the interval parameter could result in high variation in usage values."
      ]
    },
    {
      "cell_type": "code",
      "execution_count": 3,
      "metadata": {
        "colab": {
          "base_uri": "https://localhost:8080/"
        },
        "id": "b_5uSgda7uYY",
        "outputId": "59a2a064-6a05-4966-a5ad-38f1a3520127"
      },
      "outputs": [
        {
          "name": "stdout",
          "output_type": "stream",
          "text": [
            "11.0\n"
          ]
        }
      ],
      "source": [
        "print(psutil.cpu_percent(1))"
      ]
    },
    {
      "cell_type": "markdown",
      "metadata": {
        "id": "i6JwFHPv8TTX"
      },
      "source": [
        "* ctx_switches – number of context switches since boot.\n",
        "* interrupts – number of interrupts since boot.\n",
        "* soft_interrupts – number of software interrupts since boot.\n",
        "* syscalls – number of system calls since boot. Always set to 0 in Ubuntu."
      ]
    },
    {
      "cell_type": "code",
      "execution_count": 4,
      "metadata": {
        "colab": {
          "base_uri": "https://localhost:8080/"
        },
        "id": "RDoL2trS8M2B",
        "outputId": "7ea43193-ee6b-4a97-e4c1-934b793de02a"
      },
      "outputs": [
        {
          "name": "stdout",
          "output_type": "stream",
          "text": [
            "CPU Statistics scpustats(ctx_switches=7811, interrupts=86851, soft_interrupts=3684119, syscalls=149396)\n"
          ]
        }
      ],
      "source": [
        "print(\"CPU Statistics\", psutil.cpu_stats())"
      ]
    },
    {
      "cell_type": "code",
      "execution_count": 13,
      "metadata": {
        "colab": {
          "base_uri": "https://localhost:8080/"
        },
        "id": "JOjYAJ2DEbEO",
        "outputId": "cec88317-2b0f-4b18-c9f4-4c53f0a0b539"
      },
      "outputs": [
        {
          "name": "stdout",
          "output_type": "stream",
          "text": [
            "1745658752.0\n"
          ]
        }
      ],
      "source": [
        "print(psutil.boot_time())"
      ]
    },
    {
      "cell_type": "markdown",
      "metadata": {
        "id": "1OJEcJjQEhkt"
      },
      "source": [
        " This function returns the system boot time which is expressed in seconds since the epoch."
      ]
    },
    {
      "cell_type": "markdown",
      "metadata": {
        "id": "_Y6wYXpvxIgQ"
      },
      "source": [
        "### Monitoring and Limiting Memory"
      ]
    },
    {
      "cell_type": "markdown",
      "metadata": {
        "id": "3e2qHmGAxTLw"
      },
      "source": [
        "Virtual memory is a combination of RAM and the disk space that all the processes running on the CPU use, while Swap space is the portion of virtual memory on the hard disk used by the running processes when the RAM is full."
      ]
    },
    {
      "cell_type": "markdown",
      "metadata": {
        "id": "c58Qgs0E_XVd"
      },
      "source": [
        "* total – total physical memory excluding swap.\n",
        "* available – the memory that can be given instantly to processes without the system going into swap.\n",
        "* used – memory used.\n",
        "* free – memory not used at and is readily available\n",
        "* active – memory currently in use or very recently used.\n",
        "* inactive – memory that is marked as not used.\n",
        "* buffers – cache data like file system metadata.\n",
        "* cached – cached data\n",
        "* shared – memory that may be accessed by multiple processes."
      ]
    },
    {
      "cell_type": "code",
      "execution_count": 14,
      "metadata": {
        "colab": {
          "base_uri": "https://localhost:8080/"
        },
        "id": "CtTSBek1-bA8",
        "outputId": "526c4667-a0be-4477-b0d7-38184f3a52e0"
      },
      "outputs": [
        {
          "name": "stdout",
          "output_type": "stream",
          "text": [
            "svmem(total=8589934592, available=1584316416, percent=81.6, used=3203727360, free=90341376, active=1501609984, inactive=1491075072, wired=1702117376)\n"
          ]
        }
      ],
      "source": [
        "print(psutil.virtual_memory())"
      ]
    },
    {
      "cell_type": "markdown",
      "metadata": {
        "id": "9M6Q5IYx_nIV"
      },
      "source": [
        "* total – total swap memory in bytes\n",
        "* used – used swap memory in bytes\n",
        "* free – free swap memory in bytes\n",
        "* percent – the percentage usage that is calculated as (total – available) / total * 100\n",
        "* sin – the number of bytes the system has swapped in from disk\n",
        "* sout – the number of bytes the system has swapped out from disk"
      ]
    },
    {
      "cell_type": "code",
      "execution_count": 15,
      "metadata": {
        "colab": {
          "base_uri": "https://localhost:8080/"
        },
        "id": "V-c5C3SP_jdi",
        "outputId": "5f71825f-613e-47de-d8e3-cb83151c2dd4"
      },
      "outputs": [
        {
          "name": "stdout",
          "output_type": "stream",
          "text": [
            "sswap(total=1073741824, used=476905472, free=596836352, percent=44.4, sin=82355847168, sout=2189803520)\n"
          ]
        }
      ],
      "source": [
        "print(psutil.swap_memory())"
      ]
    },
    {
      "cell_type": "code",
      "execution_count": 16,
      "metadata": {
        "id": "75p_NTu6zBgh"
      },
      "outputs": [],
      "source": [
        "def get_size(bytes, suffix=\"B\"):\n",
        "    \"\"\"\n",
        "    Scale bytes to its proper format- KB, MB, GB, TB and PB\n",
        "    \"\"\"\n",
        "    factor = 1024\n",
        "    for unit in [\"\", \"K\", \"M\", \"G\", \"T\", \"P\"]:\n",
        "        if bytes < factor:\n",
        "            return f\"{bytes:.2f}{unit}{suffix}\"\n",
        "        bytes /= factor"
      ]
    },
    {
      "cell_type": "code",
      "execution_count": 18,
      "metadata": {
        "colab": {
          "base_uri": "https://localhost:8080/"
        },
        "id": "HHOeRICOT51i",
        "outputId": "385e27cb-60b7-49ae-bf5d-662794ddbceb"
      },
      "outputs": [
        {
          "name": "stdout",
          "output_type": "stream",
          "text": [
            "Virtual memory\n",
            "Total: 8.00GB\n",
            "Available: 1.44GB\n",
            "Used: 2.95GB\n",
            "Percentage: 82.0%\n"
          ]
        }
      ],
      "source": [
        "print(\"Virtual memory\")\n",
        "svmem = psutil.virtual_memory()\n",
        "print(f\"Total: {get_size(svmem.total)}\")\n",
        "print(f\"Available: {get_size(svmem.available)}\")\n",
        "print(f\"Used: {get_size(svmem.used)}\")\n",
        "print(f\"Percentage: {svmem.percent}%\")\n"
      ]
    },
    {
      "cell_type": "code",
      "execution_count": 19,
      "metadata": {
        "colab": {
          "base_uri": "https://localhost:8080/"
        },
        "id": "0iCW2vU4T5y6",
        "outputId": "74eccc18-e1ad-4670-af91-c7e5d44f718d"
      },
      "outputs": [
        {
          "name": "stdout",
          "output_type": "stream",
          "text": [
            "SWAP memory\n",
            "Total: 1.00GB\n",
            "Free: 569.19MB\n",
            "Used: 454.81MB\n",
            "Percentage: 44.4%\n"
          ]
        }
      ],
      "source": [
        "# get the swap memory details (if exists)\n",
        "swap = psutil.swap_memory()\n",
        "print(\"SWAP memory\")\n",
        "print(f\"Total: {get_size(swap.total)}\")\n",
        "print(f\"Free: {get_size(swap.free)}\")\n",
        "print(f\"Used: {get_size(swap.used)}\")\n",
        "print(f\"Percentage: {swap.percent}%\")"
      ]
    },
    {
      "cell_type": "markdown",
      "metadata": {
        "id": "dmIexmaC1flj"
      },
      "source": [
        "### Monitoring and Limiting Hard Disk Space"
      ]
    },
    {
      "cell_type": "markdown",
      "metadata": {
        "id": "Gmg3Gj_fBDxR"
      },
      "source": [
        "This function provides the details of all mounted disk partitions as a list of tuples including device, mount point and filesystem type."
      ]
    },
    {
      "cell_type": "code",
      "execution_count": 20,
      "metadata": {
        "colab": {
          "base_uri": "https://localhost:8080/"
        },
        "id": "1ayZORSqBEnU",
        "outputId": "4467d31d-ba85-4c1b-ebc2-113daf93a870"
      },
      "outputs": [
        {
          "name": "stdout",
          "output_type": "stream",
          "text": [
            "[sdiskpart(device='/dev/disk3s1s1', mountpoint='/', fstype='apfs', opts='ro,local,rootfs,dovolfs,journaled,multilabel'), sdiskpart(device='/dev/disk3s6', mountpoint='/System/Volumes/VM', fstype='apfs', opts='rw,noexec,local,dovolfs,dontbrowse,journaled,multilabel,noatime'), sdiskpart(device='/dev/disk3s2', mountpoint='/System/Volumes/Preboot', fstype='apfs', opts='rw,local,dovolfs,dontbrowse,journaled,multilabel'), sdiskpart(device='/dev/disk3s4', mountpoint='/System/Volumes/Update', fstype='apfs', opts='rw,local,dovolfs,dontbrowse,journaled,multilabel'), sdiskpart(device='/dev/disk1s2', mountpoint='/System/Volumes/xarts', fstype='apfs', opts='rw,noexec,local,dovolfs,dontbrowse,journaled,multilabel,noatime'), sdiskpart(device='/dev/disk1s1', mountpoint='/System/Volumes/iSCPreboot', fstype='apfs', opts='rw,local,dovolfs,dontbrowse,journaled,multilabel'), sdiskpart(device='/dev/disk1s3', mountpoint='/System/Volumes/Hardware', fstype='apfs', opts='rw,local,dovolfs,dontbrowse,journaled,multilabel'), sdiskpart(device='/dev/disk3s5', mountpoint='/System/Volumes/Data', fstype='apfs', opts='rw,local,dovolfs,dontbrowse,journaled,multilabel'), sdiskpart(device='/dev/disk2s1', mountpoint='/System/Volumes/Update/SFR/mnt1', fstype='apfs', opts='rw,local,dovolfs,dontbrowse,journaled,multilabel'), sdiskpart(device='/dev/disk3s1', mountpoint='/System/Volumes/Update/mnt1', fstype='apfs', opts='rw,local,dovolfs,dontbrowse,journaled,multilabel'), sdiskpart(device='/Users/achappa/Downloads/Visual Studio Code.app', mountpoint='/private/var/folders/2r/k36j0xq91fzc7r_6112vxx7h0000gn/T/AppTranslocation/89D239AC-5844-4113-AEA3-A5D14FD39149', fstype='nullfs', opts='ro,nosuid,local,dontbrowse,multilabel')]\n"
          ]
        }
      ],
      "source": [
        "print(psutil.disk_partitions())"
      ]
    },
    {
      "cell_type": "markdown",
      "metadata": {
        "id": "0znGv7uNBZRu"
      },
      "source": [
        " This function gives disk usage statistics as a tuple for a given path. Total, used and free space are expressed in bytes, along with the percentage usage."
      ]
    },
    {
      "cell_type": "code",
      "execution_count": 21,
      "metadata": {
        "colab": {
          "base_uri": "https://localhost:8080/"
        },
        "id": "JsA7Wg6cBU-t",
        "outputId": "76f91339-8912-418d-ed7b-b48fc33c1681"
      },
      "outputs": [
        {
          "name": "stdout",
          "output_type": "stream",
          "text": [
            "sdiskusage(total=494384795648, used=14412578816, free=365171437568, percent=3.8)\n"
          ]
        }
      ],
      "source": [
        "print(psutil.disk_usage('/'))"
      ]
    },
    {
      "cell_type": "code",
      "execution_count": 22,
      "metadata": {
        "colab": {
          "base_uri": "https://localhost:8080/"
        },
        "id": "sa7J9umqzfTi",
        "outputId": "c63d62db-faa0-448a-9300-710ae198dc63"
      },
      "outputs": [
        {
          "name": "stdout",
          "output_type": "stream",
          "text": [
            "Hard Disk Information\n",
            "Partitions and Usage:\n",
            "Device: /dev/disk3s1s1\n",
            "Partition Mountpoint:  /\n",
            "Partition File system type apfs\n",
            "Total Size:  460.43GB\n",
            "Used Space:  13.42GB\n",
            "Free hard disk Space 340.09GB\n",
            "Hard disk Used Percentage:  3.8 %\n",
            "Device: /dev/disk3s6\n",
            "Partition Mountpoint:  /System/Volumes/VM\n",
            "Partition File system type apfs\n",
            "Total Size:  460.43GB\n",
            "Used Space:  1.00GB\n",
            "Free hard disk Space 340.09GB\n",
            "Hard disk Used Percentage:  0.3 %\n",
            "Device: /dev/disk3s2\n",
            "Partition Mountpoint:  /System/Volumes/Preboot\n",
            "Partition File system type apfs\n",
            "Total Size:  460.43GB\n",
            "Used Space:  10.55GB\n",
            "Free hard disk Space 340.09GB\n",
            "Hard disk Used Percentage:  3.0 %\n",
            "Device: /dev/disk3s4\n",
            "Partition Mountpoint:  /System/Volumes/Update\n",
            "Partition File system type apfs\n",
            "Total Size:  460.43GB\n",
            "Used Space:  652.24MB\n",
            "Free hard disk Space 340.09GB\n",
            "Hard disk Used Percentage:  0.2 %\n",
            "Device: /dev/disk1s2\n",
            "Partition Mountpoint:  /System/Volumes/xarts\n",
            "Partition File system type apfs\n",
            "Total Size:  500.00MB\n",
            "Used Space:  6.02MB\n",
            "Free hard disk Space 480.78MB\n",
            "Hard disk Used Percentage:  1.2 %\n",
            "Device: /dev/disk1s1\n",
            "Partition Mountpoint:  /System/Volumes/iSCPreboot\n",
            "Partition File system type apfs\n",
            "Total Size:  500.00MB\n",
            "Used Space:  6.09MB\n",
            "Free hard disk Space 480.78MB\n",
            "Hard disk Used Percentage:  1.3 %\n",
            "Device: /dev/disk1s3\n",
            "Partition Mountpoint:  /System/Volumes/Hardware\n",
            "Partition File system type apfs\n",
            "Total Size:  500.00MB\n",
            "Used Space:  2.37MB\n",
            "Free hard disk Space 480.78MB\n",
            "Hard disk Used Percentage:  0.5 %\n",
            "Device: /dev/disk3s5\n",
            "Partition Mountpoint:  /System/Volumes/Data\n",
            "Partition File system type apfs\n",
            "Total Size:  460.43GB\n",
            "Used Space:  92.85GB\n",
            "Free hard disk Space 340.09GB\n",
            "Hard disk Used Percentage:  21.4 %\n",
            "Device: /dev/disk2s1\n",
            "Partition Mountpoint:  /System/Volumes/Update/SFR/mnt1\n",
            "Partition File system type apfs\n",
            "Total Size:  5.00GB\n",
            "Used Space:  1.74GB\n",
            "Free hard disk Space 3.24GB\n",
            "Hard disk Used Percentage:  35.0 %\n",
            "Device: /dev/disk3s1\n",
            "Partition Mountpoint:  /System/Volumes/Update/mnt1\n",
            "Partition File system type apfs\n",
            "Total Size:  460.43GB\n",
            "Used Space:  13.42GB\n",
            "Free hard disk Space 340.09GB\n",
            "Hard disk Used Percentage:  3.8 %\n",
            "Device: /Users/achappa/Downloads/Visual Studio Code.app\n",
            "Partition Mountpoint:  /private/var/folders/2r/k36j0xq91fzc7r_6112vxx7h0000gn/T/AppTranslocation/89D239AC-5844-4113-AEA3-A5D14FD39149\n",
            "Partition File system type nullfs\n",
            "Total Size:  460.43GB\n",
            "Used Space:  93.12GB\n",
            "Free hard disk Space 339.82GB\n",
            "Hard disk Used Percentage:  21.5 %\n"
          ]
        }
      ],
      "source": [
        "print( \"Hard Disk Information\")\n",
        "print(\"Partitions and Usage:\")\n",
        "# get all disk partitions on the device\n",
        "partitions = psutil.disk_partitions()\n",
        "for partition in partitions:\n",
        "    print(\"Device:\",partition.device)\n",
        "    print(\"Partition Mountpoint: \",partition.mountpoint)\n",
        "    print(\"Partition File system type\",partition.fstype)\n",
        "    try:\n",
        "        partition_usage = psutil.disk_usage(partition.mountpoint)\n",
        "    except PermissionError:\n",
        "        continue\n",
        "    print(\"Total Size: \", get_size(partition_usage.total))\n",
        "    print(\"Used Space: \", get_size(partition_usage.used))\n",
        "    print(\"Free hard disk Space\", get_size(partition_usage.free))\n",
        "    print(\"Hard disk Used Percentage: \", partition_usage.percent, \"%\")\n",
        "    if(partition_usage.percent >82):\n",
        "        print(\"Disk space nearing full\")"
      ]
    },
    {
      "cell_type": "markdown",
      "metadata": {
        "id": "u8fmsdwh4F7u"
      },
      "source": [
        "### Monitoring and Limiting Network Usage"
      ]
    },
    {
      "cell_type": "markdown",
      "metadata": {
        "id": "G6GSCkFu4vQz"
      },
      "source": [
        "All network protocols are associated with a specific address family. An address family provides services like packet fragmentation and reassembly, routing, addressing, and transporting. The address family provides interprocess communication between processes that run on the same system or different systems."
      ]
    },
    {
      "cell_type": "markdown",
      "metadata": {
        "id": "CQoWeAK84yCb"
      },
      "source": [
        "An address family is normally comprised of several protocols, one per socket type."
      ]
    },
    {
      "cell_type": "markdown",
      "metadata": {
        "id": "FZqQ0Kkc42oM"
      },
      "source": [
        "Different networks address families and their purpose:\n",
        "* AF_INET: IPv4 Internet protocols\n",
        "* AF_INET6: IPv6 Internet protocols\n",
        "* AF_NETLINK: Kernel user interface device\n",
        "* AF_PACKET: Low-level packet interface"
      ]
    },
    {
      "cell_type": "markdown",
      "metadata": {
        "id": "5QIAXPV9D62q"
      },
      "source": [
        "* family – the socket family, either AF_INET or AF_INET6\n",
        "* address – the primary NIC address\n",
        "* netmask – the netmask address\n",
        "* broadcast – the broadcast address.\n",
        "* ptp – “point to point” it is the destination address on a point to point interface."
      ]
    },
    {
      "cell_type": "code",
      "execution_count": 23,
      "metadata": {
        "colab": {
          "base_uri": "https://localhost:8080/"
        },
        "id": "RoutNlzHD3Up",
        "outputId": "fd8911c4-17aa-4422-e5c0-52678a39edbf"
      },
      "outputs": [
        {
          "name": "stdout",
          "output_type": "stream",
          "text": [
            "{'lo0': [snicaddr(family=<AddressFamily.AF_INET: 2>, address='127.0.0.1', netmask='255.0.0.0', broadcast=None, ptp=None), snicaddr(family=<AddressFamily.AF_INET6: 30>, address='::1', netmask='ffff:ffff:ffff:ffff:ffff:ffff:ffff:ffff', broadcast=None, ptp=None), snicaddr(family=<AddressFamily.AF_INET6: 30>, address='fe80::1%lo0', netmask='ffff:ffff:ffff:ffff::', broadcast=None, ptp=None)], 'en0': [snicaddr(family=<AddressFamily.AF_INET: 2>, address='192.168.0.106', netmask='255.255.255.0', broadcast='192.168.0.255', ptp=None), snicaddr(family=<AddressFamily.AF_LINK: 18>, address='10:9f:41:bc:e6:5f', netmask=None, broadcast=None, ptp=None), snicaddr(family=<AddressFamily.AF_INET6: 30>, address='fe80::c12:ad9f:d538:ec35%en0', netmask='ffff:ffff:ffff:ffff::', broadcast=None, ptp=None)], 'en7': [snicaddr(family=<AddressFamily.AF_INET: 2>, address='169.254.108.208', netmask='255.255.0.0', broadcast='169.254.255.255', ptp=None), snicaddr(family=<AddressFamily.AF_LINK: 18>, address='aa:4a:28:f2:2b:31', netmask=None, broadcast=None, ptp=None), snicaddr(family=<AddressFamily.AF_INET6: 30>, address='fe80::1ce7:ca7:4a7a:9e08%en7', netmask='ffff:ffff:ffff:ffff::', broadcast=None, ptp=None)], 'anpi0': [snicaddr(family=<AddressFamily.AF_LINK: 18>, address='4a:da:d5:6a:9a:3d', netmask=None, broadcast=None, ptp=None)], 'anpi1': [snicaddr(family=<AddressFamily.AF_LINK: 18>, address='4a:da:d5:6a:9a:3e', netmask=None, broadcast=None, ptp=None)], 'en3': [snicaddr(family=<AddressFamily.AF_LINK: 18>, address='4a:da:d5:6a:9a:1d', netmask=None, broadcast=None, ptp=None)], 'en4': [snicaddr(family=<AddressFamily.AF_LINK: 18>, address='4a:da:d5:6a:9a:1e', netmask=None, broadcast=None, ptp=None)], 'en1': [snicaddr(family=<AddressFamily.AF_LINK: 18>, address='36:e1:ae:4d:7e:40', netmask=None, broadcast=None, ptp=None)], 'en2': [snicaddr(family=<AddressFamily.AF_LINK: 18>, address='36:e1:ae:4d:7e:44', netmask=None, broadcast=None, ptp=None)], 'bridge0': [snicaddr(family=<AddressFamily.AF_LINK: 18>, address='36:e1:ae:4d:7e:40', netmask=None, broadcast=None, ptp=None)], 'ap1': [snicaddr(family=<AddressFamily.AF_LINK: 18>, address='32:9f:41:bc:e6:5f', netmask=None, broadcast=None, ptp=None)], 'awdl0': [snicaddr(family=<AddressFamily.AF_LINK: 18>, address='da:ad:12:6e:d3:8a', netmask=None, broadcast=None, ptp=None), snicaddr(family=<AddressFamily.AF_INET6: 30>, address='fe80::d8ad:12ff:fe6e:d38a%awdl0', netmask='ffff:ffff:ffff:ffff::', broadcast=None, ptp=None)], 'llw0': [snicaddr(family=<AddressFamily.AF_LINK: 18>, address='da:ad:12:6e:d3:8a', netmask=None, broadcast=None, ptp=None), snicaddr(family=<AddressFamily.AF_INET6: 30>, address='fe80::d8ad:12ff:fe6e:d38a%llw0', netmask='ffff:ffff:ffff:ffff::', broadcast=None, ptp=None)], 'en6': [snicaddr(family=<AddressFamily.AF_LINK: 18>, address='d2:cb:e1:9d:7c:54', netmask=None, broadcast=None, ptp=None), snicaddr(family=<AddressFamily.AF_INET6: 30>, address='fe80::d0cb:e1ff:fe9d:7c54%en6', netmask='ffff:ffff:ffff:ffff::', broadcast=None, ptp=None)], 'utun0': [snicaddr(family=<AddressFamily.AF_INET6: 30>, address='fe80::16e9:2608:d12a:e7a7%utun0', netmask='ffff:ffff:ffff:ffff::', broadcast=None, ptp=None)], 'utun1': [snicaddr(family=<AddressFamily.AF_INET6: 30>, address='fe80::f9ea:b67f:79f5:49fc%utun1', netmask='ffff:ffff:ffff:ffff::', broadcast=None, ptp=None)], 'utun2': [snicaddr(family=<AddressFamily.AF_INET6: 30>, address='fe80::ce81:b1c:bd2c:69e%utun2', netmask='ffff:ffff:ffff:ffff::', broadcast=None, ptp=None)], 'utun3': [snicaddr(family=<AddressFamily.AF_INET6: 30>, address='fe80::3342:4b7e:34d8:81b8%utun3', netmask='ffff:ffff:ffff:ffff::', broadcast=None, ptp=None)], 'utun4': [snicaddr(family=<AddressFamily.AF_INET6: 30>, address='fe80::4288:c9bd:be00:6c85%utun4', netmask='ffff:ffff:ffff:ffff::', broadcast=None, ptp=None)], 'utun5': [snicaddr(family=<AddressFamily.AF_INET6: 30>, address='fe80::8a26:6bcd:52ff:b27f%utun5', netmask='ffff:ffff:ffff:ffff::', broadcast=None, ptp=None)], 'utun6': [snicaddr(family=<AddressFamily.AF_INET6: 30>, address='fe80::129f:41ff:febc:e65f%utun6', netmask='ffff:ffff:ffff:ffff::', broadcast=None, ptp=None), snicaddr(family=<AddressFamily.AF_INET6: 30>, address='fd54:e38f:5caa::2', netmask='ffff:ffff:ffff:ffff::', broadcast=None, ptp=None)]}\n"
          ]
        }
      ],
      "source": [
        "print(psutil.net_if_addrs())"
      ]
    },
    {
      "cell_type": "code",
      "execution_count": 24,
      "metadata": {
        "colab": {
          "base_uri": "https://localhost:8080/"
        },
        "id": "gaVwcCCwzf70",
        "outputId": "c62ed643-12d2-4da3-89de-52c871677d36"
      },
      "outputs": [
        {
          "name": "stdout",
          "output_type": "stream",
          "text": [
            "Network Information\n",
            " Interface:  lo0\n",
            " Interface:  lo0\n",
            " Interface:  lo0\n",
            " Interface:  en0\n",
            " Interface:  en0\n",
            " Interface:  en0\n",
            " Interface:  en7\n",
            " Interface:  en7\n",
            " Interface:  en7\n",
            " Interface:  anpi0\n",
            " Interface:  anpi1\n",
            " Interface:  en3\n",
            " Interface:  en4\n",
            " Interface:  en1\n",
            " Interface:  en2\n",
            " Interface:  bridge0\n",
            " Interface:  ap1\n",
            " Interface:  awdl0\n",
            " Interface:  awdl0\n",
            " Interface:  llw0\n",
            " Interface:  llw0\n",
            " Interface:  en6\n",
            " Interface:  en6\n",
            " Interface:  utun0\n",
            " Interface:  utun1\n",
            " Interface:  utun2\n",
            " Interface:  utun3\n",
            " Interface:  utun4\n",
            " Interface:  utun5\n",
            " Interface:  utun6\n",
            " Interface:  utun6\n"
          ]
        }
      ],
      "source": [
        "print( \"Network Information\")\n",
        "# get all network interfaces (virtual and physical)\n",
        "if_addrs = psutil.net_if_addrs()\n",
        "for interface_name, interface_addresses in if_addrs.items():\n",
        "    for address in interface_addresses:\n",
        "        print(\" Interface: \", interface_name)\n",
        "        if str(address.family) == 'AddressFamily.AF_INET':\n",
        "            print(\"  IP Address: \", address.address)\n",
        "            print(\"  Netmask: \", address.netmask)\n",
        "            print(\"  Broadcast IPv4: \",address.broadcast)\n",
        "        elif str(address.family) == 'AddressFamily.AF_PACKET':\n",
        "            print(\"  MAC Address: {address.address}\")\n",
        "            print(\"  Netmask: {address.netmask}\")\n",
        "            print(\"  Broadcast MAC: {address.broadcast}\")\n",
        "        elif str(address.family) == 'AddressFamily.AF_INET6':\n",
        "            print(\"  IP Address: \", address.address)\n",
        "            print(\"  Netmask: \", address.netmask)\n",
        "            print(\"  Broadcast IPv6: \",address.broadcast)"
      ]
    },
    {
      "cell_type": "markdown",
      "metadata": {
        "id": "yk2ruqSa5KcN"
      },
      "source": [
        " Return system-wide network I/O statistics like bytes sent, bytes received, incoming packets that were dropped, or outgoing packets dropped"
      ]
    },
    {
      "cell_type": "markdown",
      "metadata": {
        "id": "JfJn-bvPCvQL"
      },
      "source": [
        "* bytes_sent – number of bytes sent\n",
        "* bytes_recv – number of bytes received\n",
        "* packets_sent – number of packets sent\n",
        "* packets_recv – number of packets received\n",
        "* errin – total number of errors while receiving\n",
        "* errout – total number of errors while sending\n",
        "* dropin – total number of incoming packets which were dropped\n",
        "* dropout – total number of outgoing packets which were dropped"
      ]
    },
    {
      "cell_type": "code",
      "execution_count": 25,
      "metadata": {
        "colab": {
          "base_uri": "https://localhost:8080/"
        },
        "id": "i_wp0SqmCrA0",
        "outputId": "60835145-c9f6-45a3-a4a5-962633918ff7"
      },
      "outputs": [
        {
          "name": "stdout",
          "output_type": "stream",
          "text": [
            "snetio(bytes_sent=536210432, bytes_recv=2143733760, packets_sent=3097055, packets_recv=8667994, errin=0, errout=5, dropin=0, dropout=0)\n"
          ]
        }
      ],
      "source": [
        "print(psutil.net_io_counters())"
      ]
    },
    {
      "cell_type": "code",
      "execution_count": 28,
      "metadata": {
        "colab": {
          "base_uri": "https://localhost:8080/"
        },
        "id": "LHdmkaG6zgAs",
        "outputId": "bc64528e-a3d5-4b88-c98c-6d76c8db37aa"
      },
      "outputs": [
        {
          "name": "stdout",
          "output_type": "stream",
          "text": [
            "Total Bytes Sent:  511.48MB\n",
            "Total Bytes Received:  2.00GB\n",
            "Total outgoing packets dropped:  0\n",
            "Total incoming packets dropped: 0\n",
            "Total outgoing errors:  5\n",
            "Total incoming errors: 0\n"
          ]
        }
      ],
      "source": [
        "net_io = psutil.net_io_counters()\n",
        "print(\"Total Bytes Sent: \", get_size(net_io.bytes_sent))\n",
        "print(\"Total Bytes Received: \", get_size(net_io.bytes_recv))\n",
        "print(\"Total outgoing packets dropped: \", net_io.dropin)\n",
        "print(\"Total incoming packets dropped:\", net_io.dropout)\n",
        "print(\"Total outgoing errors: \", net_io.errout)\n",
        "print(\"Total incoming errors:\", net_io.errin)"
      ]
    },
    {
      "cell_type": "markdown",
      "metadata": {
        "id": "9l8eRVJlDFrV"
      },
      "source": [
        "This function gives the list of socket connections of a system as a named tuples."
      ]
    },
    {
      "cell_type": "markdown",
      "metadata": {
        "id": "BD3MbSdUDIIk"
      },
      "source": [
        "* fd – the socket file descriptor.\n",
        "* family – the socket family, either AF_INET, AF_INET6 or AF_UNIX.\n",
        "* type – the socket type, either SOCK_STREAM, SOCK_DGRAM or SOCK_SEQPACKET.\n",
        "* laddr – the local address as a (ip, port) named tuple\n",
        "* raddr – the remote address as a (ip, port) named tuple\n",
        "* status – represents the status of a TCP connection.\n",
        "* pid – the PID of the process which opened the socket, if retrievable, else None."
      ]
    },
    {
      "cell_type": "code",
      "execution_count": 27,
      "metadata": {
        "colab": {
          "base_uri": "https://localhost:8080/"
        },
        "id": "gqySXOxjC_Ov",
        "outputId": "4f6dc693-1c2d-4365-fa73-db3f731d8f43"
      },
      "outputs": [
        {
          "ename": "AccessDenied",
          "evalue": "(pid=5889)",
          "output_type": "error",
          "traceback": [
            "\u001b[31m---------------------------------------------------------------------------\u001b[39m",
            "\u001b[31mPermissionError\u001b[39m                           Traceback (most recent call last)",
            "\u001b[36mFile \u001b[39m\u001b[32m~/Library/Python/3.12/lib/python/site-packages/psutil/_psosx.py:347\u001b[39m, in \u001b[36mwrap_exceptions.<locals>.wrapper\u001b[39m\u001b[34m(self, *args, **kwargs)\u001b[39m\n\u001b[32m    346\u001b[39m \u001b[38;5;28;01mtry\u001b[39;00m:\n\u001b[32m--> \u001b[39m\u001b[32m347\u001b[39m     \u001b[38;5;28;01mreturn\u001b[39;00m \u001b[43mfun\u001b[49m\u001b[43m(\u001b[49m\u001b[38;5;28;43mself\u001b[39;49m\u001b[43m,\u001b[49m\u001b[43m \u001b[49m\u001b[43m*\u001b[49m\u001b[43margs\u001b[49m\u001b[43m,\u001b[49m\u001b[43m \u001b[49m\u001b[43m*\u001b[49m\u001b[43m*\u001b[49m\u001b[43mkwargs\u001b[49m\u001b[43m)\u001b[49m\n\u001b[32m    348\u001b[39m \u001b[38;5;28;01mexcept\u001b[39;00m \u001b[38;5;167;01mProcessLookupError\u001b[39;00m \u001b[38;5;28;01mas\u001b[39;00m err:\n",
            "\u001b[36mFile \u001b[39m\u001b[32m~/Library/Python/3.12/lib/python/site-packages/psutil/_psosx.py:503\u001b[39m, in \u001b[36mProcess.net_connections\u001b[39m\u001b[34m(self, kind)\u001b[39m\n\u001b[32m    502\u001b[39m families, types = conn_tmap[kind]\n\u001b[32m--> \u001b[39m\u001b[32m503\u001b[39m rawlist = \u001b[43mcext\u001b[49m\u001b[43m.\u001b[49m\u001b[43mproc_net_connections\u001b[49m\u001b[43m(\u001b[49m\u001b[38;5;28;43mself\u001b[39;49m\u001b[43m.\u001b[49m\u001b[43mpid\u001b[49m\u001b[43m,\u001b[49m\u001b[43m \u001b[49m\u001b[43mfamilies\u001b[49m\u001b[43m,\u001b[49m\u001b[43m \u001b[49m\u001b[43mtypes\u001b[49m\u001b[43m)\u001b[49m\n\u001b[32m    504\u001b[39m ret = []\n",
            "\u001b[31mPermissionError\u001b[39m: [Errno 1] Operation not permitted (originated from proc_pidinfo(PROC_PIDLISTFDS) 1/2)",
            "\nThe above exception was the direct cause of the following exception:\n",
            "\u001b[31mAccessDenied\u001b[39m                              Traceback (most recent call last)",
            "\u001b[36mCell\u001b[39m\u001b[36m \u001b[39m\u001b[32mIn[27]\u001b[39m\u001b[32m, line 1\u001b[39m\n\u001b[32m----> \u001b[39m\u001b[32m1\u001b[39m \u001b[38;5;28mprint\u001b[39m(\u001b[43mpsutil\u001b[49m\u001b[43m.\u001b[49m\u001b[43mnet_connections\u001b[49m\u001b[43m(\u001b[49m\u001b[43m)\u001b[49m)\n",
            "\u001b[36mFile \u001b[39m\u001b[32m~/Library/Python/3.12/lib/python/site-packages/psutil/__init__.py:2194\u001b[39m, in \u001b[36mnet_connections\u001b[39m\u001b[34m(kind)\u001b[39m\n\u001b[32m   2168\u001b[39m \u001b[38;5;250m\u001b[39m\u001b[33;03m\"\"\"Return system-wide socket connections as a list of\u001b[39;00m\n\u001b[32m   2169\u001b[39m \u001b[33;03m(fd, family, type, laddr, raddr, status, pid) namedtuples.\u001b[39;00m\n\u001b[32m   2170\u001b[39m \u001b[33;03mIn case of limited privileges 'fd' and 'pid' may be set to -1\u001b[39;00m\n\u001b[32m   (...)\u001b[39m\u001b[32m   2191\u001b[39m \u001b[33;03mOn macOS this function requires root privileges.\u001b[39;00m\n\u001b[32m   2192\u001b[39m \u001b[33;03m\"\"\"\u001b[39;00m\n\u001b[32m   2193\u001b[39m _check_conn_kind(kind)\n\u001b[32m-> \u001b[39m\u001b[32m2194\u001b[39m \u001b[38;5;28;01mreturn\u001b[39;00m \u001b[43m_psplatform\u001b[49m\u001b[43m.\u001b[49m\u001b[43mnet_connections\u001b[49m\u001b[43m(\u001b[49m\u001b[43mkind\u001b[49m\u001b[43m)\u001b[49m\n",
            "\u001b[36mFile \u001b[39m\u001b[32m~/Library/Python/3.12/lib/python/site-packages/psutil/_psosx.py:246\u001b[39m, in \u001b[36mnet_connections\u001b[39m\u001b[34m(kind)\u001b[39m\n\u001b[32m    244\u001b[39m \u001b[38;5;28;01mfor\u001b[39;00m pid \u001b[38;5;129;01min\u001b[39;00m pids():\n\u001b[32m    245\u001b[39m     \u001b[38;5;28;01mtry\u001b[39;00m:\n\u001b[32m--> \u001b[39m\u001b[32m246\u001b[39m         cons = \u001b[43mProcess\u001b[49m\u001b[43m(\u001b[49m\u001b[43mpid\u001b[49m\u001b[43m)\u001b[49m\u001b[43m.\u001b[49m\u001b[43mnet_connections\u001b[49m\u001b[43m(\u001b[49m\u001b[43mkind\u001b[49m\u001b[43m)\u001b[49m\n\u001b[32m    247\u001b[39m     \u001b[38;5;28;01mexcept\u001b[39;00m NoSuchProcess:\n\u001b[32m    248\u001b[39m         \u001b[38;5;28;01mcontinue\u001b[39;00m\n",
            "\u001b[36mFile \u001b[39m\u001b[32m~/Library/Python/3.12/lib/python/site-packages/psutil/_psosx.py:353\u001b[39m, in \u001b[36mwrap_exceptions.<locals>.wrapper\u001b[39m\u001b[34m(self, *args, **kwargs)\u001b[39m\n\u001b[32m    351\u001b[39m     \u001b[38;5;28;01mraise\u001b[39;00m NoSuchProcess(pid, name) \u001b[38;5;28;01mfrom\u001b[39;00m\u001b[38;5;250m \u001b[39m\u001b[34;01merr\u001b[39;00m\n\u001b[32m    352\u001b[39m \u001b[38;5;28;01mexcept\u001b[39;00m \u001b[38;5;167;01mPermissionError\u001b[39;00m \u001b[38;5;28;01mas\u001b[39;00m err:\n\u001b[32m--> \u001b[39m\u001b[32m353\u001b[39m     \u001b[38;5;28;01mraise\u001b[39;00m AccessDenied(pid, name) \u001b[38;5;28;01mfrom\u001b[39;00m\u001b[38;5;250m \u001b[39m\u001b[34;01merr\u001b[39;00m\n",
            "\u001b[31mAccessDenied\u001b[39m: (pid=5889)"
          ]
        }
      ],
      "source": [
        "print(psutil.net_connections())"
      ]
    },
    {
      "cell_type": "markdown",
      "metadata": {
        "id": "22YK3vxQE_p4"
      },
      "source": [
        "### Exploring Multiprocessing"
      ]
    },
    {
      "cell_type": "markdown",
      "metadata": {
        "id": "M8zLCxSY8Xzu"
      },
      "source": [
        "One of the key objectives for a developer is to make the code run faster. However, many tasks take time to be processed, even on fast computers with several cores. Partially it happens because of Python GIL (Python Global Interpreter Lock) that allows only one thread to take control over Python Interpreter, so we end up never using the whole power of the machine by just executing a function or method."
      ]
    },
    {
      "cell_type": "markdown",
      "metadata": {
        "id": "6pGDCf348a3z"
      },
      "source": [
        "### Comparison between synchronous and multiprocessing code."
      ]
    },
    {
      "cell_type": "markdown",
      "metadata": {
        "id": "YbhIW3XI8eHf"
      },
      "source": [
        "The test in this case is a simple HTTP GET request from the public API, https://httpbin.org. They offer many API services but the one used here is `uuid`, which simply returns a unique 36 character string every time you make a GET request."
      ]
    },
    {
      "cell_type": "markdown",
      "metadata": {
        "id": "wrXrjNj48hDB"
      },
      "source": [
        "Data fetching from the Internet can be done in various ways. Here to keep things simple `requests` module is used."
      ]
    },
    {
      "cell_type": "markdown",
      "metadata": {
        "id": "63DkUU0XpteE"
      },
      "source": [
        "## Synchronous code"
      ]
    },
    {
      "cell_type": "markdown",
      "metadata": {
        "id": "9J35QBp0qcUG"
      },
      "source": [
        "Synchronous code is a sequence of tasks that are done in a synchronous fashion or one after the other. What that means is that before task 3 is started, the machine has to wait for task 2 to finish, but prior to that, wait for task 1 to finish. This is not an efficient way of doing things but sometimes there is just no other way. Synchronous code is quite easy to understand and easy to write."
      ]
    },
    {
      "cell_type": "code",
      "execution_count": 32,
      "metadata": {
        "colab": {
          "base_uri": "https://localhost:8080/"
        },
        "id": "7E4HdHC1sSKx",
        "outputId": "d6bb3702-309c-47db-f164-290ea14fed06"
      },
      "outputs": [
        {
          "ename": "KeyboardInterrupt",
          "evalue": "",
          "output_type": "error",
          "traceback": [
            "\u001b[31m---------------------------------------------------------------------------\u001b[39m",
            "\u001b[31mKeyboardInterrupt\u001b[39m                         Traceback (most recent call last)",
            "\u001b[36mCell\u001b[39m\u001b[36m \u001b[39m\u001b[32mIn[32]\u001b[39m\u001b[32m, line 9\u001b[39m\n\u001b[32m      6\u001b[39m t0 = time.time()\n\u001b[32m      8\u001b[39m \u001b[38;5;28;01mfor\u001b[39;00m _ \u001b[38;5;129;01min\u001b[39;00m \u001b[38;5;28mrange\u001b[39m(\u001b[32m300\u001b[39m):\n\u001b[32m----> \u001b[39m\u001b[32m9\u001b[39m     response = \u001b[43mrequests\u001b[49m\u001b[43m.\u001b[49m\u001b[43mget\u001b[49m\u001b[43m(\u001b[49m\u001b[43mURL\u001b[49m\u001b[43m)\u001b[49m\n\u001b[32m     11\u001b[39m \u001b[38;5;28mprint\u001b[39m(\u001b[33mf\u001b[39m\u001b[33m'\u001b[39m\u001b[33mIt took \u001b[39m\u001b[38;5;132;01m{\u001b[39;00mtime.time()\u001b[38;5;250m \u001b[39m-\u001b[38;5;250m \u001b[39mt0\u001b[38;5;132;01m:\u001b[39;00m\u001b[33m.2f\u001b[39m\u001b[38;5;132;01m}\u001b[39;00m\u001b[33m s to finish the request\u001b[39m\u001b[33m'\u001b[39m)\n",
            "\u001b[36mFile \u001b[39m\u001b[32m/Library/Frameworks/Python.framework/Versions/3.12/lib/python3.12/site-packages/requests/api.py:73\u001b[39m, in \u001b[36mget\u001b[39m\u001b[34m(url, params, **kwargs)\u001b[39m\n\u001b[32m     62\u001b[39m \u001b[38;5;28;01mdef\u001b[39;00m\u001b[38;5;250m \u001b[39m\u001b[34mget\u001b[39m(url, params=\u001b[38;5;28;01mNone\u001b[39;00m, **kwargs):\n\u001b[32m     63\u001b[39m \u001b[38;5;250m    \u001b[39m\u001b[33mr\u001b[39m\u001b[33;03m\"\"\"Sends a GET request.\u001b[39;00m\n\u001b[32m     64\u001b[39m \n\u001b[32m     65\u001b[39m \u001b[33;03m    :param url: URL for the new :class:`Request` object.\u001b[39;00m\n\u001b[32m   (...)\u001b[39m\u001b[32m     70\u001b[39m \u001b[33;03m    :rtype: requests.Response\u001b[39;00m\n\u001b[32m     71\u001b[39m \u001b[33;03m    \"\"\"\u001b[39;00m\n\u001b[32m---> \u001b[39m\u001b[32m73\u001b[39m     \u001b[38;5;28;01mreturn\u001b[39;00m \u001b[43mrequest\u001b[49m\u001b[43m(\u001b[49m\u001b[33;43m\"\u001b[39;49m\u001b[33;43mget\u001b[39;49m\u001b[33;43m\"\u001b[39;49m\u001b[43m,\u001b[49m\u001b[43m \u001b[49m\u001b[43murl\u001b[49m\u001b[43m,\u001b[49m\u001b[43m \u001b[49m\u001b[43mparams\u001b[49m\u001b[43m=\u001b[49m\u001b[43mparams\u001b[49m\u001b[43m,\u001b[49m\u001b[43m \u001b[49m\u001b[43m*\u001b[49m\u001b[43m*\u001b[49m\u001b[43mkwargs\u001b[49m\u001b[43m)\u001b[49m\n",
            "\u001b[36mFile \u001b[39m\u001b[32m/Library/Frameworks/Python.framework/Versions/3.12/lib/python3.12/site-packages/requests/api.py:59\u001b[39m, in \u001b[36mrequest\u001b[39m\u001b[34m(method, url, **kwargs)\u001b[39m\n\u001b[32m     55\u001b[39m \u001b[38;5;66;03m# By using the 'with' statement we are sure the session is closed, thus we\u001b[39;00m\n\u001b[32m     56\u001b[39m \u001b[38;5;66;03m# avoid leaving sockets open which can trigger a ResourceWarning in some\u001b[39;00m\n\u001b[32m     57\u001b[39m \u001b[38;5;66;03m# cases, and look like a memory leak in others.\u001b[39;00m\n\u001b[32m     58\u001b[39m \u001b[38;5;28;01mwith\u001b[39;00m sessions.Session() \u001b[38;5;28;01mas\u001b[39;00m session:\n\u001b[32m---> \u001b[39m\u001b[32m59\u001b[39m     \u001b[38;5;28;01mreturn\u001b[39;00m \u001b[43msession\u001b[49m\u001b[43m.\u001b[49m\u001b[43mrequest\u001b[49m\u001b[43m(\u001b[49m\u001b[43mmethod\u001b[49m\u001b[43m=\u001b[49m\u001b[43mmethod\u001b[49m\u001b[43m,\u001b[49m\u001b[43m \u001b[49m\u001b[43murl\u001b[49m\u001b[43m=\u001b[49m\u001b[43murl\u001b[49m\u001b[43m,\u001b[49m\u001b[43m \u001b[49m\u001b[43m*\u001b[49m\u001b[43m*\u001b[49m\u001b[43mkwargs\u001b[49m\u001b[43m)\u001b[49m\n",
            "\u001b[36mFile \u001b[39m\u001b[32m/Library/Frameworks/Python.framework/Versions/3.12/lib/python3.12/site-packages/requests/sessions.py:589\u001b[39m, in \u001b[36mSession.request\u001b[39m\u001b[34m(self, method, url, params, data, headers, cookies, files, auth, timeout, allow_redirects, proxies, hooks, stream, verify, cert, json)\u001b[39m\n\u001b[32m    584\u001b[39m send_kwargs = {\n\u001b[32m    585\u001b[39m     \u001b[33m\"\u001b[39m\u001b[33mtimeout\u001b[39m\u001b[33m\"\u001b[39m: timeout,\n\u001b[32m    586\u001b[39m     \u001b[33m\"\u001b[39m\u001b[33mallow_redirects\u001b[39m\u001b[33m\"\u001b[39m: allow_redirects,\n\u001b[32m    587\u001b[39m }\n\u001b[32m    588\u001b[39m send_kwargs.update(settings)\n\u001b[32m--> \u001b[39m\u001b[32m589\u001b[39m resp = \u001b[38;5;28;43mself\u001b[39;49m\u001b[43m.\u001b[49m\u001b[43msend\u001b[49m\u001b[43m(\u001b[49m\u001b[43mprep\u001b[49m\u001b[43m,\u001b[49m\u001b[43m \u001b[49m\u001b[43m*\u001b[49m\u001b[43m*\u001b[49m\u001b[43msend_kwargs\u001b[49m\u001b[43m)\u001b[49m\n\u001b[32m    591\u001b[39m \u001b[38;5;28;01mreturn\u001b[39;00m resp\n",
            "\u001b[36mFile \u001b[39m\u001b[32m/Library/Frameworks/Python.framework/Versions/3.12/lib/python3.12/site-packages/requests/sessions.py:703\u001b[39m, in \u001b[36mSession.send\u001b[39m\u001b[34m(self, request, **kwargs)\u001b[39m\n\u001b[32m    700\u001b[39m start = preferred_clock()\n\u001b[32m    702\u001b[39m \u001b[38;5;66;03m# Send the request\u001b[39;00m\n\u001b[32m--> \u001b[39m\u001b[32m703\u001b[39m r = \u001b[43madapter\u001b[49m\u001b[43m.\u001b[49m\u001b[43msend\u001b[49m\u001b[43m(\u001b[49m\u001b[43mrequest\u001b[49m\u001b[43m,\u001b[49m\u001b[43m \u001b[49m\u001b[43m*\u001b[49m\u001b[43m*\u001b[49m\u001b[43mkwargs\u001b[49m\u001b[43m)\u001b[49m\n\u001b[32m    705\u001b[39m \u001b[38;5;66;03m# Total elapsed time of the request (approximately)\u001b[39;00m\n\u001b[32m    706\u001b[39m elapsed = preferred_clock() - start\n",
            "\u001b[36mFile \u001b[39m\u001b[32m/Library/Frameworks/Python.framework/Versions/3.12/lib/python3.12/site-packages/requests/adapters.py:667\u001b[39m, in \u001b[36mHTTPAdapter.send\u001b[39m\u001b[34m(self, request, stream, timeout, verify, cert, proxies)\u001b[39m\n\u001b[32m    664\u001b[39m     timeout = TimeoutSauce(connect=timeout, read=timeout)\n\u001b[32m    666\u001b[39m \u001b[38;5;28;01mtry\u001b[39;00m:\n\u001b[32m--> \u001b[39m\u001b[32m667\u001b[39m     resp = \u001b[43mconn\u001b[49m\u001b[43m.\u001b[49m\u001b[43murlopen\u001b[49m\u001b[43m(\u001b[49m\n\u001b[32m    668\u001b[39m \u001b[43m        \u001b[49m\u001b[43mmethod\u001b[49m\u001b[43m=\u001b[49m\u001b[43mrequest\u001b[49m\u001b[43m.\u001b[49m\u001b[43mmethod\u001b[49m\u001b[43m,\u001b[49m\n\u001b[32m    669\u001b[39m \u001b[43m        \u001b[49m\u001b[43murl\u001b[49m\u001b[43m=\u001b[49m\u001b[43murl\u001b[49m\u001b[43m,\u001b[49m\n\u001b[32m    670\u001b[39m \u001b[43m        \u001b[49m\u001b[43mbody\u001b[49m\u001b[43m=\u001b[49m\u001b[43mrequest\u001b[49m\u001b[43m.\u001b[49m\u001b[43mbody\u001b[49m\u001b[43m,\u001b[49m\n\u001b[32m    671\u001b[39m \u001b[43m        \u001b[49m\u001b[43mheaders\u001b[49m\u001b[43m=\u001b[49m\u001b[43mrequest\u001b[49m\u001b[43m.\u001b[49m\u001b[43mheaders\u001b[49m\u001b[43m,\u001b[49m\n\u001b[32m    672\u001b[39m \u001b[43m        \u001b[49m\u001b[43mredirect\u001b[49m\u001b[43m=\u001b[49m\u001b[38;5;28;43;01mFalse\u001b[39;49;00m\u001b[43m,\u001b[49m\n\u001b[32m    673\u001b[39m \u001b[43m        \u001b[49m\u001b[43massert_same_host\u001b[49m\u001b[43m=\u001b[49m\u001b[38;5;28;43;01mFalse\u001b[39;49;00m\u001b[43m,\u001b[49m\n\u001b[32m    674\u001b[39m \u001b[43m        \u001b[49m\u001b[43mpreload_content\u001b[49m\u001b[43m=\u001b[49m\u001b[38;5;28;43;01mFalse\u001b[39;49;00m\u001b[43m,\u001b[49m\n\u001b[32m    675\u001b[39m \u001b[43m        \u001b[49m\u001b[43mdecode_content\u001b[49m\u001b[43m=\u001b[49m\u001b[38;5;28;43;01mFalse\u001b[39;49;00m\u001b[43m,\u001b[49m\n\u001b[32m    676\u001b[39m \u001b[43m        \u001b[49m\u001b[43mretries\u001b[49m\u001b[43m=\u001b[49m\u001b[38;5;28;43mself\u001b[39;49m\u001b[43m.\u001b[49m\u001b[43mmax_retries\u001b[49m\u001b[43m,\u001b[49m\n\u001b[32m    677\u001b[39m \u001b[43m        \u001b[49m\u001b[43mtimeout\u001b[49m\u001b[43m=\u001b[49m\u001b[43mtimeout\u001b[49m\u001b[43m,\u001b[49m\n\u001b[32m    678\u001b[39m \u001b[43m        \u001b[49m\u001b[43mchunked\u001b[49m\u001b[43m=\u001b[49m\u001b[43mchunked\u001b[49m\u001b[43m,\u001b[49m\n\u001b[32m    679\u001b[39m \u001b[43m    \u001b[49m\u001b[43m)\u001b[49m\n\u001b[32m    681\u001b[39m \u001b[38;5;28;01mexcept\u001b[39;00m (ProtocolError, \u001b[38;5;167;01mOSError\u001b[39;00m) \u001b[38;5;28;01mas\u001b[39;00m err:\n\u001b[32m    682\u001b[39m     \u001b[38;5;28;01mraise\u001b[39;00m \u001b[38;5;167;01mConnectionError\u001b[39;00m(err, request=request)\n",
            "\u001b[36mFile \u001b[39m\u001b[32m/Library/Frameworks/Python.framework/Versions/3.12/lib/python3.12/site-packages/urllib3/connectionpool.py:787\u001b[39m, in \u001b[36mHTTPConnectionPool.urlopen\u001b[39m\u001b[34m(self, method, url, body, headers, retries, redirect, assert_same_host, timeout, pool_timeout, release_conn, chunked, body_pos, preload_content, decode_content, **response_kw)\u001b[39m\n\u001b[32m    784\u001b[39m response_conn = conn \u001b[38;5;28;01mif\u001b[39;00m \u001b[38;5;129;01mnot\u001b[39;00m release_conn \u001b[38;5;28;01melse\u001b[39;00m \u001b[38;5;28;01mNone\u001b[39;00m\n\u001b[32m    786\u001b[39m \u001b[38;5;66;03m# Make the request on the HTTPConnection object\u001b[39;00m\n\u001b[32m--> \u001b[39m\u001b[32m787\u001b[39m response = \u001b[38;5;28;43mself\u001b[39;49m\u001b[43m.\u001b[49m\u001b[43m_make_request\u001b[49m\u001b[43m(\u001b[49m\n\u001b[32m    788\u001b[39m \u001b[43m    \u001b[49m\u001b[43mconn\u001b[49m\u001b[43m,\u001b[49m\n\u001b[32m    789\u001b[39m \u001b[43m    \u001b[49m\u001b[43mmethod\u001b[49m\u001b[43m,\u001b[49m\n\u001b[32m    790\u001b[39m \u001b[43m    \u001b[49m\u001b[43murl\u001b[49m\u001b[43m,\u001b[49m\n\u001b[32m    791\u001b[39m \u001b[43m    \u001b[49m\u001b[43mtimeout\u001b[49m\u001b[43m=\u001b[49m\u001b[43mtimeout_obj\u001b[49m\u001b[43m,\u001b[49m\n\u001b[32m    792\u001b[39m \u001b[43m    \u001b[49m\u001b[43mbody\u001b[49m\u001b[43m=\u001b[49m\u001b[43mbody\u001b[49m\u001b[43m,\u001b[49m\n\u001b[32m    793\u001b[39m \u001b[43m    \u001b[49m\u001b[43mheaders\u001b[49m\u001b[43m=\u001b[49m\u001b[43mheaders\u001b[49m\u001b[43m,\u001b[49m\n\u001b[32m    794\u001b[39m \u001b[43m    \u001b[49m\u001b[43mchunked\u001b[49m\u001b[43m=\u001b[49m\u001b[43mchunked\u001b[49m\u001b[43m,\u001b[49m\n\u001b[32m    795\u001b[39m \u001b[43m    \u001b[49m\u001b[43mretries\u001b[49m\u001b[43m=\u001b[49m\u001b[43mretries\u001b[49m\u001b[43m,\u001b[49m\n\u001b[32m    796\u001b[39m \u001b[43m    \u001b[49m\u001b[43mresponse_conn\u001b[49m\u001b[43m=\u001b[49m\u001b[43mresponse_conn\u001b[49m\u001b[43m,\u001b[49m\n\u001b[32m    797\u001b[39m \u001b[43m    \u001b[49m\u001b[43mpreload_content\u001b[49m\u001b[43m=\u001b[49m\u001b[43mpreload_content\u001b[49m\u001b[43m,\u001b[49m\n\u001b[32m    798\u001b[39m \u001b[43m    \u001b[49m\u001b[43mdecode_content\u001b[49m\u001b[43m=\u001b[49m\u001b[43mdecode_content\u001b[49m\u001b[43m,\u001b[49m\n\u001b[32m    799\u001b[39m \u001b[43m    \u001b[49m\u001b[43m*\u001b[49m\u001b[43m*\u001b[49m\u001b[43mresponse_kw\u001b[49m\u001b[43m,\u001b[49m\n\u001b[32m    800\u001b[39m \u001b[43m\u001b[49m\u001b[43m)\u001b[49m\n\u001b[32m    802\u001b[39m \u001b[38;5;66;03m# Everything went great!\u001b[39;00m\n\u001b[32m    803\u001b[39m clean_exit = \u001b[38;5;28;01mTrue\u001b[39;00m\n",
            "\u001b[36mFile \u001b[39m\u001b[32m/Library/Frameworks/Python.framework/Versions/3.12/lib/python3.12/site-packages/urllib3/connectionpool.py:464\u001b[39m, in \u001b[36mHTTPConnectionPool._make_request\u001b[39m\u001b[34m(self, conn, method, url, body, headers, retries, timeout, chunked, response_conn, preload_content, decode_content, enforce_content_length)\u001b[39m\n\u001b[32m    461\u001b[39m \u001b[38;5;28;01mtry\u001b[39;00m:\n\u001b[32m    462\u001b[39m     \u001b[38;5;66;03m# Trigger any extra validation we need to do.\u001b[39;00m\n\u001b[32m    463\u001b[39m     \u001b[38;5;28;01mtry\u001b[39;00m:\n\u001b[32m--> \u001b[39m\u001b[32m464\u001b[39m         \u001b[38;5;28;43mself\u001b[39;49m\u001b[43m.\u001b[49m\u001b[43m_validate_conn\u001b[49m\u001b[43m(\u001b[49m\u001b[43mconn\u001b[49m\u001b[43m)\u001b[49m\n\u001b[32m    465\u001b[39m     \u001b[38;5;28;01mexcept\u001b[39;00m (SocketTimeout, BaseSSLError) \u001b[38;5;28;01mas\u001b[39;00m e:\n\u001b[32m    466\u001b[39m         \u001b[38;5;28mself\u001b[39m._raise_timeout(err=e, url=url, timeout_value=conn.timeout)\n",
            "\u001b[36mFile \u001b[39m\u001b[32m/Library/Frameworks/Python.framework/Versions/3.12/lib/python3.12/site-packages/urllib3/connectionpool.py:1093\u001b[39m, in \u001b[36mHTTPSConnectionPool._validate_conn\u001b[39m\u001b[34m(self, conn)\u001b[39m\n\u001b[32m   1091\u001b[39m \u001b[38;5;66;03m# Force connect early to allow us to validate the connection.\u001b[39;00m\n\u001b[32m   1092\u001b[39m \u001b[38;5;28;01mif\u001b[39;00m conn.is_closed:\n\u001b[32m-> \u001b[39m\u001b[32m1093\u001b[39m     \u001b[43mconn\u001b[49m\u001b[43m.\u001b[49m\u001b[43mconnect\u001b[49m\u001b[43m(\u001b[49m\u001b[43m)\u001b[49m\n\u001b[32m   1095\u001b[39m \u001b[38;5;66;03m# TODO revise this, see https://github.com/urllib3/urllib3/issues/2791\u001b[39;00m\n\u001b[32m   1096\u001b[39m \u001b[38;5;28;01mif\u001b[39;00m \u001b[38;5;129;01mnot\u001b[39;00m conn.is_verified \u001b[38;5;129;01mand\u001b[39;00m \u001b[38;5;129;01mnot\u001b[39;00m conn.proxy_is_verified:\n",
            "\u001b[36mFile \u001b[39m\u001b[32m/Library/Frameworks/Python.framework/Versions/3.12/lib/python3.12/site-packages/urllib3/connection.py:741\u001b[39m, in \u001b[36mHTTPSConnection.connect\u001b[39m\u001b[34m(self)\u001b[39m\n\u001b[32m    738\u001b[39m     \u001b[38;5;66;03m# Remove trailing '.' from fqdn hostnames to allow certificate validation\u001b[39;00m\n\u001b[32m    739\u001b[39m     server_hostname_rm_dot = server_hostname.rstrip(\u001b[33m\"\u001b[39m\u001b[33m.\u001b[39m\u001b[33m\"\u001b[39m)\n\u001b[32m--> \u001b[39m\u001b[32m741\u001b[39m     sock_and_verified = \u001b[43m_ssl_wrap_socket_and_match_hostname\u001b[49m\u001b[43m(\u001b[49m\n\u001b[32m    742\u001b[39m \u001b[43m        \u001b[49m\u001b[43msock\u001b[49m\u001b[43m=\u001b[49m\u001b[43msock\u001b[49m\u001b[43m,\u001b[49m\n\u001b[32m    743\u001b[39m \u001b[43m        \u001b[49m\u001b[43mcert_reqs\u001b[49m\u001b[43m=\u001b[49m\u001b[38;5;28;43mself\u001b[39;49m\u001b[43m.\u001b[49m\u001b[43mcert_reqs\u001b[49m\u001b[43m,\u001b[49m\n\u001b[32m    744\u001b[39m \u001b[43m        \u001b[49m\u001b[43mssl_version\u001b[49m\u001b[43m=\u001b[49m\u001b[38;5;28;43mself\u001b[39;49m\u001b[43m.\u001b[49m\u001b[43mssl_version\u001b[49m\u001b[43m,\u001b[49m\n\u001b[32m    745\u001b[39m \u001b[43m        \u001b[49m\u001b[43mssl_minimum_version\u001b[49m\u001b[43m=\u001b[49m\u001b[38;5;28;43mself\u001b[39;49m\u001b[43m.\u001b[49m\u001b[43mssl_minimum_version\u001b[49m\u001b[43m,\u001b[49m\n\u001b[32m    746\u001b[39m \u001b[43m        \u001b[49m\u001b[43mssl_maximum_version\u001b[49m\u001b[43m=\u001b[49m\u001b[38;5;28;43mself\u001b[39;49m\u001b[43m.\u001b[49m\u001b[43mssl_maximum_version\u001b[49m\u001b[43m,\u001b[49m\n\u001b[32m    747\u001b[39m \u001b[43m        \u001b[49m\u001b[43mca_certs\u001b[49m\u001b[43m=\u001b[49m\u001b[38;5;28;43mself\u001b[39;49m\u001b[43m.\u001b[49m\u001b[43mca_certs\u001b[49m\u001b[43m,\u001b[49m\n\u001b[32m    748\u001b[39m \u001b[43m        \u001b[49m\u001b[43mca_cert_dir\u001b[49m\u001b[43m=\u001b[49m\u001b[38;5;28;43mself\u001b[39;49m\u001b[43m.\u001b[49m\u001b[43mca_cert_dir\u001b[49m\u001b[43m,\u001b[49m\n\u001b[32m    749\u001b[39m \u001b[43m        \u001b[49m\u001b[43mca_cert_data\u001b[49m\u001b[43m=\u001b[49m\u001b[38;5;28;43mself\u001b[39;49m\u001b[43m.\u001b[49m\u001b[43mca_cert_data\u001b[49m\u001b[43m,\u001b[49m\n\u001b[32m    750\u001b[39m \u001b[43m        \u001b[49m\u001b[43mcert_file\u001b[49m\u001b[43m=\u001b[49m\u001b[38;5;28;43mself\u001b[39;49m\u001b[43m.\u001b[49m\u001b[43mcert_file\u001b[49m\u001b[43m,\u001b[49m\n\u001b[32m    751\u001b[39m \u001b[43m        \u001b[49m\u001b[43mkey_file\u001b[49m\u001b[43m=\u001b[49m\u001b[38;5;28;43mself\u001b[39;49m\u001b[43m.\u001b[49m\u001b[43mkey_file\u001b[49m\u001b[43m,\u001b[49m\n\u001b[32m    752\u001b[39m \u001b[43m        \u001b[49m\u001b[43mkey_password\u001b[49m\u001b[43m=\u001b[49m\u001b[38;5;28;43mself\u001b[39;49m\u001b[43m.\u001b[49m\u001b[43mkey_password\u001b[49m\u001b[43m,\u001b[49m\n\u001b[32m    753\u001b[39m \u001b[43m        \u001b[49m\u001b[43mserver_hostname\u001b[49m\u001b[43m=\u001b[49m\u001b[43mserver_hostname_rm_dot\u001b[49m\u001b[43m,\u001b[49m\n\u001b[32m    754\u001b[39m \u001b[43m        \u001b[49m\u001b[43mssl_context\u001b[49m\u001b[43m=\u001b[49m\u001b[38;5;28;43mself\u001b[39;49m\u001b[43m.\u001b[49m\u001b[43mssl_context\u001b[49m\u001b[43m,\u001b[49m\n\u001b[32m    755\u001b[39m \u001b[43m        \u001b[49m\u001b[43mtls_in_tls\u001b[49m\u001b[43m=\u001b[49m\u001b[43mtls_in_tls\u001b[49m\u001b[43m,\u001b[49m\n\u001b[32m    756\u001b[39m \u001b[43m        \u001b[49m\u001b[43massert_hostname\u001b[49m\u001b[43m=\u001b[49m\u001b[38;5;28;43mself\u001b[39;49m\u001b[43m.\u001b[49m\u001b[43massert_hostname\u001b[49m\u001b[43m,\u001b[49m\n\u001b[32m    757\u001b[39m \u001b[43m        \u001b[49m\u001b[43massert_fingerprint\u001b[49m\u001b[43m=\u001b[49m\u001b[38;5;28;43mself\u001b[39;49m\u001b[43m.\u001b[49m\u001b[43massert_fingerprint\u001b[49m\u001b[43m,\u001b[49m\n\u001b[32m    758\u001b[39m \u001b[43m    \u001b[49m\u001b[43m)\u001b[49m\n\u001b[32m    759\u001b[39m     \u001b[38;5;28mself\u001b[39m.sock = sock_and_verified.socket\n\u001b[32m    761\u001b[39m \u001b[38;5;66;03m# If an error occurs during connection/handshake we may need to release\u001b[39;00m\n\u001b[32m    762\u001b[39m \u001b[38;5;66;03m# our lock so another connection can probe the origin.\u001b[39;00m\n",
            "\u001b[36mFile \u001b[39m\u001b[32m/Library/Frameworks/Python.framework/Versions/3.12/lib/python3.12/site-packages/urllib3/connection.py:920\u001b[39m, in \u001b[36m_ssl_wrap_socket_and_match_hostname\u001b[39m\u001b[34m(sock, cert_reqs, ssl_version, ssl_minimum_version, ssl_maximum_version, cert_file, key_file, key_password, ca_certs, ca_cert_dir, ca_cert_data, assert_hostname, assert_fingerprint, server_hostname, ssl_context, tls_in_tls)\u001b[39m\n\u001b[32m    917\u001b[39m     \u001b[38;5;28;01mif\u001b[39;00m is_ipaddress(normalized):\n\u001b[32m    918\u001b[39m         server_hostname = normalized\n\u001b[32m--> \u001b[39m\u001b[32m920\u001b[39m ssl_sock = \u001b[43mssl_wrap_socket\u001b[49m\u001b[43m(\u001b[49m\n\u001b[32m    921\u001b[39m \u001b[43m    \u001b[49m\u001b[43msock\u001b[49m\u001b[43m=\u001b[49m\u001b[43msock\u001b[49m\u001b[43m,\u001b[49m\n\u001b[32m    922\u001b[39m \u001b[43m    \u001b[49m\u001b[43mkeyfile\u001b[49m\u001b[43m=\u001b[49m\u001b[43mkey_file\u001b[49m\u001b[43m,\u001b[49m\n\u001b[32m    923\u001b[39m \u001b[43m    \u001b[49m\u001b[43mcertfile\u001b[49m\u001b[43m=\u001b[49m\u001b[43mcert_file\u001b[49m\u001b[43m,\u001b[49m\n\u001b[32m    924\u001b[39m \u001b[43m    \u001b[49m\u001b[43mkey_password\u001b[49m\u001b[43m=\u001b[49m\u001b[43mkey_password\u001b[49m\u001b[43m,\u001b[49m\n\u001b[32m    925\u001b[39m \u001b[43m    \u001b[49m\u001b[43mca_certs\u001b[49m\u001b[43m=\u001b[49m\u001b[43mca_certs\u001b[49m\u001b[43m,\u001b[49m\n\u001b[32m    926\u001b[39m \u001b[43m    \u001b[49m\u001b[43mca_cert_dir\u001b[49m\u001b[43m=\u001b[49m\u001b[43mca_cert_dir\u001b[49m\u001b[43m,\u001b[49m\n\u001b[32m    927\u001b[39m \u001b[43m    \u001b[49m\u001b[43mca_cert_data\u001b[49m\u001b[43m=\u001b[49m\u001b[43mca_cert_data\u001b[49m\u001b[43m,\u001b[49m\n\u001b[32m    928\u001b[39m \u001b[43m    \u001b[49m\u001b[43mserver_hostname\u001b[49m\u001b[43m=\u001b[49m\u001b[43mserver_hostname\u001b[49m\u001b[43m,\u001b[49m\n\u001b[32m    929\u001b[39m \u001b[43m    \u001b[49m\u001b[43mssl_context\u001b[49m\u001b[43m=\u001b[49m\u001b[43mcontext\u001b[49m\u001b[43m,\u001b[49m\n\u001b[32m    930\u001b[39m \u001b[43m    \u001b[49m\u001b[43mtls_in_tls\u001b[49m\u001b[43m=\u001b[49m\u001b[43mtls_in_tls\u001b[49m\u001b[43m,\u001b[49m\n\u001b[32m    931\u001b[39m \u001b[43m\u001b[49m\u001b[43m)\u001b[49m\n\u001b[32m    933\u001b[39m \u001b[38;5;28;01mtry\u001b[39;00m:\n\u001b[32m    934\u001b[39m     \u001b[38;5;28;01mif\u001b[39;00m assert_fingerprint:\n",
            "\u001b[36mFile \u001b[39m\u001b[32m/Library/Frameworks/Python.framework/Versions/3.12/lib/python3.12/site-packages/urllib3/util/ssl_.py:460\u001b[39m, in \u001b[36mssl_wrap_socket\u001b[39m\u001b[34m(sock, keyfile, certfile, cert_reqs, ca_certs, server_hostname, ssl_version, ciphers, ssl_context, ca_cert_dir, key_password, ca_cert_data, tls_in_tls)\u001b[39m\n\u001b[32m    456\u001b[39m         context.load_cert_chain(certfile, keyfile, key_password)\n\u001b[32m    458\u001b[39m context.set_alpn_protocols(ALPN_PROTOCOLS)\n\u001b[32m--> \u001b[39m\u001b[32m460\u001b[39m ssl_sock = \u001b[43m_ssl_wrap_socket_impl\u001b[49m\u001b[43m(\u001b[49m\u001b[43msock\u001b[49m\u001b[43m,\u001b[49m\u001b[43m \u001b[49m\u001b[43mcontext\u001b[49m\u001b[43m,\u001b[49m\u001b[43m \u001b[49m\u001b[43mtls_in_tls\u001b[49m\u001b[43m,\u001b[49m\u001b[43m \u001b[49m\u001b[43mserver_hostname\u001b[49m\u001b[43m)\u001b[49m\n\u001b[32m    461\u001b[39m \u001b[38;5;28;01mreturn\u001b[39;00m ssl_sock\n",
            "\u001b[36mFile \u001b[39m\u001b[32m/Library/Frameworks/Python.framework/Versions/3.12/lib/python3.12/site-packages/urllib3/util/ssl_.py:504\u001b[39m, in \u001b[36m_ssl_wrap_socket_impl\u001b[39m\u001b[34m(sock, ssl_context, tls_in_tls, server_hostname)\u001b[39m\n\u001b[32m    501\u001b[39m     SSLTransport._validate_ssl_context_for_tls_in_tls(ssl_context)\n\u001b[32m    502\u001b[39m     \u001b[38;5;28;01mreturn\u001b[39;00m SSLTransport(sock, ssl_context, server_hostname)\n\u001b[32m--> \u001b[39m\u001b[32m504\u001b[39m \u001b[38;5;28;01mreturn\u001b[39;00m \u001b[43mssl_context\u001b[49m\u001b[43m.\u001b[49m\u001b[43mwrap_socket\u001b[49m\u001b[43m(\u001b[49m\u001b[43msock\u001b[49m\u001b[43m,\u001b[49m\u001b[43m \u001b[49m\u001b[43mserver_hostname\u001b[49m\u001b[43m=\u001b[49m\u001b[43mserver_hostname\u001b[49m\u001b[43m)\u001b[49m\n",
            "\u001b[36mFile \u001b[39m\u001b[32m/Library/Frameworks/Python.framework/Versions/3.12/lib/python3.12/ssl.py:455\u001b[39m, in \u001b[36mSSLContext.wrap_socket\u001b[39m\u001b[34m(self, sock, server_side, do_handshake_on_connect, suppress_ragged_eofs, server_hostname, session)\u001b[39m\n\u001b[32m    449\u001b[39m \u001b[38;5;28;01mdef\u001b[39;00m\u001b[38;5;250m \u001b[39m\u001b[34mwrap_socket\u001b[39m(\u001b[38;5;28mself\u001b[39m, sock, server_side=\u001b[38;5;28;01mFalse\u001b[39;00m,\n\u001b[32m    450\u001b[39m                 do_handshake_on_connect=\u001b[38;5;28;01mTrue\u001b[39;00m,\n\u001b[32m    451\u001b[39m                 suppress_ragged_eofs=\u001b[38;5;28;01mTrue\u001b[39;00m,\n\u001b[32m    452\u001b[39m                 server_hostname=\u001b[38;5;28;01mNone\u001b[39;00m, session=\u001b[38;5;28;01mNone\u001b[39;00m):\n\u001b[32m    453\u001b[39m     \u001b[38;5;66;03m# SSLSocket class handles server_hostname encoding before it calls\u001b[39;00m\n\u001b[32m    454\u001b[39m     \u001b[38;5;66;03m# ctx._wrap_socket()\u001b[39;00m\n\u001b[32m--> \u001b[39m\u001b[32m455\u001b[39m     \u001b[38;5;28;01mreturn\u001b[39;00m \u001b[38;5;28;43mself\u001b[39;49m\u001b[43m.\u001b[49m\u001b[43msslsocket_class\u001b[49m\u001b[43m.\u001b[49m\u001b[43m_create\u001b[49m\u001b[43m(\u001b[49m\n\u001b[32m    456\u001b[39m \u001b[43m        \u001b[49m\u001b[43msock\u001b[49m\u001b[43m=\u001b[49m\u001b[43msock\u001b[49m\u001b[43m,\u001b[49m\n\u001b[32m    457\u001b[39m \u001b[43m        \u001b[49m\u001b[43mserver_side\u001b[49m\u001b[43m=\u001b[49m\u001b[43mserver_side\u001b[49m\u001b[43m,\u001b[49m\n\u001b[32m    458\u001b[39m \u001b[43m        \u001b[49m\u001b[43mdo_handshake_on_connect\u001b[49m\u001b[43m=\u001b[49m\u001b[43mdo_handshake_on_connect\u001b[49m\u001b[43m,\u001b[49m\n\u001b[32m    459\u001b[39m \u001b[43m        \u001b[49m\u001b[43msuppress_ragged_eofs\u001b[49m\u001b[43m=\u001b[49m\u001b[43msuppress_ragged_eofs\u001b[49m\u001b[43m,\u001b[49m\n\u001b[32m    460\u001b[39m \u001b[43m        \u001b[49m\u001b[43mserver_hostname\u001b[49m\u001b[43m=\u001b[49m\u001b[43mserver_hostname\u001b[49m\u001b[43m,\u001b[49m\n\u001b[32m    461\u001b[39m \u001b[43m        \u001b[49m\u001b[43mcontext\u001b[49m\u001b[43m=\u001b[49m\u001b[38;5;28;43mself\u001b[39;49m\u001b[43m,\u001b[49m\n\u001b[32m    462\u001b[39m \u001b[43m        \u001b[49m\u001b[43msession\u001b[49m\u001b[43m=\u001b[49m\u001b[43msession\u001b[49m\n\u001b[32m    463\u001b[39m \u001b[43m    \u001b[49m\u001b[43m)\u001b[49m\n",
            "\u001b[36mFile \u001b[39m\u001b[32m/Library/Frameworks/Python.framework/Versions/3.12/lib/python3.12/ssl.py:1042\u001b[39m, in \u001b[36mSSLSocket._create\u001b[39m\u001b[34m(cls, sock, server_side, do_handshake_on_connect, suppress_ragged_eofs, server_hostname, context, session)\u001b[39m\n\u001b[32m   1039\u001b[39m             \u001b[38;5;28;01mif\u001b[39;00m timeout == \u001b[32m0.0\u001b[39m:\n\u001b[32m   1040\u001b[39m                 \u001b[38;5;66;03m# non-blocking\u001b[39;00m\n\u001b[32m   1041\u001b[39m                 \u001b[38;5;28;01mraise\u001b[39;00m \u001b[38;5;167;01mValueError\u001b[39;00m(\u001b[33m\"\u001b[39m\u001b[33mdo_handshake_on_connect should not be specified for non-blocking sockets\u001b[39m\u001b[33m\"\u001b[39m)\n\u001b[32m-> \u001b[39m\u001b[32m1042\u001b[39m             \u001b[38;5;28;43mself\u001b[39;49m\u001b[43m.\u001b[49m\u001b[43mdo_handshake\u001b[49m\u001b[43m(\u001b[49m\u001b[43m)\u001b[49m\n\u001b[32m   1043\u001b[39m \u001b[38;5;28;01mexcept\u001b[39;00m:\n\u001b[32m   1044\u001b[39m     \u001b[38;5;28;01mtry\u001b[39;00m:\n",
            "\u001b[36mFile \u001b[39m\u001b[32m/Library/Frameworks/Python.framework/Versions/3.12/lib/python3.12/ssl.py:1320\u001b[39m, in \u001b[36mSSLSocket.do_handshake\u001b[39m\u001b[34m(self, block)\u001b[39m\n\u001b[32m   1318\u001b[39m     \u001b[38;5;28;01mif\u001b[39;00m timeout == \u001b[32m0.0\u001b[39m \u001b[38;5;129;01mand\u001b[39;00m block:\n\u001b[32m   1319\u001b[39m         \u001b[38;5;28mself\u001b[39m.settimeout(\u001b[38;5;28;01mNone\u001b[39;00m)\n\u001b[32m-> \u001b[39m\u001b[32m1320\u001b[39m     \u001b[38;5;28;43mself\u001b[39;49m\u001b[43m.\u001b[49m\u001b[43m_sslobj\u001b[49m\u001b[43m.\u001b[49m\u001b[43mdo_handshake\u001b[49m\u001b[43m(\u001b[49m\u001b[43m)\u001b[49m\n\u001b[32m   1321\u001b[39m \u001b[38;5;28;01mfinally\u001b[39;00m:\n\u001b[32m   1322\u001b[39m     \u001b[38;5;28mself\u001b[39m.settimeout(timeout)\n",
            "\u001b[31mKeyboardInterrupt\u001b[39m: "
          ]
        }
      ],
      "source": [
        "import time\n",
        "import requests\n",
        "\n",
        "URL = 'https://httpbin.org/uuid'\n",
        "\n",
        "t0 = time.time()\n",
        "\n",
        "for _ in range(300):\n",
        "    response = requests.get(URL)\n",
        "\n",
        "print(f'It took {time.time() - t0:.2f} s to finish the request')"
      ]
    },
    {
      "cell_type": "markdown",
      "metadata": {
        "id": "7BBFMWRNqiCo"
      },
      "source": [
        "What the code does is that it starts 300 GET requests to the API in question and returns the result. Before starting the requests a time variable t0 is initialized that holds the start time. After exiting the 'for' loop, the time it took to finish all the requests is displayed."
      ]
    },
    {
      "cell_type": "markdown",
      "metadata": {
        "id": "EiACNdqTqnWv"
      },
      "source": [
        "## Multiprocessing code"
      ]
    },
    {
      "cell_type": "markdown",
      "metadata": {
        "id": "dRftjIWXo2Tc"
      },
      "source": [
        "A multiprocessing code is able to leverage modern CPUs by [spawning processes](https://docs.python.org/3/library/multiprocessing.html#contexts-and-start-methods). What that means is that if there are 8 cores in the CPU, 8 different processes can be spawned to attempt 8 different tasks simultaneously. An additional module called `ProcessPoolExecutor` is used here. It is a subclass that executes calls asynchronously using a pool object. One benefit of using a process pool executor is that it returns a generator object instead of a simple list containing the results. It is possible to iterate over results we can simple call __next__ on it."
      ]
    },
    {
      "cell_type": "code",
      "execution_count": 31,
      "metadata": {
        "colab": {
          "base_uri": "https://localhost:8080/"
        },
        "id": "GZWOJRvHp2G-",
        "outputId": "b1540bad-9a48-4b62-9115-20e6d9316837"
      },
      "outputs": [
        {
          "name": "stdout",
          "output_type": "stream",
          "text": [
            "It took 0.06 secs to finish multiprocessing\n"
          ]
        },
        {
          "name": "stderr",
          "output_type": "stream",
          "text": [
            "Process SpawnProcess-9:\n",
            "Traceback (most recent call last):\n",
            "Process SpawnProcess-11:\n",
            "Traceback (most recent call last):\n",
            "  File \"/Library/Frameworks/Python.framework/Versions/3.12/lib/python3.12/multiprocessing/process.py\", line 314, in _bootstrap\n",
            "    self.run()\n",
            "  File \"/Library/Frameworks/Python.framework/Versions/3.12/lib/python3.12/multiprocessing/process.py\", line 108, in run\n",
            "    self._target(*self._args, **self._kwargs)\n",
            "  File \"/Library/Frameworks/Python.framework/Versions/3.12/lib/python3.12/concurrent/futures/process.py\", line 251, in _process_worker\n",
            "    call_item = call_queue.get(block=True)\n",
            "                ^^^^^^^^^^^^^^^^^^^^^^^^^^\n",
            "  File \"/Library/Frameworks/Python.framework/Versions/3.12/lib/python3.12/multiprocessing/queues.py\", line 122, in get\n",
            "    return _ForkingPickler.loads(res)\n",
            "           ^^^^^^^^^^^^^^^^^^^^^^^^^^\n",
            "AttributeError: Can't get attribute 'fetch' on <module '__main__' (<class '_frozen_importlib.BuiltinImporter'>)>\n",
            "Process SpawnProcess-10:\n",
            "Traceback (most recent call last):\n",
            "  File \"/Library/Frameworks/Python.framework/Versions/3.12/lib/python3.12/multiprocessing/process.py\", line 314, in _bootstrap\n",
            "    self.run()\n",
            "  File \"/Library/Frameworks/Python.framework/Versions/3.12/lib/python3.12/multiprocessing/process.py\", line 108, in run\n",
            "    self._target(*self._args, **self._kwargs)\n",
            "  File \"/Library/Frameworks/Python.framework/Versions/3.12/lib/python3.12/concurrent/futures/process.py\", line 251, in _process_worker\n",
            "    call_item = call_queue.get(block=True)\n",
            "                ^^^^^^^^^^^^^^^^^^^^^^^^^^\n",
            "  File \"/Library/Frameworks/Python.framework/Versions/3.12/lib/python3.12/multiprocessing/queues.py\", line 122, in get\n",
            "    return _ForkingPickler.loads(res)\n",
            "           ^^^^^^^^^^^^^^^^^^^^^^^^^^\n",
            "AttributeError: Can't get attribute 'fetch' on <module '__main__' (<class '_frozen_importlib.BuiltinImporter'>)>\n",
            "  File \"/Library/Frameworks/Python.framework/Versions/3.12/lib/python3.12/multiprocessing/process.py\", line 314, in _bootstrap\n",
            "    self.run()\n",
            "  File \"/Library/Frameworks/Python.framework/Versions/3.12/lib/python3.12/multiprocessing/process.py\", line 108, in run\n",
            "    self._target(*self._args, **self._kwargs)\n",
            "  File \"/Library/Frameworks/Python.framework/Versions/3.12/lib/python3.12/concurrent/futures/process.py\", line 251, in _process_worker\n",
            "    call_item = call_queue.get(block=True)\n",
            "                ^^^^^^^^^^^^^^^^^^^^^^^^^^\n",
            "  File \"/Library/Frameworks/Python.framework/Versions/3.12/lib/python3.12/multiprocessing/queues.py\", line 122, in get\n",
            "    return _ForkingPickler.loads(res)\n",
            "           ^^^^^^^^^^^^^^^^^^^^^^^^^^\n",
            "AttributeError: Can't get attribute 'fetch' on <module '__main__' (<class '_frozen_importlib.BuiltinImporter'>)>\n"
          ]
        }
      ],
      "source": [
        "import time\n",
        "import requests\n",
        "from concurrent.futures import ProcessPoolExecutor\n",
        "\n",
        "def fetch(url):\n",
        "    response = requests.get(url)\n",
        "    return response.json()\n",
        "\n",
        "if __name__ == '__main__':\n",
        "\n",
        "    URL = 'https://httpbin.org/uuid'\n",
        "    t0 = time.time()\n",
        "\n",
        "    with ProcessPoolExecutor() as executor:\n",
        "        future = executor.map(fetch, [URL for _ in range(300)])\n",
        "\n",
        "    print(f'It took {time.time() - t0:.2f} secs to finish multiprocessing')"
      ]
    },
    {
      "cell_type": "markdown",
      "metadata": {
        "id": "94iE25STq9ai"
      },
      "source": [
        "As seen from the above results, there is quite an improvement with few lines of code, in comparison with synchronous results."
      ]
    },
    {
      "cell_type": "markdown",
      "metadata": {
        "id": "B7kwh3ssbYs_"
      },
      "source": [
        "### Please answer the questions below to complete the experiment:"
      ]
    },
    {
      "cell_type": "code",
      "execution_count": null,
      "metadata": {
        "id": "HoJstaBoHkQL"
      },
      "outputs": [],
      "source": [
        "#@title Which of the following describes spawning? { run: \"auto\", form-width: \"500px\", display-mode: \"form\" }\n",
        "Answer = \"The parent process starts a fresh Python interpreter process. The child process will only inherit those resources necessary to run the process object’s run() method\" #@param [\"\", \"The parent process starts a fresh Python interpreter process. The child process will only inherit those resources necessary to run the process object’s run() method\", \"The child process, when it begins, is effectively identical to the parent process. All resources of the parent are inherited by the child process\", \"A server process is started. From then on, whenever a new process is needed, the parent process connects to the server and requests that it fork a new process\"]"
      ]
    },
    {
      "cell_type": "code",
      "execution_count": null,
      "metadata": {
        "id": "WSenbIG2SVzb"
      },
      "outputs": [],
      "source": [
        "#@title How was the experiment? { run: \"auto\", form-width: \"500px\", display-mode: \"form\" }\n",
        "Complexity = \"Good, But Not Challenging for me\" #@param [\"\",\"Too Simple, I am wasting time\", \"Good, But Not Challenging for me\", \"Good and Challenging for me\", \"Was Tough, but I did it\", \"Too Difficult for me\"]\n"
      ]
    },
    {
      "cell_type": "code",
      "execution_count": null,
      "metadata": {
        "id": "dfoWryqWSZ51"
      },
      "outputs": [],
      "source": [
        "#@title If it was too easy, what more would you have liked to be added? If it was very difficult, what would you have liked to have been removed? { run: \"auto\", display-mode: \"form\" }\n",
        "Additional = \"I know PSUtil and basics of threads and programming - so found this easy\" #@param {type:\"string\"}\n"
      ]
    },
    {
      "cell_type": "code",
      "execution_count": null,
      "metadata": {
        "id": "5W3mKx7ZSdQJ"
      },
      "outputs": [],
      "source": [
        "#@title Can you identify the concepts from the lecture which this experiment covered? { run: \"auto\", vertical-output: true, display-mode: \"form\" }\n",
        "Concepts = \"Yes\" #@param [\"\",\"Yes\", \"No\"]\n"
      ]
    },
    {
      "cell_type": "code",
      "execution_count": null,
      "metadata": {
        "id": "jrSL7a8xSqZp"
      },
      "outputs": [],
      "source": [
        "#@title  Text and image description/explanation and code comments within the experiment: { run: \"auto\", vertical-output: true, display-mode: \"form\" }\n",
        "Comments = \"Very Useful\" #@param [\"\",\"Very Useful\", \"Somewhat Useful\", \"Not Useful\", \"Didn't use\"]\n"
      ]
    },
    {
      "cell_type": "code",
      "execution_count": null,
      "metadata": {
        "id": "2PhHCHJ_SwgY"
      },
      "outputs": [],
      "source": [
        "#@title Mentor Support: { run: \"auto\", vertical-output: true, display-mode: \"form\" }\n",
        "Mentor_support = \"Didn't use\" #@param [\"\",\"Very Useful\", \"Somewhat Useful\", \"Not Useful\", \"Didn't use\"]\n"
      ]
    },
    {
      "cell_type": "code",
      "execution_count": null,
      "metadata": {
        "cellView": "form",
        "colab": {
          "base_uri": "https://localhost:8080/"
        },
        "id": "NbEVWeY_bhez",
        "outputId": "25b4012a-c78b-47a1-cf86-9f900f8aea6f"
      },
      "outputs": [
        {
          "name": "stdout",
          "output_type": "stream",
          "text": [
            "Your submission is successful.\n",
            "Ref Id: 4551\n",
            "Date of submission:  26 Apr 2025\n",
            "Time of submission:  13:32:38\n",
            "View your submissions: https://learn-iisc.talentsprint.com/notebook_submissions\n"
          ]
        }
      ],
      "source": [
        "#@title Run this cell to submit your notebook for grading { vertical-output: true }\n",
        "try:\n",
        "  if submission_id:\n",
        "      return_id = submit_notebook()\n",
        "      if return_id : submission_id = return_id\n",
        "  else:\n",
        "      print(\"Please complete the setup first.\")\n",
        "except NameError:\n",
        "  print (\"Please complete the setup first.\")"
      ]
    }
  ],
  "metadata": {
    "colab": {
      "provenance": []
    },
    "kernelspec": {
      "display_name": "Python 3",
      "name": "python3"
    },
    "language_info": {
      "codemirror_mode": {
        "name": "ipython",
        "version": 3
      },
      "file_extension": ".py",
      "mimetype": "text/x-python",
      "name": "python",
      "nbconvert_exporter": "python",
      "pygments_lexer": "ipython3",
      "version": "3.12.4"
    }
  },
  "nbformat": 4,
  "nbformat_minor": 0
}
