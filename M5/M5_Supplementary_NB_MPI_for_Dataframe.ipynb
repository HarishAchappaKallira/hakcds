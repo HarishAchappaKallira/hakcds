{
  "cells": [
    {
      "cell_type": "code",
      "execution_count": null,
      "id": "7kMo2fWTd51-",
      "metadata": {
        "id": "7kMo2fWTd51-"
      },
      "outputs": [],
      "source": []
    },
    {
      "cell_type": "markdown",
      "id": "heated-queens",
      "metadata": {
        "id": "heated-queens"
      },
      "source": [
        "# Advanced Certification Program in Computational Data Science\n",
        "## A program by IISc and TalentSprint\n",
        "### Supplementary Notebook: Implementation of send and receive operation on a dataset using MPI"
      ]
    },
    {
      "cell_type": "markdown",
      "id": "military-proportion",
      "metadata": {
        "id": "military-proportion"
      },
      "source": [
        "## Learning Objectives"
      ]
    },
    {
      "cell_type": "markdown",
      "id": "durable-grounds",
      "metadata": {
        "id": "durable-grounds"
      },
      "source": [
        "At the end of the mini-project, you will be able to :\n",
        "\n",
        "* implement the collective communication operations like scatter, gather, broadcast on a dataset using MPI"
      ]
    },
    {
      "cell_type": "markdown",
      "id": "growing-queens",
      "metadata": {
        "id": "growing-queens"
      },
      "source": [
        "### Dataset"
      ]
    },
    {
      "cell_type": "markdown",
      "id": "raised-connection",
      "metadata": {
        "id": "raised-connection"
      },
      "source": [
        "Here, we will be using the “Iris dataset”.The Iris dataset contains 50 samples of 3 different species of iris (150 samples total).\n",
        "\n",
        "The columns in this dataset are:\n",
        "\n",
        "- SepalLength (cm)\n",
        "- SepalWidth (cm)\n",
        "- PetalLength (cm)\n",
        "- PetalWidth (cm)\n",
        "- Species"
      ]
    },
    {
      "cell_type": "markdown",
      "id": "global-savings",
      "metadata": {
        "id": "global-savings"
      },
      "source": [
        "**Note:** We will be using the mpi4py Python package for MPI based code implementation"
      ]
    },
    {
      "cell_type": "markdown",
      "id": "green-deviation",
      "metadata": {
        "id": "green-deviation"
      },
      "source": [
        "**Run the below code to install mpi4py package**"
      ]
    },
    {
      "cell_type": "code",
      "execution_count": null,
      "id": "designing-marketing",
      "metadata": {
        "id": "designing-marketing",
        "scrolled": true
      },
      "outputs": [],
      "source": [
        "!pip install mpi4py"
      ]
    },
    {
      "cell_type": "markdown",
      "id": "dedicated-thong",
      "metadata": {
        "id": "dedicated-thong"
      },
      "source": [
        "#### Importing Necessary Packages"
      ]
    },
    {
      "cell_type": "code",
      "execution_count": null,
      "id": "reported-acrobat",
      "metadata": {
        "id": "reported-acrobat",
        "scrolled": true
      },
      "outputs": [],
      "source": [
        "# Importing pandas\n",
        "import pandas as pd\n",
        "# Importing Numpy\n",
        "import numpy as np\n",
        "# Importing MPI from mpi4py package\n",
        "from mpi4py import MPI\n",
        "# Importing sqrt function from the Math\n",
        "from math import sqrt\n",
        "# Importing Decimal, ROUND_HALF_UP functions from the decimal package\n",
        "from decimal import Decimal, ROUND_HALF_UP\n",
        "import time\n",
        "from sklearn import datasets"
      ]
    },
    {
      "cell_type": "code",
      "execution_count": null,
      "id": "universal-jonathan",
      "metadata": {
        "cellView": "form",
        "id": "universal-jonathan",
        "scrolled": true
      },
      "outputs": [],
      "source": [
        "#@title Downloading the data\n",
        "iris = datasets.load_iris()\n",
        "dataset = pd.DataFrame(iris.data, columns = iris.feature_names)\n",
        "dataset['species'] = iris.target\n",
        "dataset['species'] = dataset['species'].apply(lambda x: iris.target_names[x])\n",
        "dataset.to_csv('iris_dataset.csv', index=False)\n",
        "print(\"Dataset downloaded successfully!\")"
      ]
    },
    {
      "cell_type": "markdown",
      "id": "early-peace",
      "metadata": {
        "id": "early-peace"
      },
      "source": [
        "### Load data\n",
        "\n",
        "Write a function that takes the filename as input and loads the data in a pandas dataframe."
      ]
    },
    {
      "cell_type": "code",
      "execution_count": null,
      "id": "differential-vacation",
      "metadata": {
        "id": "differential-vacation",
        "scrolled": true
      },
      "outputs": [],
      "source": [
        "FILENAME = \"/content/iris_dataset.csv\" # Storing File path\n",
        "# Defining a function to load the data\n",
        "def loadData(filename):\n",
        "    # Loading the dataset with column names as\n",
        "    data = pd.read_csv(filename)\n",
        "    # Returning the dataframe\n",
        "    return data\n",
        "# Calling the function loadData and storing the dataframe in a variable named df\n",
        "df = loadData(FILENAME)\n",
        "df.head()"
      ]
    },
    {
      "cell_type": "markdown",
      "id": "bi0E5wjVUf4Y",
      "metadata": {
        "id": "bi0E5wjVUf4Y"
      },
      "source": [
        "### Point-to-point Blocking Communication"
      ]
    },
    {
      "cell_type": "markdown",
      "id": "3YpLjFRGWzlP",
      "metadata": {
        "id": "3YpLjFRGWzlP"
      },
      "source": [
        "**Passing the entire Dataframe**"
      ]
    },
    {
      "cell_type": "code",
      "execution_count": null,
      "id": "keiEqxNFSEwY",
      "metadata": {
        "id": "keiEqxNFSEwY"
      },
      "outputs": [],
      "source": [
        "%%writefile passing_dataframe.py\n",
        "from mpi4py import MPI # Importing mpi4py package from MPI module\n",
        "import pandas as pd\n",
        "import numpy as np\n",
        "# Defining a function\n",
        "\n",
        "FILENAME = \"/content/iris_dataset.csv\" # Storing File path\n",
        "# Defining a function to load the data\n",
        "def loadData(filename):\n",
        "    # Loading the dataset with column names as\n",
        "    data = pd.read_csv(filename)\n",
        "    # Returning the dataframe\n",
        "    return data\n",
        "# Calling the function loadData and storing the dataframe in a variable named df\n",
        "df = loadData(FILENAME)\n",
        "\n",
        "def main():\n",
        "    # Creating a communicator\n",
        "    comm = MPI.COMM_WORLD\n",
        "    # number of the process running the code\n",
        "    rank = comm.Get_rank()\n",
        "    # total number of processes running\n",
        "    size = comm.Get_size()\n",
        "    # master process\n",
        "    if rank == 0:\n",
        "        # Generate a dictionary with arbitrary data in it\n",
        "        data = df\n",
        "        # master process sends data to worker processes by\n",
        "        # going through the ranks of all worker processes\n",
        "        for i in range(1, size):\n",
        "            # Sending data\n",
        "            comm.send(data, dest=i, tag=i)\n",
        "            # Displaying the results\n",
        "            print('Process {} sent data:'.format(rank), data)\n",
        "    # worker processes\n",
        "    else:\n",
        "        # each worker process receives data from master process\n",
        "        data = comm.recv(source=0, tag=rank)\n",
        "        # Displaying the results\n",
        "        print('Process {} received data:'.format(rank), data)\n",
        "# Calling the function\n",
        "main()"
      ]
    },
    {
      "cell_type": "code",
      "execution_count": null,
      "id": "pFg8vnR8TPpO",
      "metadata": {
        "id": "pFg8vnR8TPpO"
      },
      "outputs": [],
      "source": [
        "!mpirun --allow-run-as-root -np 4 python passing_dataframe.py"
      ]
    },
    {
      "cell_type": "markdown",
      "id": "qD2RmEKDXLb_",
      "metadata": {
        "id": "qD2RmEKDXLb_"
      },
      "source": [
        "### Collective Communication\n",
        "\n",
        "In MPI for Python, the `Comm.Bcast`, `Comm.Scatter`, `Comm.Gather`, `Comm.Allgather`, `Comm.Alltoall` methods provide support for collective communications of memory buffers. The lower-case variants `Comm.bcast`, `Comm.scatter`, `Comm.gather`, `Comm.allgather` and `Comm.alltoall` can communicate general Python objects."
      ]
    },
    {
      "cell_type": "markdown",
      "id": "5__NCyrAZZo0",
      "metadata": {
        "id": "5__NCyrAZZo0"
      },
      "source": [
        "#### **Broadcasting the entire Dataframe**"
      ]
    },
    {
      "cell_type": "code",
      "execution_count": null,
      "id": "THdnsUfeZecF",
      "metadata": {
        "id": "THdnsUfeZecF"
      },
      "outputs": [],
      "source": [
        "%%writefile BroadcastingDataframe.py\n",
        "from mpi4py import MPI # Importing mpi4py package from MPI module\n",
        "import numpy as np\n",
        "import pandas as pd\n",
        "\n",
        "FILENAME = \"/content/iris_dataset.csv\" # Storing File path\n",
        "# Defining a function to load the data\n",
        "def loadData(filename):\n",
        "    # Loading the dataset with column names as\n",
        "    data = pd.read_csv(filename)\n",
        "    # Returning the dataframe\n",
        "    return data\n",
        "# Calling the function loadData and storing the dataframe in a variable named df\n",
        "df = loadData(FILENAME)\n",
        "\n",
        "# Defining a function\n",
        "def main():\n",
        "    comm = MPI.COMM_WORLD\n",
        "    id = comm.Get_rank()            #number of the process running the code\n",
        "    numProcesses = comm.Get_size()  #total number of processes running\n",
        "    if id == 0:\n",
        "        # Generate a dictionary with arbitrary data in it\n",
        "        data = df\n",
        "    else:\n",
        "        # start with empty data\n",
        "        data = None\n",
        "    # Broadcasting the data\n",
        "    data = comm.bcast(data, root=0)\n",
        "    # Printing the data along with the id number\n",
        "    print('Rank: ', id,', received data: ' , data, '\\n')\n",
        "\n",
        "# Calling a function\n",
        "main()"
      ]
    },
    {
      "cell_type": "code",
      "execution_count": null,
      "id": "ilxQQHXsZeZM",
      "metadata": {
        "id": "ilxQQHXsZeZM"
      },
      "outputs": [],
      "source": [
        "! mpirun --allow-run-as-root -np 4 python BroadcastingDataframe.py"
      ]
    },
    {
      "cell_type": "markdown",
      "id": "JfvkwghAa3Zu",
      "metadata": {
        "id": "JfvkwghAa3Zu"
      },
      "source": [
        "#### **Scatter Operation on the Dataframe**\n",
        "\n",
        "- Create a function to divide the dataframe equally among different processes.\n",
        "- Perform scatter operation"
      ]
    },
    {
      "cell_type": "code",
      "execution_count": 1,
      "id": "TmLefFkIbT5u",
      "metadata": {
        "id": "TmLefFkIbT5u"
      },
      "outputs": [
        {
          "name": "stdout",
          "output_type": "stream",
          "text": [
            "Writing ScatteringDataframe.py\n"
          ]
        }
      ],
      "source": [
        "%%writefile ScatteringDataframe.py\n",
        "from mpi4py import MPI # Importing mpi4py package from MPI module\n",
        "import numpy as np\n",
        "import pandas as pd\n",
        "from decimal import Decimal, ROUND_HALF_UP # Importing Decimal, ROUND_HALF_UP functions from the decimal package\n",
        "\n",
        "FILENAME = \"/content/iris_dataset.csv\" # Storing File path\n",
        "# Defining a function to load the data\n",
        "def loadData(filename):\n",
        "    # Loading the dataset with column names as\n",
        "    data = pd.read_csv(filename)\n",
        "    # Returning the dataframe\n",
        "    return data\n",
        "# Calling the function loadData and storing the dataframe in a variable named df\n",
        "df = loadData(FILENAME)\n",
        "\n",
        "def dividing_data(dataset, size_of_workers):\n",
        "    #Divide the data among the workers\n",
        "    slice_for_each_worker = int(Decimal(dataset.shape[0]/size_of_workers).quantize(Decimal('1.'), rounding = ROUND_HALF_UP))\n",
        "    print('Slice of data for each worker: {}'.format(slice_for_each_worker))\n",
        "    data_for_worker = []\n",
        "    for i in range(0, size_of_workers):\n",
        "        if i < size_of_workers - 1:\n",
        "            data_for_worker.append(dataset[slice_for_each_worker*i:slice_for_each_worker*(i+1)])\n",
        "        else:\n",
        "            data_for_worker.append(dataset[slice_for_each_worker*i:])\n",
        "    return data_for_worker\n",
        "\n",
        "# Defining a function\n",
        "def main():\n",
        "    # communicator\n",
        "    comm = MPI.COMM_WORLD\n",
        "    rank = comm.Get_rank()   # number of the process running the code\n",
        "    size = comm.Get_size()   # total number of processes running\n",
        "    data = None # Starting with an empty  data\n",
        "    if rank == 0:\n",
        "        # Creating a Numpy array.\n",
        "        data = dividing_data(df, size)\n",
        "    # scatter operation\n",
        "    received_data = comm.scatter(data, root=0)\n",
        "    # Displaying the result\n",
        "    print('Rank: ', rank, ', recvbuf: ', received_data)\n",
        "\n",
        "# Calling the main function\n",
        "main()"
      ]
    },
    {
      "cell_type": "code",
      "execution_count": 2,
      "id": "HiHTRijCbT23",
      "metadata": {
        "id": "HiHTRijCbT23"
      },
      "outputs": [
        {
          "name": "stdout",
          "output_type": "stream",
          "text": [
            "--------------------------------------------------------------------------\n",
            "prterun was unable to find the specified executable file, and therefore did\n",
            "not launch the job.  This error was first reported for process rank\n",
            "0; it may have occurred for other processes as well.\n",
            "\n",
            "NOTE: A common cause for this error is misspelling a prterun command\n",
            "   line parameter option (remember that prterun interprets the first\n",
            "   unrecognized command line token as the executable).\n",
            "\n",
            "   Node:       Achappas-MacBook-Pro\n",
            "   Executable: python\n",
            "--------------------------------------------------------------------------\n"
          ]
        }
      ],
      "source": [
        "! mpirun --allow-run-as-root -np 4 python ScatteringDataframe.py"
      ]
    },
    {
      "cell_type": "markdown",
      "id": "ybOD9TLilB67",
      "metadata": {
        "id": "ybOD9TLilB67"
      },
      "source": [
        "#### **Gather Operation on the Dataframe**"
      ]
    },
    {
      "cell_type": "code",
      "execution_count": 3,
      "id": "JNgsoqyBlVLC",
      "metadata": {
        "id": "JNgsoqyBlVLC"
      },
      "outputs": [
        {
          "name": "stdout",
          "output_type": "stream",
          "text": [
            "Writing GatherringDataframe.py\n"
          ]
        }
      ],
      "source": [
        "%%writefile GatherringDataframe.py\n",
        "from mpi4py import MPI # Importing mpi4py package from MPI module\n",
        "import numpy as np\n",
        "import pandas as pd\n",
        "from decimal import Decimal, ROUND_HALF_UP # Importing Decimal, ROUND_HALF_UP functions from the decimal package\n",
        "\n",
        "FILENAME = \"/content/iris_dataset.csv\" # Storing File path\n",
        "# Defining a function to load the data\n",
        "def loadData(filename):\n",
        "    # Loading the dataset with column names as\n",
        "    data = pd.read_csv(filename)\n",
        "    # Returning the dataframe\n",
        "    return data\n",
        "# Calling the function loadData and storing the dataframe in a variable named df\n",
        "df = loadData(FILENAME)\n",
        "\n",
        "# Defining a function\n",
        "def main():\n",
        "    # communicator\n",
        "    comm = MPI.COMM_WORLD\n",
        "    rank = comm.Get_rank()   # number of the process running the code\n",
        "    size = comm.Get_size()   # total number of processes running\n",
        "    slice_for_each_worker = int(Decimal(df.shape[0]/size).quantize(Decimal('1.'), rounding = ROUND_HALF_UP))   # Number of elements in a array for each rank\n",
        "    # Creating a sender buffer array\n",
        "    if rank < size-1:\n",
        "        sendbuf = df[slice_for_each_worker*rank:slice_for_each_worker*(rank+1)]\n",
        "    else:\n",
        "        sendbuf = df[slice_for_each_worker*rank:]\n",
        "    # Printing the result\n",
        "    print('Rank: ',rank, ', sendbuf: ', sendbuf)\n",
        "    recvbuf = None\n",
        "    # Gathering the Information\n",
        "    recvbuf = comm.gather(sendbuf, root = 0)\n",
        "    # Display the result\n",
        "    if rank == 0:\n",
        "        print('Rank: ',rank, ', recvbuf received: ', recvbuf)\n",
        "\n",
        "# Calling a function\n",
        "main()"
      ]
    },
    {
      "cell_type": "code",
      "execution_count": 4,
      "id": "wChauhLFlYZu",
      "metadata": {
        "id": "wChauhLFlYZu"
      },
      "outputs": [
        {
          "name": "stdout",
          "output_type": "stream",
          "text": [
            "--------------------------------------------------------------------------\n",
            "prterun was unable to find the specified executable file, and therefore did\n",
            "not launch the job.  This error was first reported for process rank\n",
            "0; it may have occurred for other processes as well.\n",
            "\n",
            "NOTE: A common cause for this error is misspelling a prterun command\n",
            "   line parameter option (remember that prterun interprets the first\n",
            "   unrecognized command line token as the executable).\n",
            "\n",
            "   Node:       Achappas-MacBook-Pro\n",
            "   Executable: python\n",
            "--------------------------------------------------------------------------\n"
          ]
        }
      ],
      "source": [
        "! mpirun --allow-run-as-root -np 4 python GatherringDataframe.py"
      ]
    }
  ],
  "metadata": {
    "colab": {
      "provenance": []
    },
    "kernelspec": {
      "display_name": "Python 3",
      "language": "python",
      "name": "python3"
    },
    "language_info": {
      "codemirror_mode": {
        "name": "ipython",
        "version": 3
      },
      "file_extension": ".py",
      "mimetype": "text/x-python",
      "name": "python",
      "nbconvert_exporter": "python",
      "pygments_lexer": "ipython3",
      "version": "3.12.4"
    }
  },
  "nbformat": 4,
  "nbformat_minor": 5
}
