{
  "cells": [
    {
      "cell_type": "markdown",
      "metadata": {
        "colab_type": "text",
        "id": "view-in-github"
      },
      "source": [
        "<a href=\"https://colab.research.google.com/github/chiragbhatia94/ts-cds-classes/blob/main/M5_NB_MiniProject_01_MLR_MPI_OpenMP.ipynb\" target=\"_parent\"><img src=\"https://colab.research.google.com/assets/colab-badge.svg\" alt=\"Open In Colab\"/></a>"
      ]
    },
    {
      "cell_type": "markdown",
      "id": "heated-queens",
      "metadata": {
        "id": "heated-queens"
      },
      "source": [
        "# Advanced Certification Program in Computational Data Science\n",
        "## A program by IISc and TalentSprint\n",
        "### Mini-Project: Implementation of Multiple Linear Regression using MPI and OpenMP"
      ]
    },
    {
      "cell_type": "markdown",
      "id": "military-proportion",
      "metadata": {
        "id": "military-proportion"
      },
      "source": [
        "## Learning Objectives"
      ]
    },
    {
      "cell_type": "markdown",
      "id": "durable-grounds",
      "metadata": {
        "id": "durable-grounds"
      },
      "source": [
        "At the end of the mini-project, you will be able to :\n",
        "\n",
        "* understand the collective communication operations like scatter, gather, broadcast\n",
        "* understand the blocking and non-blocking communication\n",
        "* implement multiple linear regression and run it using MPI\n",
        "* implement the multiple linear regression based predictions using OpenMP"
      ]
    },
    {
      "cell_type": "markdown",
      "id": "growing-queens",
      "metadata": {
        "id": "growing-queens"
      },
      "source": [
        "### Dataset"
      ]
    },
    {
      "cell_type": "markdown",
      "id": "yLwz-D_xVT8o",
      "metadata": {
        "id": "yLwz-D_xVT8o"
      },
      "source": [
        "The dataset chosen for this mini-project is [Combined Cycle Power Plant](https://archive.ics.uci.edu/ml/datasets/combined+cycle+power+plant). The dataset is made up of 9568 records and 5 columns. Each record contains the values for Ambient Temperature, Exhaust Vaccum, Ambient Pressure, Relative Humidity and Energy Output.\n",
        "\n",
        "Predicting full load electrical power output of a base load power plant is important in order to maximize the profit from the available megawatt hours.  The base load operation of a power plant is influenced by four main parameters, which are used as input variables in the dataset, such as ambient temperature, atmospheric pressure, relative humidity, and exhaust steam pressure. These parameters affect electrical power output, which is considered as the target variable.\n",
        "\n",
        "**Note:** The data was collected over a six year period (2006-11)."
      ]
    },
    {
      "cell_type": "markdown",
      "id": "dominant-residence",
      "metadata": {
        "id": "dominant-residence"
      },
      "source": [
        "## Information"
      ]
    },
    {
      "cell_type": "markdown",
      "id": "coated-timing",
      "metadata": {
        "id": "coated-timing"
      },
      "source": [
        "#### MPI in a Nutshell\n",
        "\n",
        "MPI stands for \"Message Passing Interface\". It is a library of functions (in C / Python) or subroutines (in Fortran) that you insert into source code to perform data communication between processes. MPI was developed over two years of discussions led by the MPI Forum, a group of roughly sixty people representing some forty organizations.\n",
        "\n",
        "To know more about MPI click [here](https://hpc-tutorials.llnl.gov/mpi/)\n",
        "\n",
        "\n",
        "#### Multiple Linear Regression\n",
        "\n",
        "Multiple regression is an extension of simple linear regression. It is used when we want to predict the value of a variable based on the value of two or more other variables. The variable we want to predict is called the dependent variable (or sometimes, the outcome, target or criterion variable). The variables we are using to predict the value of the dependent variable are called the independent variables (or sometimes, the predictor, explanatory or regressor variables)."
      ]
    },
    {
      "cell_type": "markdown",
      "id": "global-savings",
      "metadata": {
        "id": "global-savings"
      },
      "source": [
        "**Note:** We will be using the mpi4py Python package for MPI based code implementation"
      ]
    },
    {
      "cell_type": "markdown",
      "id": "ndQNKsjS7c04",
      "metadata": {
        "id": "ndQNKsjS7c04"
      },
      "source": [
        "## Grading = 20 Points"
      ]
    },
    {
      "cell_type": "markdown",
      "id": "green-deviation",
      "metadata": {
        "id": "green-deviation"
      },
      "source": [
        "**Run the below code to install mpi4py package**"
      ]
    },
    {
      "cell_type": "code",
      "execution_count": 49,
      "id": "designing-marketing",
      "metadata": {
        "colab": {
          "base_uri": "https://localhost:8080/"
        },
        "id": "designing-marketing",
        "outputId": "85aef835-7ddb-4998-cb59-7044b294acbe",
        "scrolled": true
      },
      "outputs": [
        {
          "name": "stderr",
          "output_type": "stream",
          "text": [
            "43285.84s - pydevd: Sending message related to process being replaced timed-out after 5 seconds\n"
          ]
        },
        {
          "name": "stdout",
          "output_type": "stream",
          "text": [
            "Requirement already satisfied: mpi4py in /Library/Frameworks/Python.framework/Versions/3.12/lib/python3.12/site-packages (4.0.3)\n",
            "\n",
            "\u001b[1m[\u001b[0m\u001b[34;49mnotice\u001b[0m\u001b[1;39;49m]\u001b[0m\u001b[39;49m A new release of pip is available: \u001b[0m\u001b[31;49m25.0.1\u001b[0m\u001b[39;49m -> \u001b[0m\u001b[32;49m25.1.1\u001b[0m\n",
            "\u001b[1m[\u001b[0m\u001b[34;49mnotice\u001b[0m\u001b[1;39;49m]\u001b[0m\u001b[39;49m To update, run: \u001b[0m\u001b[32;49mpip install --upgrade pip\u001b[0m\n"
          ]
        }
      ],
      "source": [
        "!pip install mpi4py"
      ]
    },
    {
      "cell_type": "markdown",
      "id": "dedicated-thong",
      "metadata": {
        "id": "dedicated-thong"
      },
      "source": [
        "#### Importing Necessary Packages"
      ]
    },
    {
      "cell_type": "code",
      "execution_count": 50,
      "id": "reported-acrobat",
      "metadata": {
        "id": "reported-acrobat",
        "scrolled": true
      },
      "outputs": [],
      "source": [
        "# Importing pandas\n",
        "import pandas as pd\n",
        "# Importing Numpy\n",
        "import numpy as np\n",
        "# Importing MPI from mpi4py package\n",
        "from mpi4py import MPI\n",
        "# Importing sqrt function from the Math\n",
        "from math import sqrt\n",
        "# Importing Decimal, ROUND_HALF_UP functions from the decimal package\n",
        "from decimal import Decimal, ROUND_HALF_UP\n",
        "import time"
      ]
    },
    {
      "cell_type": "markdown",
      "id": "standing-zimbabwe",
      "metadata": {
        "id": "standing-zimbabwe"
      },
      "source": [
        "#### Downloading the data"
      ]
    },
    {
      "cell_type": "code",
      "execution_count": 51,
      "id": "universal-jonathan",
      "metadata": {
        "cellView": "form",
        "id": "universal-jonathan",
        "scrolled": true
      },
      "outputs": [
        {
          "name": "stderr",
          "output_type": "stream",
          "text": [
            "43291.82s - pydevd: Sending message related to process being replaced timed-out after 5 seconds\n"
          ]
        },
        {
          "name": "stdout",
          "output_type": "stream",
          "text": [
            "zsh:1: command not found: wget\n"
          ]
        }
      ],
      "source": [
        "#@title Download the data\n",
        "!wget -qq https://cdn.iisc.talentsprint.com/CDS/Datasets/PowerPlantData.csv"
      ]
    },
    {
      "cell_type": "markdown",
      "id": "forty-still",
      "metadata": {
        "id": "forty-still"
      },
      "source": [
        "### Overview\n",
        "\n",
        "* Load the data and perform data pre-processing\n",
        "* Identify the features, target and split the data into train and test\n",
        "* Implement multiple Linear Regression by estimating the coefficients on the given data\n",
        "* Use MPI package to distribute the data and implement `communicator`\n",
        "* Define functions for each objective and make a script (.py) file to execute using MPI command\n",
        "* Use OpenMP component to predict the data and calculate the error on the predicted data\n",
        "* Implement the Linear Regression from `sklearn` and compare the results"
      ]
    },
    {
      "cell_type": "markdown",
      "id": "early-peace",
      "metadata": {
        "id": "early-peace"
      },
      "source": [
        "#### Exercise 1: Load data (1 point)\n",
        "\n",
        "Write a function that takes the filename as input and loads the data in a pandas dataframe with the column names as Ambient Temperature, Exhaust Vaccum, Ambient Pressure, Relative Humidity and Energy Output respectively.\n",
        "\n",
        "**Hint:** read_csv()\n"
      ]
    },
    {
      "cell_type": "code",
      "execution_count": 52,
      "id": "differential-vacation",
      "metadata": {
        "id": "differential-vacation",
        "scrolled": true
      },
      "outputs": [],
      "source": [
        "#FILENAME = \"/content/PowerPlantData.csv\" # File path\n",
        "FILENAME = \"/Users/achappa/devhak/cds/M5/PowerPlantData.csv\" #local file path\n",
        "\n",
        "def loadData(filename):\n",
        "    # Loading the dataset with first row as the header and the new column names as suggested\n",
        "    data = pd.read_csv(filename, header=0,names=['Ambient Temperature','Exhaust Vaccum','Ambient Pressure','Relative Humidity','Energy Output'])\n",
        "    return data\n",
        "# Calling the function loadData and storing the dataframe in a variable named df"
      ]
    },
    {
      "cell_type": "code",
      "execution_count": 53,
      "id": "cVxeJggkj3NV",
      "metadata": {
        "colab": {
          "base_uri": "https://localhost:8080/",
          "height": 206
        },
        "id": "cVxeJggkj3NV",
        "outputId": "cb8081fa-42dc-4038-ab02-c243ec73be4d"
      },
      "outputs": [
        {
          "data": {
            "application/vnd.microsoft.datawrangler.viewer.v0+json": {
              "columns": [
                {
                  "name": "index",
                  "rawType": "int64",
                  "type": "integer"
                },
                {
                  "name": "Ambient Temperature",
                  "rawType": "float64",
                  "type": "float"
                },
                {
                  "name": "Exhaust Vaccum",
                  "rawType": "float64",
                  "type": "float"
                },
                {
                  "name": "Ambient Pressure",
                  "rawType": "float64",
                  "type": "float"
                },
                {
                  "name": "Relative Humidity",
                  "rawType": "float64",
                  "type": "float"
                },
                {
                  "name": "Energy Output",
                  "rawType": "float64",
                  "type": "float"
                }
              ],
              "conversionMethod": "pd.DataFrame",
              "ref": "c7e2b0d1-b8d0-4e60-be76-6fa9040a3458",
              "rows": [
                [
                  "0",
                  "8.34",
                  "40.77",
                  "1010.84",
                  "90.01",
                  "480.48"
                ],
                [
                  "1",
                  "23.64",
                  "58.49",
                  "1011.4",
                  "74.2",
                  "445.75"
                ],
                [
                  "2",
                  "29.74",
                  "56.9",
                  "1007.15",
                  "41.91",
                  "438.76"
                ],
                [
                  "3",
                  "19.07",
                  "49.69",
                  "1007.22",
                  "76.79",
                  "453.09"
                ],
                [
                  "4",
                  "11.8",
                  "40.66",
                  "1017.13",
                  "97.2",
                  "464.43"
                ]
              ],
              "shape": {
                "columns": 5,
                "rows": 5
              }
            },
            "text/html": [
              "<div>\n",
              "<style scoped>\n",
              "    .dataframe tbody tr th:only-of-type {\n",
              "        vertical-align: middle;\n",
              "    }\n",
              "\n",
              "    .dataframe tbody tr th {\n",
              "        vertical-align: top;\n",
              "    }\n",
              "\n",
              "    .dataframe thead th {\n",
              "        text-align: right;\n",
              "    }\n",
              "</style>\n",
              "<table border=\"1\" class=\"dataframe\">\n",
              "  <thead>\n",
              "    <tr style=\"text-align: right;\">\n",
              "      <th></th>\n",
              "      <th>Ambient Temperature</th>\n",
              "      <th>Exhaust Vaccum</th>\n",
              "      <th>Ambient Pressure</th>\n",
              "      <th>Relative Humidity</th>\n",
              "      <th>Energy Output</th>\n",
              "    </tr>\n",
              "  </thead>\n",
              "  <tbody>\n",
              "    <tr>\n",
              "      <th>0</th>\n",
              "      <td>8.34</td>\n",
              "      <td>40.77</td>\n",
              "      <td>1010.84</td>\n",
              "      <td>90.01</td>\n",
              "      <td>480.48</td>\n",
              "    </tr>\n",
              "    <tr>\n",
              "      <th>1</th>\n",
              "      <td>23.64</td>\n",
              "      <td>58.49</td>\n",
              "      <td>1011.40</td>\n",
              "      <td>74.20</td>\n",
              "      <td>445.75</td>\n",
              "    </tr>\n",
              "    <tr>\n",
              "      <th>2</th>\n",
              "      <td>29.74</td>\n",
              "      <td>56.90</td>\n",
              "      <td>1007.15</td>\n",
              "      <td>41.91</td>\n",
              "      <td>438.76</td>\n",
              "    </tr>\n",
              "    <tr>\n",
              "      <th>3</th>\n",
              "      <td>19.07</td>\n",
              "      <td>49.69</td>\n",
              "      <td>1007.22</td>\n",
              "      <td>76.79</td>\n",
              "      <td>453.09</td>\n",
              "    </tr>\n",
              "    <tr>\n",
              "      <th>4</th>\n",
              "      <td>11.80</td>\n",
              "      <td>40.66</td>\n",
              "      <td>1017.13</td>\n",
              "      <td>97.20</td>\n",
              "      <td>464.43</td>\n",
              "    </tr>\n",
              "  </tbody>\n",
              "</table>\n",
              "</div>"
            ],
            "text/plain": [
              "   Ambient Temperature  Exhaust Vaccum  Ambient Pressure  Relative Humidity  \\\n",
              "0                 8.34           40.77           1010.84              90.01   \n",
              "1                23.64           58.49           1011.40              74.20   \n",
              "2                29.74           56.90           1007.15              41.91   \n",
              "3                19.07           49.69           1007.22              76.79   \n",
              "4                11.80           40.66           1017.13              97.20   \n",
              "\n",
              "   Energy Output  \n",
              "0         480.48  \n",
              "1         445.75  \n",
              "2         438.76  \n",
              "3         453.09  \n",
              "4         464.43  "
            ]
          },
          "execution_count": 53,
          "metadata": {},
          "output_type": "execute_result"
        }
      ],
      "source": [
        "df = loadData(FILENAME)\n",
        "df.head()"
      ]
    },
    {
      "cell_type": "markdown",
      "id": "italian-expense",
      "metadata": {
        "id": "italian-expense"
      },
      "source": [
        "#### Exercise 2: Explore data (1 point)\n",
        "\n",
        "Write a function that takes the data loaded using the above defined function as input and explore it.\n",
        "\n",
        "**Hint:** You can define and check for following things in the dataset inside a function\n",
        "\n",
        "- checking for the number of rows and columns\n",
        "- summary of the dataset\n",
        "- check for the null values\n",
        "- check for the duplicate values"
      ]
    },
    {
      "cell_type": "code",
      "execution_count": 54,
      "id": "local-quarter",
      "metadata": {
        "colab": {
          "base_uri": "https://localhost:8080/"
        },
        "id": "local-quarter",
        "outputId": "4e018506-73ff-41e2-9816-bb3214108d8e",
        "scrolled": true
      },
      "outputs": [
        {
          "data": {
            "text/plain": [
              "(9568, 5)"
            ]
          },
          "execution_count": 54,
          "metadata": {},
          "output_type": "execute_result"
        }
      ],
      "source": [
        "# checking for the number of rows and columns\n",
        "df.shape"
      ]
    },
    {
      "cell_type": "code",
      "execution_count": 55,
      "id": "Y-OwWlkRdXki",
      "metadata": {
        "colab": {
          "base_uri": "https://localhost:8080/"
        },
        "id": "Y-OwWlkRdXki",
        "outputId": "f4aa43d5-42c5-415e-eab4-ce649a693c5c"
      },
      "outputs": [
        {
          "name": "stdout",
          "output_type": "stream",
          "text": [
            "<class 'pandas.core.frame.DataFrame'>\n",
            "RangeIndex: 9568 entries, 0 to 9567\n",
            "Data columns (total 5 columns):\n",
            " #   Column               Non-Null Count  Dtype  \n",
            "---  ------               --------------  -----  \n",
            " 0   Ambient Temperature  9568 non-null   float64\n",
            " 1   Exhaust Vaccum       9568 non-null   float64\n",
            " 2   Ambient Pressure     9568 non-null   float64\n",
            " 3   Relative Humidity    9568 non-null   float64\n",
            " 4   Energy Output        9568 non-null   float64\n",
            "dtypes: float64(5)\n",
            "memory usage: 373.9 KB\n"
          ]
        }
      ],
      "source": [
        "# summary of the dataset\n",
        "df.info()"
      ]
    },
    {
      "cell_type": "code",
      "execution_count": 56,
      "id": "gTSpihdAdhEK",
      "metadata": {
        "colab": {
          "base_uri": "https://localhost:8080/",
          "height": 240
        },
        "id": "gTSpihdAdhEK",
        "outputId": "55b149a6-fb29-4f4f-c8f4-96ca80ac8f63"
      },
      "outputs": [
        {
          "data": {
            "text/plain": [
              "Ambient Temperature    0\n",
              "Exhaust Vaccum         0\n",
              "Ambient Pressure       0\n",
              "Relative Humidity      0\n",
              "Energy Output          0\n",
              "dtype: int64"
            ]
          },
          "execution_count": 56,
          "metadata": {},
          "output_type": "execute_result"
        }
      ],
      "source": [
        "# check for the null values\n",
        "df.isnull().sum()"
      ]
    },
    {
      "cell_type": "code",
      "execution_count": 57,
      "id": "hGb4dqdnds8P",
      "metadata": {
        "colab": {
          "base_uri": "https://localhost:8080/"
        },
        "id": "hGb4dqdnds8P",
        "outputId": "19cbc9c4-d868-454f-c6d4-eea1eafcd937"
      },
      "outputs": [
        {
          "data": {
            "text/plain": [
              "41"
            ]
          },
          "execution_count": 57,
          "metadata": {},
          "output_type": "execute_result"
        }
      ],
      "source": [
        "# check for the duplicate values\n",
        "df.duplicated().sum()"
      ]
    },
    {
      "cell_type": "code",
      "execution_count": 58,
      "id": "vcA3y9Vcnig8",
      "metadata": {
        "colab": {
          "base_uri": "https://localhost:8080/",
          "height": 423
        },
        "id": "vcA3y9Vcnig8",
        "outputId": "95426439-9607-485b-8145-04d80f032488"
      },
      "outputs": [
        {
          "data": {
            "application/vnd.microsoft.datawrangler.viewer.v0+json": {
              "columns": [
                {
                  "name": "index",
                  "rawType": "int64",
                  "type": "integer"
                },
                {
                  "name": "Ambient Temperature",
                  "rawType": "float64",
                  "type": "float"
                },
                {
                  "name": "Exhaust Vaccum",
                  "rawType": "float64",
                  "type": "float"
                },
                {
                  "name": "Ambient Pressure",
                  "rawType": "float64",
                  "type": "float"
                },
                {
                  "name": "Relative Humidity",
                  "rawType": "float64",
                  "type": "float"
                },
                {
                  "name": "Energy Output",
                  "rawType": "float64",
                  "type": "float"
                }
              ],
              "conversionMethod": "pd.DataFrame",
              "ref": "2b8c82f3-d5bd-4911-85e5-082fe0b45546",
              "rows": [
                [
                  "0",
                  "8.34",
                  "40.77",
                  "1010.84",
                  "90.01",
                  "480.48"
                ],
                [
                  "1",
                  "23.64",
                  "58.49",
                  "1011.4",
                  "74.2",
                  "445.75"
                ],
                [
                  "2",
                  "29.74",
                  "56.9",
                  "1007.15",
                  "41.91",
                  "438.76"
                ],
                [
                  "3",
                  "19.07",
                  "49.69",
                  "1007.22",
                  "76.79",
                  "453.09"
                ],
                [
                  "4",
                  "11.8",
                  "40.66",
                  "1017.13",
                  "97.2",
                  "464.43"
                ],
                [
                  "5",
                  "13.97",
                  "39.16",
                  "1016.05",
                  "84.6",
                  "470.96"
                ],
                [
                  "6",
                  "22.1",
                  "71.29",
                  "1008.2",
                  "75.38",
                  "442.35"
                ],
                [
                  "7",
                  "14.47",
                  "41.76",
                  "1021.98",
                  "78.41",
                  "464.0"
                ],
                [
                  "8",
                  "31.25",
                  "69.51",
                  "1010.25",
                  "36.83",
                  "428.77"
                ],
                [
                  "9",
                  "6.77",
                  "38.18",
                  "1017.8",
                  "81.13",
                  "484.31"
                ],
                [
                  "10",
                  "28.28",
                  "68.67",
                  "1006.36",
                  "69.9",
                  "435.29"
                ],
                [
                  "11",
                  "22.99",
                  "46.93",
                  "1014.15",
                  "49.42",
                  "451.41"
                ],
                [
                  "12",
                  "29.3",
                  "70.04",
                  "1010.95",
                  "61.23",
                  "426.25"
                ],
                [
                  "13",
                  "8.14",
                  "37.49",
                  "1009.04",
                  "80.33",
                  "480.66"
                ],
                [
                  "14",
                  "16.92",
                  "44.6",
                  "1017.34",
                  "58.75",
                  "460.17"
                ],
                [
                  "15",
                  "22.72",
                  "64.15",
                  "1021.14",
                  "60.34",
                  "453.13"
                ],
                [
                  "16",
                  "18.14",
                  "43.56",
                  "1012.83",
                  "47.1",
                  "461.71"
                ],
                [
                  "17",
                  "11.49",
                  "44.63",
                  "1020.44",
                  "86.04",
                  "471.08"
                ],
                [
                  "18",
                  "9.94",
                  "40.46",
                  "1018.9",
                  "68.51",
                  "473.74"
                ],
                [
                  "19",
                  "23.54",
                  "41.1",
                  "1002.05",
                  "38.05",
                  "448.56"
                ],
                [
                  "20",
                  "14.9",
                  "52.05",
                  "1015.11",
                  "77.33",
                  "464.82"
                ],
                [
                  "21",
                  "33.8",
                  "64.96",
                  "1004.88",
                  "49.37",
                  "427.28"
                ],
                [
                  "22",
                  "25.37",
                  "68.31",
                  "1011.12",
                  "70.99",
                  "441.76"
                ],
                [
                  "23",
                  "7.29",
                  "41.04",
                  "1024.06",
                  "89.19",
                  "474.71"
                ],
                [
                  "24",
                  "13.55",
                  "40.71",
                  "1019.13",
                  "75.44",
                  "467.21"
                ],
                [
                  "25",
                  "6.39",
                  "35.57",
                  "1025.53",
                  "77.23",
                  "487.69"
                ],
                [
                  "26",
                  "26.64",
                  "62.44",
                  "1011.81",
                  "72.46",
                  "438.67"
                ],
                [
                  "27",
                  "7.84",
                  "41.39",
                  "1018.21",
                  "91.92",
                  "485.66"
                ],
                [
                  "28",
                  "21.82",
                  "58.66",
                  "1011.71",
                  "64.37",
                  "452.16"
                ],
                [
                  "29",
                  "27.17",
                  "67.45",
                  "1015.67",
                  "49.03",
                  "429.87"
                ],
                [
                  "30",
                  "13.42",
                  "41.23",
                  "994.17",
                  "95.79",
                  "468.82"
                ],
                [
                  "31",
                  "20.77",
                  "56.85",
                  "1012.4",
                  "83.63",
                  "442.85"
                ],
                [
                  "32",
                  "8.29",
                  "36.08",
                  "1020.38",
                  "81.53",
                  "483.26"
                ],
                [
                  "33",
                  "30.98",
                  "67.45",
                  "1015.18",
                  "45.4",
                  "433.59"
                ],
                [
                  "34",
                  "31.96",
                  "71.29",
                  "1008.39",
                  "47.51",
                  "433.04"
                ],
                [
                  "35",
                  "15.83",
                  "52.75",
                  "1024.3",
                  "58.34",
                  "458.6"
                ],
                [
                  "36",
                  "22.56",
                  "70.79",
                  "1005.85",
                  "93.09",
                  "435.14"
                ],
                [
                  "37",
                  "25.91",
                  "75.6",
                  "1018.23",
                  "62.65",
                  "443.2"
                ],
                [
                  "38",
                  "8.24",
                  "39.61",
                  "1017.99",
                  "78.42",
                  "477.9"
                ],
                [
                  "39",
                  "24.66",
                  "60.29",
                  "1018.0",
                  "59.56",
                  "445.26"
                ],
                [
                  "40",
                  "29.31",
                  "68.67",
                  "1006.18",
                  "63.38",
                  "435.57"
                ],
                [
                  "41",
                  "21.48",
                  "66.91",
                  "1008.58",
                  "84.49",
                  "447.42"
                ],
                [
                  "42",
                  "18.28",
                  "44.71",
                  "1016.99",
                  "33.71",
                  "462.28"
                ],
                [
                  "43",
                  "26.96",
                  "65.34",
                  "1015.05",
                  "46.93",
                  "441.81"
                ],
                [
                  "44",
                  "16.01",
                  "65.46",
                  "1014.0",
                  "87.68",
                  "454.16"
                ],
                [
                  "45",
                  "27.37",
                  "63.73",
                  "1009.79",
                  "65.25",
                  "437.24"
                ],
                [
                  "46",
                  "16.3",
                  "39.63",
                  "1004.64",
                  "85.61",
                  "464.11"
                ],
                [
                  "47",
                  "23.8",
                  "48.6",
                  "1002.43",
                  "67.32",
                  "440.89"
                ],
                [
                  "48",
                  "8.19",
                  "41.66",
                  "1016.57",
                  "75.38",
                  "485.2"
                ],
                [
                  "49",
                  "25.28",
                  "67.69",
                  "1009.05",
                  "68.54",
                  "445.34"
                ]
              ],
              "shape": {
                "columns": 5,
                "rows": 9527
              }
            },
            "text/html": [
              "<div>\n",
              "<style scoped>\n",
              "    .dataframe tbody tr th:only-of-type {\n",
              "        vertical-align: middle;\n",
              "    }\n",
              "\n",
              "    .dataframe tbody tr th {\n",
              "        vertical-align: top;\n",
              "    }\n",
              "\n",
              "    .dataframe thead th {\n",
              "        text-align: right;\n",
              "    }\n",
              "</style>\n",
              "<table border=\"1\" class=\"dataframe\">\n",
              "  <thead>\n",
              "    <tr style=\"text-align: right;\">\n",
              "      <th></th>\n",
              "      <th>Ambient Temperature</th>\n",
              "      <th>Exhaust Vaccum</th>\n",
              "      <th>Ambient Pressure</th>\n",
              "      <th>Relative Humidity</th>\n",
              "      <th>Energy Output</th>\n",
              "    </tr>\n",
              "  </thead>\n",
              "  <tbody>\n",
              "    <tr>\n",
              "      <th>0</th>\n",
              "      <td>8.34</td>\n",
              "      <td>40.77</td>\n",
              "      <td>1010.84</td>\n",
              "      <td>90.01</td>\n",
              "      <td>480.48</td>\n",
              "    </tr>\n",
              "    <tr>\n",
              "      <th>1</th>\n",
              "      <td>23.64</td>\n",
              "      <td>58.49</td>\n",
              "      <td>1011.40</td>\n",
              "      <td>74.20</td>\n",
              "      <td>445.75</td>\n",
              "    </tr>\n",
              "    <tr>\n",
              "      <th>2</th>\n",
              "      <td>29.74</td>\n",
              "      <td>56.90</td>\n",
              "      <td>1007.15</td>\n",
              "      <td>41.91</td>\n",
              "      <td>438.76</td>\n",
              "    </tr>\n",
              "    <tr>\n",
              "      <th>3</th>\n",
              "      <td>19.07</td>\n",
              "      <td>49.69</td>\n",
              "      <td>1007.22</td>\n",
              "      <td>76.79</td>\n",
              "      <td>453.09</td>\n",
              "    </tr>\n",
              "    <tr>\n",
              "      <th>4</th>\n",
              "      <td>11.80</td>\n",
              "      <td>40.66</td>\n",
              "      <td>1017.13</td>\n",
              "      <td>97.20</td>\n",
              "      <td>464.43</td>\n",
              "    </tr>\n",
              "    <tr>\n",
              "      <th>...</th>\n",
              "      <td>...</td>\n",
              "      <td>...</td>\n",
              "      <td>...</td>\n",
              "      <td>...</td>\n",
              "      <td>...</td>\n",
              "    </tr>\n",
              "    <tr>\n",
              "      <th>9563</th>\n",
              "      <td>15.12</td>\n",
              "      <td>48.92</td>\n",
              "      <td>1011.80</td>\n",
              "      <td>72.93</td>\n",
              "      <td>462.59</td>\n",
              "    </tr>\n",
              "    <tr>\n",
              "      <th>9564</th>\n",
              "      <td>33.41</td>\n",
              "      <td>77.95</td>\n",
              "      <td>1010.30</td>\n",
              "      <td>59.72</td>\n",
              "      <td>432.90</td>\n",
              "    </tr>\n",
              "    <tr>\n",
              "      <th>9565</th>\n",
              "      <td>15.99</td>\n",
              "      <td>43.34</td>\n",
              "      <td>1014.20</td>\n",
              "      <td>78.66</td>\n",
              "      <td>465.96</td>\n",
              "    </tr>\n",
              "    <tr>\n",
              "      <th>9566</th>\n",
              "      <td>17.65</td>\n",
              "      <td>59.87</td>\n",
              "      <td>1018.58</td>\n",
              "      <td>94.65</td>\n",
              "      <td>450.93</td>\n",
              "    </tr>\n",
              "    <tr>\n",
              "      <th>9567</th>\n",
              "      <td>23.68</td>\n",
              "      <td>51.30</td>\n",
              "      <td>1011.86</td>\n",
              "      <td>71.24</td>\n",
              "      <td>451.67</td>\n",
              "    </tr>\n",
              "  </tbody>\n",
              "</table>\n",
              "<p>9527 rows × 5 columns</p>\n",
              "</div>"
            ],
            "text/plain": [
              "      Ambient Temperature  Exhaust Vaccum  Ambient Pressure  \\\n",
              "0                    8.34           40.77           1010.84   \n",
              "1                   23.64           58.49           1011.40   \n",
              "2                   29.74           56.90           1007.15   \n",
              "3                   19.07           49.69           1007.22   \n",
              "4                   11.80           40.66           1017.13   \n",
              "...                   ...             ...               ...   \n",
              "9563                15.12           48.92           1011.80   \n",
              "9564                33.41           77.95           1010.30   \n",
              "9565                15.99           43.34           1014.20   \n",
              "9566                17.65           59.87           1018.58   \n",
              "9567                23.68           51.30           1011.86   \n",
              "\n",
              "      Relative Humidity  Energy Output  \n",
              "0                 90.01         480.48  \n",
              "1                 74.20         445.75  \n",
              "2                 41.91         438.76  \n",
              "3                 76.79         453.09  \n",
              "4                 97.20         464.43  \n",
              "...                 ...            ...  \n",
              "9563              72.93         462.59  \n",
              "9564              59.72         432.90  \n",
              "9565              78.66         465.96  \n",
              "9566              94.65         450.93  \n",
              "9567              71.24         451.67  \n",
              "\n",
              "[9527 rows x 5 columns]"
            ]
          },
          "execution_count": 58,
          "metadata": {},
          "output_type": "execute_result"
        }
      ],
      "source": [
        "# remove duplicate values\n",
        "df.drop_duplicates(keep='first')"
      ]
    },
    {
      "cell_type": "markdown",
      "id": "whole-retailer",
      "metadata": {
        "id": "whole-retailer"
      },
      "source": [
        "#### Exercise 3: Handle missing data (1 point)\n",
        "\n",
        "After exploring the dataset if there are any null values present in the dataset then define a function that takes data loaded using the above defined function as input and handle the null values accordingly.\n",
        "\n",
        "**Hint:**\n",
        "\n",
        "- Drop the records containing the null values - dropna()\n",
        "- Replace the null values with the mean/median/mode - fillna()"
      ]
    },
    {
      "cell_type": "code",
      "execution_count": 59,
      "id": "incorporated-child",
      "metadata": {
        "colab": {
          "base_uri": "https://localhost:8080/",
          "height": 240
        },
        "id": "incorporated-child",
        "outputId": "fe663191-517c-4fc8-d3da-43d8a8f97632",
        "scrolled": true
      },
      "outputs": [
        {
          "data": {
            "text/plain": [
              "Ambient Temperature    0\n",
              "Exhaust Vaccum         0\n",
              "Ambient Pressure       0\n",
              "Relative Humidity      0\n",
              "Energy Output          0\n",
              "dtype: int64"
            ]
          },
          "execution_count": 59,
          "metadata": {},
          "output_type": "execute_result"
        }
      ],
      "source": [
        "# Function to handle missing data\n",
        "# Drop the records containing the null values\n",
        "df.dropna(inplace=True)\n",
        "df.isnull().sum()"
      ]
    },
    {
      "cell_type": "markdown",
      "id": "loaded-arbitration",
      "metadata": {
        "id": "loaded-arbitration"
      },
      "source": [
        "#### Exercise 4: Scale the data (1 point)\n",
        "\n",
        "Write a function that takes the data after handling the missing data as input and returns the standardized data.\n",
        "\n",
        "**Hint:**\n",
        "\n",
        "- standardization of the data  can be performed using the below formula\n",
        "\n",
        "$ (x - mean(x)) / std(x) $"
      ]
    },
    {
      "cell_type": "code",
      "execution_count": 60,
      "id": "extraordinary-qatar",
      "metadata": {
        "id": "extraordinary-qatar",
        "scrolled": true
      },
      "outputs": [],
      "source": [
        "# Defining a function to standardize the data\n",
        "\n",
        "def standardize_data(df):\n",
        "    # Create a copy of the dataframe to avoid modifying the original\n",
        "    df_standardized = df.copy()\n",
        "\n",
        "    # Get only numeric columns\n",
        "    numeric_columns = df.select_dtypes('float64').columns\n",
        "\n",
        "    # Standardize each numeric column\n",
        "    for column in numeric_columns:\n",
        "        mean = df_standardized[column].mean()\n",
        "        std = df_standardized[column].std()\n",
        "\n",
        "        # Avoid division by zero\n",
        "        if std > 0:\n",
        "            df_standardized[column] = (df_standardized[column] - mean) / std\n",
        "        else:\n",
        "            # If standard deviation is 0, just center the data\n",
        "            df_standardized[column] = df_standardized[column] - mean\n",
        "\n",
        "    return df_standardized"
      ]
    },
    {
      "cell_type": "code",
      "execution_count": 61,
      "id": "OpeVti6qjWve",
      "metadata": {
        "id": "OpeVti6qjWve"
      },
      "outputs": [],
      "source": [
        "df_standardized = standardize_data(df)"
      ]
    },
    {
      "cell_type": "code",
      "execution_count": 82,
      "id": "2NTL3i7c0FYN",
      "metadata": {
        "colab": {
          "base_uri": "https://localhost:8080/",
          "height": 206
        },
        "id": "2NTL3i7c0FYN",
        "outputId": "78980893-6f7a-43b5-b202-42947dbeaddd"
      },
      "outputs": [
        {
          "data": {
            "application/vnd.microsoft.datawrangler.viewer.v0+json": {
              "columns": [
                {
                  "name": "index",
                  "rawType": "int64",
                  "type": "integer"
                },
                {
                  "name": "Ambient Temperature",
                  "rawType": "float64",
                  "type": "float"
                },
                {
                  "name": "Exhaust Vaccum",
                  "rawType": "float64",
                  "type": "float"
                },
                {
                  "name": "Ambient Pressure",
                  "rawType": "float64",
                  "type": "float"
                },
                {
                  "name": "Relative Humidity",
                  "rawType": "float64",
                  "type": "float"
                },
                {
                  "name": "Energy Output",
                  "rawType": "float64",
                  "type": "float"
                }
              ],
              "conversionMethod": "pd.DataFrame",
              "ref": "7f8aa783-d8aa-480f-b483-a81027be60c4",
              "rows": [
                [
                  "0",
                  "-1.517782196432159",
                  "-1.0651493306182216",
                  "-0.4073356257932389",
                  "1.1438845705832301",
                  "1.530145792738925"
                ],
                [
                  "1",
                  "0.535227526462003",
                  "0.3292596404309611",
                  "-0.3130402232764007",
                  "0.06102779147678322",
                  "-0.5047759963868141"
                ],
                [
                  "2",
                  "1.353747742779283",
                  "0.20414055104223622",
                  "-1.0286749745203319",
                  "-2.150575332960103",
                  "-0.9143384296142523"
                ],
                [
                  "3",
                  "-0.07799171756586103",
                  "-0.363223370022358",
                  "-1.0168880492057173",
                  "0.2384217862829629",
                  "-0.07470614518661639"
                ],
                [
                  "4",
                  "-1.0535067950456358",
                  "-1.0738053682488886",
                  "0.651803806047773",
                  "1.636341258867566",
                  "0.5897341971308594"
                ]
              ],
              "shape": {
                "columns": 5,
                "rows": 5
              }
            },
            "text/html": [
              "<div>\n",
              "<style scoped>\n",
              "    .dataframe tbody tr th:only-of-type {\n",
              "        vertical-align: middle;\n",
              "    }\n",
              "\n",
              "    .dataframe tbody tr th {\n",
              "        vertical-align: top;\n",
              "    }\n",
              "\n",
              "    .dataframe thead th {\n",
              "        text-align: right;\n",
              "    }\n",
              "</style>\n",
              "<table border=\"1\" class=\"dataframe\">\n",
              "  <thead>\n",
              "    <tr style=\"text-align: right;\">\n",
              "      <th></th>\n",
              "      <th>Ambient Temperature</th>\n",
              "      <th>Exhaust Vaccum</th>\n",
              "      <th>Ambient Pressure</th>\n",
              "      <th>Relative Humidity</th>\n",
              "      <th>Energy Output</th>\n",
              "    </tr>\n",
              "  </thead>\n",
              "  <tbody>\n",
              "    <tr>\n",
              "      <th>0</th>\n",
              "      <td>-1.517782</td>\n",
              "      <td>-1.065149</td>\n",
              "      <td>-0.407336</td>\n",
              "      <td>1.143885</td>\n",
              "      <td>1.530146</td>\n",
              "    </tr>\n",
              "    <tr>\n",
              "      <th>1</th>\n",
              "      <td>0.535228</td>\n",
              "      <td>0.329260</td>\n",
              "      <td>-0.313040</td>\n",
              "      <td>0.061028</td>\n",
              "      <td>-0.504776</td>\n",
              "    </tr>\n",
              "    <tr>\n",
              "      <th>2</th>\n",
              "      <td>1.353748</td>\n",
              "      <td>0.204141</td>\n",
              "      <td>-1.028675</td>\n",
              "      <td>-2.150575</td>\n",
              "      <td>-0.914338</td>\n",
              "    </tr>\n",
              "    <tr>\n",
              "      <th>3</th>\n",
              "      <td>-0.077992</td>\n",
              "      <td>-0.363223</td>\n",
              "      <td>-1.016888</td>\n",
              "      <td>0.238422</td>\n",
              "      <td>-0.074706</td>\n",
              "    </tr>\n",
              "    <tr>\n",
              "      <th>4</th>\n",
              "      <td>-1.053507</td>\n",
              "      <td>-1.073805</td>\n",
              "      <td>0.651804</td>\n",
              "      <td>1.636341</td>\n",
              "      <td>0.589734</td>\n",
              "    </tr>\n",
              "  </tbody>\n",
              "</table>\n",
              "</div>"
            ],
            "text/plain": [
              "   Ambient Temperature  Exhaust Vaccum  Ambient Pressure  Relative Humidity  \\\n",
              "0            -1.517782       -1.065149         -0.407336           1.143885   \n",
              "1             0.535228        0.329260         -0.313040           0.061028   \n",
              "2             1.353748        0.204141         -1.028675          -2.150575   \n",
              "3            -0.077992       -0.363223         -1.016888           0.238422   \n",
              "4            -1.053507       -1.073805          0.651804           1.636341   \n",
              "\n",
              "   Energy Output  \n",
              "0       1.530146  \n",
              "1      -0.504776  \n",
              "2      -0.914338  \n",
              "3      -0.074706  \n",
              "4       0.589734  "
            ]
          },
          "execution_count": 82,
          "metadata": {},
          "output_type": "execute_result"
        }
      ],
      "source": [
        "df_standardized.head()"
      ]
    },
    {
      "cell_type": "markdown",
      "id": "thermal-rehabilitation",
      "metadata": {
        "id": "thermal-rehabilitation"
      },
      "source": [
        "#### Exercise 5: Feature selection (1 point)\n",
        "\n",
        "Write a function that takes scaled data as input and returns the features and target variable values\n",
        "\n",
        "**Hint:**\n",
        "\n",
        "- Features: AmbientTemperature, ExhaustVaccum, AmbientPressure, RelativeHumidity\n",
        "- Target Variable: EnergyOutput"
      ]
    },
    {
      "cell_type": "code",
      "execution_count": 63,
      "id": "terminal-starter",
      "metadata": {
        "id": "terminal-starter",
        "scrolled": true
      },
      "outputs": [],
      "source": [
        "import pandas as pd\n",
        "import numpy as np\n",
        "\n",
        "def prepare_power_plant_data(df):\n",
        "    # Create a copy to avoid modifying the original\n",
        "    df_copy = df.copy()\n",
        "\n",
        "    # Seggregate features and target\n",
        "    feature_cols = df_standardized.columns[:-1]\n",
        "    target_col = df_standardized.columns[-1]\n",
        "\n",
        "    # Create feature matrix X and target vector y\n",
        "    X = df_copy[feature_cols]\n",
        "    y = df_copy[target_col]\n",
        "\n",
        "    return X, y"
      ]
    },
    {
      "cell_type": "code",
      "execution_count": 64,
      "id": "Ja38EU5Z27QJ",
      "metadata": {
        "id": "Ja38EU5Z27QJ"
      },
      "outputs": [],
      "source": [
        "X, y = prepare_power_plant_data(df_standardized)"
      ]
    },
    {
      "cell_type": "markdown",
      "id": "timely-bruce",
      "metadata": {
        "id": "timely-bruce"
      },
      "source": [
        "#### Exercise 6: Correlation (1 point)\n",
        "\n",
        "Calculate correlation between the variables"
      ]
    },
    {
      "cell_type": "code",
      "execution_count": 65,
      "id": "mji_7lzv3rpB",
      "metadata": {
        "colab": {
          "base_uri": "https://localhost:8080/",
          "height": 836
        },
        "id": "mji_7lzv3rpB",
        "outputId": "c27a71be-9c87-43bf-e1b7-e613a6c63fce"
      },
      "outputs": [
        {
          "data": {
            "image/png": "[encoded data removed]",
            "text/plain": [
              "<Figure size 1000x800 with 2 Axes>"
            ]
          },
          "metadata": {},
          "output_type": "display_data"
        }
      ],
      "source": [
        "import matplotlib.pyplot as plt\n",
        "import seaborn as sns\n",
        "\n",
        "# Assuming df_standardized is your DataFrame\n",
        "correlation_matrix = df_standardized.corr()\n",
        "\n",
        "# Plotting the correlation matrix using a heatmap\n",
        "plt.figure(figsize=(10, 8))  # Adjust figure size as needed\n",
        "sns.heatmap(correlation_matrix, annot=True, cmap='coolwarm', fmt=\".2f\")\n",
        "plt.title('Correlation Matrix of Power Plant Data')\n",
        "plt.show()\n"
      ]
    },
    {
      "cell_type": "markdown",
      "id": "honest-remainder",
      "metadata": {
        "id": "honest-remainder"
      },
      "source": [
        "#### Exercise 7: Estimate the coefficients (2 points)\n",
        "\n",
        "Write a function that takes features and target as input and returns the estimated coefficient values\n",
        "\n",
        "**Hint:**\n",
        "\n",
        "- Calculate the estimated coefficients using the below formula\n",
        "\n",
        "$ β = (X^T X)^{-1} X^T y $\n",
        "\n",
        "- transpose(), np.linalg.inv()"
      ]
    },
    {
      "cell_type": "code",
      "execution_count": 66,
      "id": "dimensional-victory",
      "metadata": {
        "id": "dimensional-victory",
        "scrolled": true
      },
      "outputs": [],
      "source": [
        "# Calculating the coeffients\n",
        "\n",
        "def estimate_coefficients(X_ec, y_ec):\n",
        "    # Ensure X is a numpy array\n",
        "    if isinstance(X_ec, pd.DataFrame):\n",
        "        X_ec = X_ec.values\n",
        "    if isinstance(y_ec, (pd.Series, pd.DataFrame)):\n",
        "        y_ec = y_ec.values\n",
        "\n",
        "    # Add intercept column (column of ones)\n",
        "    X_intercept_ec = np.c_[np.ones(X_ec.shape[0]), X_ec]\n",
        "\n",
        "    # Compute coefficients using the Normal Equation\n",
        "    beta = np.linalg.inv(X_intercept_ec.T @ X_intercept_ec) @ X_intercept_ec.T @ y_ec\n",
        "    return beta\n"
      ]
    },
    {
      "cell_type": "code",
      "execution_count": 67,
      "id": "NNeESyo75ELg",
      "metadata": {
        "colab": {
          "base_uri": "https://localhost:8080/"
        },
        "id": "NNeESyo75ELg",
        "outputId": "ee9b2bc8-a9e8-45d4-fcf7-59985a6d1101"
      },
      "outputs": [
        {
          "data": {
            "text/plain": [
              "array([-1.58380253e-15, -8.63500780e-01, -1.74171544e-01,  2.16029345e-02,\n",
              "       -1.35210234e-01])"
            ]
          },
          "execution_count": 67,
          "metadata": {},
          "output_type": "execute_result"
        }
      ],
      "source": [
        "estimate_coefficients(X,y)"
      ]
    },
    {
      "cell_type": "markdown",
      "id": "interior-bennett",
      "metadata": {
        "id": "interior-bennett"
      },
      "source": [
        "#### Exercise 8: Fit the data to estimate the coefficients (2 points)\n",
        "\n",
        "Write a function named fit which takes features and targets as input and returns the intercept and coefficient values.\n",
        "\n",
        "**Hint:**\n",
        "\n",
        "- create a dummy column in the features dataframe which is made up of all ones\n",
        "- convert the features dataframe into numpy array\n",
        "- call the estimated coefficients function which is defined above\n",
        "- np.ones(), np.concatenate()"
      ]
    },
    {
      "cell_type": "code",
      "execution_count": 68,
      "id": "local-texas",
      "metadata": {
        "id": "local-texas",
        "scrolled": true
      },
      "outputs": [],
      "source": [
        "# defining a fit function\n",
        "def fit(X_fit, y_fit):\n",
        "    # Call the estimate_coefficients function\n",
        "    beta = estimate_coefficients(X_fit, y_fit)\n",
        "    # First value is intercept, rest are coefficients\n",
        "    intercept = beta[0]\n",
        "    coefficients = beta[1:]\n",
        "    return intercept, coefficients"
      ]
    },
    {
      "cell_type": "code",
      "execution_count": 69,
      "id": "7-IgR1jE7Lba",
      "metadata": {
        "id": "7-IgR1jE7Lba"
      },
      "outputs": [],
      "source": [
        "intercept, coefficients = fit(X,y)"
      ]
    },
    {
      "cell_type": "markdown",
      "id": "hybrid-quick",
      "metadata": {
        "id": "hybrid-quick"
      },
      "source": [
        "#### Exercise 9: Predict the data on estimated coefficients (1 point)\n",
        "\n",
        "Write a function named predict which takes features, intercept and coefficient values as input and returns the predicted values.\n",
        "\n",
        "**Hint:**\n",
        "\n",
        "- Fit the intercept, coefficients values in the below equation\n",
        "\n",
        "  $y = b_0 + b_1*x + ... + b_i*x_i$"
      ]
    },
    {
      "cell_type": "code",
      "execution_count": 70,
      "id": "buried-attention",
      "metadata": {
        "id": "buried-attention",
        "scrolled": true
      },
      "outputs": [],
      "source": [
        " # fucntion to predict the values\n",
        "def predict(x, intercept, coefficients):\n",
        "    # Convert features to numpy array if it's a DataFrame\n",
        "    if isinstance(X, pd.DataFrame):\n",
        "        X_features = X.values\n",
        "    else:\n",
        "        X_features = X\n",
        "    # Compute predictions\n",
        "    y_pred = intercept + np.dot(X, coefficients)\n",
        "    return y_pred"
      ]
    },
    {
      "cell_type": "code",
      "execution_count": 71,
      "id": "IEYbf8RY7zM9",
      "metadata": {
        "colab": {
          "base_uri": "https://localhost:8080/"
        },
        "id": "IEYbf8RY7zM9",
        "outputId": "b15b83f3-07e0-4528-b226-880c3783d274"
      },
      "outputs": [
        {
          "data": {
            "text/plain": [
              "array([ 1.33266027, -0.53453122, -0.93596031, ...,  0.52838115,\n",
              "       -0.02266325, -0.41153611])"
            ]
          },
          "execution_count": 71,
          "metadata": {},
          "output_type": "execute_result"
        }
      ],
      "source": [
        "predict(X, intercept, coefficients)"
      ]
    },
    {
      "cell_type": "code",
      "execution_count": 72,
      "id": "amCiqYsA9j8U",
      "metadata": {
        "colab": {
          "base_uri": "https://localhost:8080/",
          "height": 564
        },
        "id": "amCiqYsA9j8U",
        "outputId": "e55fb462-f2f7-4183-d724-1d7c06ed38ce"
      },
      "outputs": [
        {
          "data": {
            "image/png": "[encoded data removed]",
            "text/plain": [
              "<Figure size 1000x600 with 1 Axes>"
            ]
          },
          "metadata": {},
          "output_type": "display_data"
        }
      ],
      "source": [
        "import matplotlib.pyplot as plt\n",
        "y_pred = predict(X, intercept, coefficients)\n",
        "\n",
        "# Plotting the predicted values\n",
        "plt.figure(figsize=(10, 6))\n",
        "plt.scatter(y, y_pred, color='blue', alpha=0.7)\n",
        "plt.xlabel(\"Actual Values\")\n",
        "plt.ylabel(\"Predicted Values\")\n",
        "plt.title(\"Actual vs Predicted Values\")\n",
        "plt.grid(True)\n",
        "plt.show()\n"
      ]
    },
    {
      "cell_type": "markdown",
      "id": "rolled-consultancy",
      "metadata": {
        "id": "rolled-consultancy"
      },
      "source": [
        "#### Exercise 10: Root mean squared error (1 point)\n",
        "\n",
        "Write a function to calculate the RMSE error.\n",
        "\n",
        "**Hint:**\n",
        "\n",
        "- [How to calculate the RSME error](https://towardsdatascience.com/what-does-rmse-really-mean-806b65f2e48e)"
      ]
    },
    {
      "cell_type": "code",
      "execution_count": 73,
      "id": "phantom-alabama",
      "metadata": {
        "id": "phantom-alabama",
        "scrolled": true
      },
      "outputs": [],
      "source": [
        "# Define a function to calculate the error\n",
        "def rmse(y_actual, y_pred):\n",
        "    y_true = np.array(y_actual)\n",
        "    y_pred = np.array(y_pred)\n",
        "    mse = np.mean((y_actual - y_pred) ** 2)\n",
        "    return np.sqrt(mse)"
      ]
    },
    {
      "cell_type": "code",
      "execution_count": 74,
      "id": "Jvw9GY5kIHWm",
      "metadata": {
        "colab": {
          "base_uri": "https://localhost:8080/"
        },
        "id": "Jvw9GY5kIHWm",
        "outputId": "bba5168d-b646-40b2-b156-c294ecb9b923"
      },
      "outputs": [
        {
          "data": {
            "text/plain": [
              "0.26701396565722163"
            ]
          },
          "execution_count": 74,
          "metadata": {},
          "output_type": "execute_result"
        }
      ],
      "source": [
        "rmse(y, predict(X, intercept, coefficients))"
      ]
    },
    {
      "cell_type": "markdown",
      "id": "experimental-discrimination",
      "metadata": {
        "id": "experimental-discrimination"
      },
      "source": [
        "#### Exercise 11: Split the data into train and test (1 point)\n",
        "\n",
        "Write a function named train_test_split which takes features and targets as input and returns the train and test sets respectively.\n",
        "\n",
        "**Hint:**\n",
        "\n",
        "- Shuffle the data\n",
        "- Consider 70 % of data as a train set and the rest of the data as a test set"
      ]
    },
    {
      "cell_type": "code",
      "execution_count": 75,
      "id": "dangerous-salmon",
      "metadata": {
        "id": "dangerous-salmon",
        "scrolled": true
      },
      "outputs": [],
      "source": [
        "def train_test_split(features, targets, train_size=0.7, random_state=None):\n",
        "    # Convert to numpy arrays if needed\n",
        "    if isinstance(features, pd.DataFrame):\n",
        "        X = features.values\n",
        "    else:\n",
        "        X = features\n",
        "    if isinstance(targets, (pd.Series, pd.DataFrame)):\n",
        "        y = targets.values\n",
        "    else:\n",
        "        y = targets\n",
        "\n",
        "    # Set random seed for reproducibility\n",
        "    rng = np.random.default_rng(random_state)\n",
        "    indices = np.arange(X.shape[0])\n",
        "    rng.shuffle(indices)\n",
        "\n",
        "    # Calculate split index\n",
        "    split_idx = int(train_size * X.shape[0])\n",
        "\n",
        "    # Split the data\n",
        "    X_train, X_test = X[indices[:split_idx]], X[indices[split_idx:]]\n",
        "    y_train, y_test = y[indices[:split_idx]], y[indices[split_idx:]]\n",
        "\n",
        "    return X_train, X_test, y_train, y_test"
      ]
    },
    {
      "cell_type": "code",
      "execution_count": 76,
      "id": "8U_gKRg1JSy4",
      "metadata": {
        "id": "8U_gKRg1JSy4"
      },
      "outputs": [],
      "source": [
        "X_train, X_test, y_train, y_test = train_test_split(X, y, train_size=0.7, random_state=42)"
      ]
    },
    {
      "cell_type": "markdown",
      "id": "living-operation",
      "metadata": {
        "id": "living-operation"
      },
      "source": [
        "#### Exercise 12: Implement predict using OpenMP (1 point)\n",
        "\n",
        "Get the predictions for test data and calculate the test error(RMSE) by implementing the OpenMP (pymp)\n",
        "\n",
        "**Hints:**\n",
        "\n",
        "* Using the pymp.Parallel implement the predict function (use from above)\n",
        "\n",
        "* Call the predict function by passing test data as an argument\n",
        "\n",
        "* calculate the error (RMSE) by comparing the Actual test data and predicted test data"
      ]
    },
    {
      "cell_type": "code",
      "execution_count": 77,
      "id": "1PndfF9b_mkN",
      "metadata": {
        "colab": {
          "base_uri": "https://localhost:8080/"
        },
        "id": "1PndfF9b_mkN",
        "outputId": "f0201ee6-8b72-427a-d4a6-4fdb837a1a61"
      },
      "outputs": [
        {
          "name": "stderr",
          "output_type": "stream",
          "text": [
            "43298.32s - pydevd: Sending message related to process being replaced timed-out after 5 seconds\n"
          ]
        },
        {
          "name": "stdout",
          "output_type": "stream",
          "text": [
            "Requirement already satisfied: pymp-pypi in /Library/Frameworks/Python.framework/Versions/3.12/lib/python3.12/site-packages (0.5.0)\n",
            "\n",
            "\u001b[1m[\u001b[0m\u001b[34;49mnotice\u001b[0m\u001b[1;39;49m]\u001b[0m\u001b[39;49m A new release of pip is available: \u001b[0m\u001b[31;49m25.0.1\u001b[0m\u001b[39;49m -> \u001b[0m\u001b[32;49m25.1.1\u001b[0m\n",
            "\u001b[1m[\u001b[0m\u001b[34;49mnotice\u001b[0m\u001b[1;39;49m]\u001b[0m\u001b[39;49m To update, run: \u001b[0m\u001b[32;49mpip install --upgrade pip\u001b[0m\n"
          ]
        }
      ],
      "source": [
        "!pip install pymp-pypi"
      ]
    },
    {
      "cell_type": "code",
      "execution_count": 78,
      "id": "o8DSppnV_wQa",
      "metadata": {
        "id": "o8DSppnV_wQa"
      },
      "outputs": [
        {
          "name": "stdout",
          "output_type": "stream",
          "text": [
            "Number of logical processors: 8\n"
          ]
        }
      ],
      "source": [
        "import pymp\n",
        "import psutil\n",
        "import platform\n",
        "num_threads_new = psutil.cpu_count(logical=True)\n",
        "print(f\"Number of logical processors: {num_threads_new}\")\n",
        "def parallel_predict(features, intercept, coefficients, num_threads=num_threads_new):\n",
        "    n_samples = features.shape[0]\n",
        "    y_pred = pymp.shared.array(n_samples, dtype='float64')\n",
        "\n",
        "    with pymp.Parallel(num_threads) as p:\n",
        "        for i in p.range(n_samples):\n",
        "            y_pred[i] = intercept + np.dot(features[i], coefficients)\n",
        "    return np.array(y_pred)"
      ]
    },
    {
      "cell_type": "code",
      "execution_count": 79,
      "id": "mcbYLK30KRV0",
      "metadata": {
        "id": "mcbYLK30KRV0"
      },
      "outputs": [],
      "source": [
        "def rmse(y_true, y_pred):\n",
        "    y_true = np.array(y_true)\n",
        "    y_pred = np.array(y_pred)\n",
        "    mse = np.mean((y_true - y_pred) ** 2)\n",
        "    return np.sqrt(mse)"
      ]
    },
    {
      "cell_type": "code",
      "execution_count": 80,
      "id": "u-ILkayUKWRP",
      "metadata": {
        "colab": {
          "base_uri": "https://localhost:8080/"
        },
        "id": "u-ILkayUKWRP",
        "outputId": "4af094e8-cadd-490c-ab81-9fda0c9cb852"
      },
      "outputs": [
        {
          "name": "stdout",
          "output_type": "stream",
          "text": [
            "Test RMSE: 0.2745043348588452\n"
          ]
        },
        {
          "name": "stderr",
          "output_type": "stream",
          "text": [
            "0.00s - Debugger warning: It seems that frozen modules are being used, which may\n",
            "0.00s - make the debugger miss breakpoints. Please pass -Xfrozen_modules=off\n",
            "0.00s - to python to disable frozen modules.\n",
            "0.00s - Note: Debugging will proceed. Set PYDEVD_DISABLE_FILE_VALIDATION=1 to disable this validation.\n"
          ]
        }
      ],
      "source": [
        "# Get predictions in parallel\n",
        "y_pred_test = parallel_predict(X_test, intercept, coefficients, num_threads=num_threads_new)\n",
        "\n",
        "# Calculate RMSE\n",
        "test_rmse = rmse(y_test, y_pred_test)\n",
        "print(\"Test RMSE:\", test_rmse)\n"
      ]
    },
    {
      "cell_type": "code",
      "execution_count": 81,
      "id": "3aa9cff0",
      "metadata": {},
      "outputs": [
        {
          "ename": "IndentationError",
          "evalue": "expected an indented block after 'with' statement on line 1 (2514375854.py, line 2)",
          "output_type": "error",
          "traceback": [
            "  \u001b[36mCell\u001b[39m\u001b[36m \u001b[39m\u001b[32mIn[81]\u001b[39m\u001b[32m, line 2\u001b[39m\n\u001b[31m    \u001b[39m\u001b[31mrank = p.thread_num\u001b[39m\n    ^\n\u001b[31mIndentationError\u001b[39m\u001b[31m:\u001b[39m expected an indented block after 'with' statement on line 1\n"
          ]
        }
      ],
      "source": [
        "    with pymp.Parallel(num_workers) as p:\n",
        "    rank = p.thread_num\n",
        "    # Shared list to hold the slices for each worker\n",
        "    shared_slices = pymp.shared.list([None] * num_workers)\n",
        "    # Shared counter to track when the master thread is done\n",
        "    data_ready = pymp.shared.array(1, dtype='i')\n",
        "    data_ready[0] = 0\n",
        "\n",
        "    if rank == 0:\n",
        "        # Root worker: prepare and divide the data\n",
        "        X_train, X_test, y_train, y_test = train_test_split(X, y, train_size=0.7, random_state=42)\n",
        "        train_slices = dividing_data(X_train, y_train, num_workers)\n",
        "        # Scatter: assign each slice to the shared list\n",
        "        for i in range(num_workers):\n",
        "            shared_slices[i] = train_slices[i]\n",
        "        # Signal that data is ready\n",
        "        data_ready[0] = 1\n",
        "\n",
        "    # Wait until data is ready\n",
        "    # Simple busy-wait synchronization\n",
        "    while data_ready[0] == 0:\n",
        "        # Small sleep to reduce CPU usage during waiting\n",
        "        time.sleep(0.01)\n",
        "\n",
        "    # Each worker gets its slice\n",
        "    X_slice, y_slice = shared_slices[rank]\n",
        "    # Fit model on the slice\n",
        "    intercept, coefficients = fit(pd.DataFrame(X_slice), y_slice)\n",
        "    # Predict on the slice\n",
        "    yhat = predict(pd.DataFrame(X_slice), intercept, coefficients)\n",
        "    print(f\"Worker {rank}: Predicted yhat for its slice:\\n\", yhat)"
      ]
    },
    {
      "cell_type": "markdown",
      "id": "covered-canon",
      "metadata": {
        "id": "covered-canon"
      },
      "source": [
        "#### Exercise 13: Create a communicator (1 point) - MPI\n",
        "\n",
        "Create a comunicator and define the rank and size"
      ]
    },
    {
      "cell_type": "code",
      "execution_count": 42,
      "id": "radio-origin",
      "metadata": {
        "colab": {
          "base_uri": "https://localhost:8080/"
        },
        "id": "radio-origin",
        "outputId": "4d156cc0-8a76-4635-888f-17871a5aae30",
        "scrolled": true
      },
      "outputs": [
        {
          "name": "stdout",
          "output_type": "stream",
          "text": [
            "Overwriting rank.py\n"
          ]
        }
      ],
      "source": [
        "%%writefile rank.py\n",
        "from mpi4py import MPI # Importing mpi4py package from MPI module\n",
        "# Define a function\n",
        "def main():\n",
        "    # creating the communicator\n",
        "    comm = MPI.COMM_WORLD\n",
        "    # number of the process running the code i.e rank\n",
        "    rank = comm.Get_rank()\n",
        "    # total number of processes running i.e size\n",
        "    size = comm.Get_size()\n",
        "    # Displaying the rank and size of a communicator\n",
        "    print(\"rank is {} and size is {}\".format(rank,size))\n",
        "\n",
        "# invoke the function\n",
        "main()\n"
      ]
    },
    {
      "cell_type": "code",
      "execution_count": 34,
      "id": "e8c76928",
      "metadata": {},
      "outputs": [
        {
          "name": "stdout",
          "output_type": "stream",
          "text": [
            "Number of logical processors: 8\n"
          ]
        }
      ],
      "source": [
        "num_threads_machine = psutil.cpu_count(logical=True)\n",
        "print(f\"Number of logical processors: {num_threads_machine}\")"
      ]
    },
    {
      "cell_type": "code",
      "execution_count": 43,
      "id": "56d7bd30",
      "metadata": {},
      "outputs": [
        {
          "name": "stdout",
          "output_type": "stream",
          "text": [
            "rank is 4 and size is 8\n",
            "rank is 6 and size is 8\n",
            "rank is 0 and size is 8\n",
            "rank is 7 and size is 8\n",
            "rank is 2 and size is 8\n",
            "rank is 3 and size is 8\n",
            "rank is 5 and size is 8\n",
            "rank is 1 and size is 8\n"
          ]
        }
      ],
      "source": [
        "!mpirun --allow-run-as-root --oversubscribe -np num_threads_machine python3 rank.py"
      ]
    },
    {
      "cell_type": "markdown",
      "id": "miniature-plaza",
      "metadata": {
        "id": "miniature-plaza"
      },
      "source": [
        "#### Exercise 14: Divide the data into slices (1 point)\n",
        "\n",
        "Write a function named dividing_data which takes train features set, train target set, and size of workers as inputs and returns the sliced data for each worker.\n",
        "\n",
        "![img](https://cdn.iisc.talentsprint.com/CDS/Images/MiniProject_MPI_DataSlice.JPG)\n",
        "\n",
        "For Example, if there are 4 processes, slice the data into 4 equal parts with 25% ratio\n",
        "\n",
        "**Hint:**\n",
        "\n",
        "- Divide the Data equally among the workers\n",
        "  - Create an empty list\n",
        "  - Iterate over the size of workers\n",
        "  - Append each slice of data to the list"
      ]
    },
    {
      "cell_type": "code",
      "execution_count": 44,
      "id": "signal-medicaid",
      "metadata": {
        "id": "signal-medicaid",
        "scrolled": true
      },
      "outputs": [],
      "source": [
        "def dividing_data(x_train, y_train, size_of_workers):\n",
        "    # Size of the slice\n",
        "    slice_for_each_worker = int(Decimal(x_train.shape[0]/size_of_workers).quantize(Decimal('1.'), rounding = ROUND_HALF_UP))\n",
        "    print('Slice of data for each worker: {}'.format(slice_for_each_worker))\n",
        "    X = np.array(X_train)\n",
        "    y = np.array(y_train)\n",
        "    n_samples = X.shape[0]\n",
        "    slices = []\n",
        "    \n",
        "    print('slice for each worker',slice_for_each_worker)\n",
        "\n",
        "    for i in range(size_of_workers):\n",
        "        start = i * slice_for_each_worker\n",
        "        # For the last worker, take all remaining samples\n",
        "        end = (i + 1) * slice_for_each_worker if i != size_of_workers - 1 else n_samples\n",
        "        X_slice = X[start:end]\n",
        "        y_slice = y[start:end]\n",
        "        slices.append((X_slice, y_slice))\n",
        "    return slices"
      ]
    },
    {
      "cell_type": "code",
      "execution_count": 47,
      "id": "edy3RjKFL6oO",
      "metadata": {
        "colab": {
          "base_uri": "https://localhost:8080/"
        },
        "id": "edy3RjKFL6oO",
        "outputId": "134ec3c1-bf61-484e-8624-f6f88d1d3094"
      },
      "outputs": [
        {
          "name": "stdout",
          "output_type": "stream",
          "text": [
            "8\n",
            "Slice of data for each worker: 837\n",
            "slice for each worker 837\n",
            "slices: (837, 4)\n",
            "<class 'list'>\n"
          ]
        }
      ],
      "source": [
        "print(num_threads_machine)\n",
        "slices = dividing_data(X_train, y_train, num_threads_machine)\n",
        "print('slices:',slices[0][0].shape)\n"
      ]
    },
    {
      "cell_type": "markdown",
      "id": "changing-conditioning",
      "metadata": {
        "id": "changing-conditioning"
      },
      "source": [
        "#### Exercise 15: Prepare the data in root worker to assign data for all the workers (1 point)\n",
        "\n",
        "- When it is the root worker, perform the below operation:\n",
        "    - Store the features and target values in separate variables\n",
        "    - Split the data into train and test sets using the train_test_split function defined above\n",
        "    - Divide the data among the workers using the dividing_data function above"
      ]
    },
    {
      "cell_type": "code",
      "execution_count": 48,
      "id": "7ed5fd68",
      "metadata": {},
      "outputs": [
        {
          "name": "stdout",
          "output_type": "stream",
          "text": [
            "Writing root_worker_data_prep.py\n"
          ]
        }
      ],
      "source": [
        "%%writefile root_worker_data_prep.py\n",
        "from mpi4py import MPI # Importing mpi4py package from MPI module\n",
        "# Defining a function\n",
        "def data_prep_list():\n",
        "    # Creating a communicator\n",
        "    comm = MPI.COMM_WORLD\n",
        "    # number of the process running the code\n",
        "    rank = comm.Get_rank()\n",
        "    # total number of processes running\n",
        "    size = comm.Get_size()\n",
        "    # master process\n",
        "    if rank == 0:\n",
        "        # Store the features and target values in separate variables\n",
        "        # Split the data into train and test sets using the train_test_split function defined above\n",
        "        # Divide the data among the workers using the dividing_data function above      \n",
        "       X_train, X_test, y_train, y_test = train_test_split(X, y, train_size=0.7, random_state=42)\n",
        "       slices = dividing_data(X_train, y_train, num_threads_machine)\n",
        "        # Scatter the slices to all worker processes\n",
        "        for i in range(1, size):\n",
        "            comm.send(slices[i], dest=i, tag=rank)\n",
        "    # worker processes\n",
        "    else:\n",
        "        # each worker process receives data from master process\n",
        "        data = comm.recv(source=0, tag=rank)\n",
        "        # Displaying the results\n",
        "        print('Process {} received data:'.format(rank), data)\n",
        "# Calling the function\n",
        "main()"
      ]
    },
    {
      "cell_type": "code",
      "execution_count": null,
      "id": "hybrid-tamil",
      "metadata": {
        "id": "hybrid-tamil",
        "scrolled": true
      },
      "outputs": [],
      "source": [
        "def root_worker_data_preparation(features, target, num_workers):\n",
        "\n",
        "    # Store the features and target values in separate variables\n",
        "    X = features\n",
        "    y = target\n",
        "\n",
        "    # Split the data into train and test sets\n",
        "    X_train, X_test, y_train, y_test = train_test_split(X, y, train_size=0.7, random_state=42)\n",
        "\n",
        "    # Divide the train data among the workers\n",
        "    train_slices = dividing_data(X_train, y_train, num_workers)\n",
        "\n",
        "    return X_train, X_test, y_train, y_test, train_slices"
      ]
    },
    {
      "cell_type": "code",
      "execution_count": null,
      "id": "JkSjMjvGOD0S",
      "metadata": {
        "colab": {
          "base_uri": "https://localhost:8080/"
        },
        "id": "JkSjMjvGOD0S",
        "outputId": "b50ae00d-defa-4a50-84cf-f81d24a6a969"
      },
      "outputs": [
        {
          "name": "stdout",
          "output_type": "stream",
          "text": [
            "Slice of data for each worker: 1674\n"
          ]
        }
      ],
      "source": [
        "num_workers = 4\n",
        "with pymp.Parallel(num_workers) as p:\n",
        "    #pragma omp parallel\n",
        "    rank = p.thread_num\n",
        "    if rank == 0:\n",
        "        X_train, X_test, y_train, y_test, train_slices = root_worker_data_preparation(X, y, num_workers)"
      ]
    },
    {
      "cell_type": "markdown",
      "id": "breathing-baking",
      "metadata": {
        "id": "breathing-baking"
      },
      "source": [
        "#### Exercise 16: Scatter and gather the data (1 point)\n",
        "\n",
        "Perform the below operations:\n",
        "\n",
        "- Send slices of the training set(the features data X and the expected target data Y) to every worker including the root worker\n",
        "    - **Hint:** scatter()\n",
        "    - use `barrier()` to block workers until all workers in the group reach a Barrier, to scatter from root worker.\n",
        "- Every worker should get the predicted target Y(yhat) for each slice\n",
        "- Get the new coefficient of each instance in a slice\n",
        "    - **Hint:** fit function defined above\n",
        "- Gather the new coefficient from each worker\n",
        "    - **Hint:** gather()\n",
        "    - Take the mean of the gathered coefficients\n",
        "- Calculate the root mean square error for the test set\n",
        "\n",
        "To know more about `scatter`, `gather` and `barrier` click [here](https://nyu-cds.github.io/python-mpi/05-collectives/)"
      ]
    },
    {
      "cell_type": "markdown",
      "id": "hired-uniform",
      "metadata": {
        "id": "hired-uniform"
      },
      "source": [
        "#### Exercise 17: Make a script and execute everything in one place (1 point)\n",
        "\n",
        "Write a script(.py) file which contains the code of all the above exercises in it so that you can run the code on multiple processes using MPI.\n",
        "\n",
        "**Hint:**\n",
        "\n",
        "- magic commands\n",
        "- put MPI related code under main function\n",
        "- !mpirun --allow-run-as-root -np 4 python filename.py"
      ]
    },
    {
      "cell_type": "code",
      "execution_count": null,
      "id": "motivated-national",
      "metadata": {
        "id": "motivated-national"
      },
      "outputs": [],
      "source": [
        "# YOUR CODE HERE for scipt(.py)"
      ]
    },
    {
      "cell_type": "code",
      "execution_count": null,
      "id": "experimental-waterproof",
      "metadata": {
        "id": "experimental-waterproof",
        "scrolled": true
      },
      "outputs": [],
      "source": [
        "# YOUR CODE HERE for MPI command"
      ]
    },
    {
      "cell_type": "markdown",
      "id": "protecting-assets",
      "metadata": {
        "id": "protecting-assets"
      },
      "source": [
        "#### Exercise 18: Use Sklearn to compare (1 point)\n",
        "\n",
        "Apply the Linear regression on the given data using sklearn package and compare with the above results\n",
        "\n",
        "**Hint:**\n",
        "* Split the data into train and test\n",
        "* Fit the train data and predict the test data using `sklearn Linear Regression`\n",
        "* Compare the coefficients and intercept with above estimated coefficients\n",
        "* calculate loss (RMSE) on test data and predictions and compare"
      ]
    },
    {
      "cell_type": "code",
      "execution_count": null,
      "id": "applicable-tyler",
      "metadata": {
        "id": "applicable-tyler"
      },
      "outputs": [],
      "source": [
        "# YOUR CODE HERE"
      ]
    }
  ],
  "metadata": {
    "colab": {
      "include_colab_link": true,
      "provenance": []
    },
    "kernelspec": {
      "display_name": "Python 3",
      "language": "python",
      "name": "python3"
    },
    "language_info": {
      "codemirror_mode": {
        "name": "ipython",
        "version": 3
      },
      "file_extension": ".py",
      "mimetype": "text/x-python",
      "name": "python",
      "nbconvert_exporter": "python",
      "pygments_lexer": "ipython3",
      "version": "3.12.4"
    }
  },
  "nbformat": 4,
  "nbformat_minor": 5
}
