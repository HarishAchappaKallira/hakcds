{
 "cells": [
  {
   "cell_type": "markdown",
   "id": "positive-demand",
   "metadata": {
    "id": "positive-demand"
   },
   "source": [
    "# Advanced Certification Program in Computational Data Science\n",
    "## A program by IISc and TalentSprint\n",
    "### Assignment 3: Parallel Programming with MPI"
   ]
  },
  {
   "cell_type": "markdown",
   "id": "dressed-humanitarian",
   "metadata": {
    "id": "dressed-humanitarian"
   },
   "source": [
    "## Learning Objectives"
   ]
  },
  {
   "cell_type": "markdown",
   "id": "proof-import",
   "metadata": {
    "id": "proof-import"
   },
   "source": [
    "At the end of the experiment, you will be able to:\n",
    "\n",
    "\n",
    "* implement standard message-passing algorithms in MPI\n",
    "* debug simple MPI code\n",
    "* understand the basics of point-to-point communication\n",
    "* understand the difference between blocking and non-blocking communication\n",
    "* understand how non-blocking communication can improve program performance\n",
    "* understand the basics of collective communication\n",
    "* learn about the different types of collective communication\n"
   ]
  },
  {
   "cell_type": "markdown",
   "id": "environmental-complexity",
   "metadata": {
    "id": "environmental-complexity"
   },
   "source": [
    "## Information\n"
   ]
  },
  {
   "cell_type": "markdown",
   "id": "boolean-sacramento",
   "metadata": {
    "id": "boolean-sacramento"
   },
   "source": [
    "### MPI in a Nutshell\n",
    "\n",
    "MPI stands for \"Message Passing Interface\". It is a library of functions (in C / Python) or subroutines (in Fortran) that you insert into source code to perform data communication between processes. MPI was developed over two years of discussions led by the MPI Forum, a group of roughly sixty people representing some forty organizations.\n",
    "\n",
    "To know more about MPI click [here](https://computing.llnl.gov/tutorials/mpi/#What)"
   ]
  },
  {
   "cell_type": "markdown",
   "id": "BNLA8HiKxQhc",
   "metadata": {
    "id": "BNLA8HiKxQhc"
   },
   "source": [
    "### Setup Steps:"
   ]
  },
  {
   "cell_type": "code",
   "execution_count": 1,
   "id": "2YzfoPvJDiTX",
   "metadata": {
    "executionInfo": {
     "elapsed": 6,
     "status": "ok",
     "timestamp": 1746263412587,
     "user": {
      "displayName": "Harish Achappa",
      "userId": "05335455338103194332"
     },
     "user_tz": -330
    },
    "id": "2YzfoPvJDiTX"
   },
   "outputs": [],
   "source": [
    "#@title Please enter your registration id to start: { run: \"auto\", display-mode: \"form\" }\n",
    "Id = \"2417833\" #@param {type:\"string\"}"
   ]
  },
  {
   "cell_type": "code",
   "execution_count": 2,
   "id": "AjoZJWGErxGf",
   "metadata": {
    "executionInfo": {
     "elapsed": 5,
     "status": "ok",
     "timestamp": 1746263419966,
     "user": {
      "displayName": "Harish Achappa",
      "userId": "05335455338103194332"
     },
     "user_tz": -330
    },
    "id": "AjoZJWGErxGf"
   },
   "outputs": [],
   "source": [
    "#@title Please enter your password (your registered phone number) to continue: { run: \"auto\", display-mode: \"form\" }\n",
    "password = \"9840913286\" #@param {type:\"string\"}"
   ]
  },
  {
   "cell_type": "code",
   "execution_count": 3,
   "id": "WBPPuGmBlDIN",
   "metadata": {
    "cellView": "form",
    "colab": {
     "base_uri": "https://localhost:8080/",
     "height": 34
    },
    "executionInfo": {
     "elapsed": 1224,
     "status": "ok",
     "timestamp": 1746263423618,
     "user": {
      "displayName": "Harish Achappa",
      "userId": "05335455338103194332"
     },
     "user_tz": -330
    },
    "id": "WBPPuGmBlDIN",
    "outputId": "107d2659-0655-4bf4-a455-9df73ded61c9"
   },
   "outputs": [
    {
     "data": {
      "text/html": [
       "<script src=\"https://dashboard.talentsprint.com/aiml/record_ip.html?traineeId=2417833&recordId=4660\"></script>"
      ],
      "text/plain": [
       "<IPython.core.display.HTML object>"
      ]
     },
     "metadata": {},
     "output_type": "display_data"
    },
    {
     "name": "stdout",
     "output_type": "stream",
     "text": [
      "Setup completed successfully\n"
     ]
    }
   ],
   "source": [
    "#@title Run this cell to complete the setup for this Notebook\n",
    "from IPython import get_ipython\n",
    "\n",
    "ipython = get_ipython()\n",
    "\n",
    "notebook= \"M5_AST_03_MPI_C\" #name of the notebook\n",
    "\n",
    "def setup():\n",
    "#  ipython.magic(\"sx pip3 install torch\")\n",
    "    from IPython.display import HTML, display\n",
    "    display(HTML('<script src=\"https://dashboard.talentsprint.com/aiml/record_ip.html?traineeId={0}&recordId={1}\"></script>'.format(getId(),submission_id)))\n",
    "    print(\"Setup completed successfully\")\n",
    "    return\n",
    "\n",
    "def submit_notebook():\n",
    "    ipython.magic(\"notebook -e \"+ notebook + \".ipynb\")\n",
    "\n",
    "    import requests, json, base64, datetime\n",
    "\n",
    "    url = \"https://dashboard.talentsprint.com/xp/app/save_notebook_attempts\"\n",
    "    if not submission_id:\n",
    "      data = {\"id\" : getId(), \"notebook\" : notebook, \"mobile\" : getPassword()}\n",
    "      r = requests.post(url, data = data)\n",
    "      r = json.loads(r.text)\n",
    "\n",
    "      if r[\"status\"] == \"Success\":\n",
    "          return r[\"record_id\"]\n",
    "      elif \"err\" in r:\n",
    "        print(r[\"err\"])\n",
    "        return None\n",
    "      else:\n",
    "        print (\"Something is wrong, the notebook will not be submitted for grading\")\n",
    "        return None\n",
    "\n",
    "    elif getAnswer() and getComplexity() and getAdditional() and getConcepts() and getComments() and getMentorSupport():\n",
    "      f = open(notebook + \".ipynb\", \"rb\")\n",
    "      file_hash = base64.b64encode(f.read())\n",
    "\n",
    "      data = {\"complexity\" : Complexity, \"additional\" :Additional,\n",
    "              \"concepts\" : Concepts, \"record_id\" : submission_id,\n",
    "              \"answer\" : Answer, \"id\" : Id, \"file_hash\" : file_hash,\n",
    "              \"notebook\" : notebook,\n",
    "              \"feedback_experiments_input\" : Comments,\n",
    "              \"feedback_mentor_support\": Mentor_support}\n",
    "      r = requests.post(url, data = data)\n",
    "      r = json.loads(r.text)\n",
    "      if \"err\" in r:\n",
    "        print(r[\"err\"])\n",
    "        return None\n",
    "      else:\n",
    "        print(\"Your submission is successful.\")\n",
    "        print(\"Ref Id:\", submission_id)\n",
    "        print(\"Date of submission: \", r[\"date\"])\n",
    "        print(\"Time of submission: \", r[\"time\"])\n",
    "        print(\"View your submissions: https://learn-iisc.talentsprint.com/notebook_submissions\")\n",
    "        #print(\"For any queries/discrepancies, please connect with mentors through the chat icon in LMS dashboard.\")\n",
    "        return submission_id\n",
    "    else: submission_id\n",
    "\n",
    "\n",
    "def getAdditional():\n",
    "  try:\n",
    "    if not Additional:\n",
    "      raise NameError\n",
    "    else:\n",
    "      return Additional\n",
    "  except NameError:\n",
    "    print (\"Please answer Additional Question\")\n",
    "    return None\n",
    "\n",
    "def getComplexity():\n",
    "  try:\n",
    "    if not Complexity:\n",
    "      raise NameError\n",
    "    else:\n",
    "      return Complexity\n",
    "  except NameError:\n",
    "    print (\"Please answer Complexity Question\")\n",
    "    return None\n",
    "\n",
    "def getConcepts():\n",
    "  try:\n",
    "    if not Concepts:\n",
    "      raise NameError\n",
    "    else:\n",
    "      return Concepts\n",
    "  except NameError:\n",
    "    print (\"Please answer Concepts Question\")\n",
    "    return None\n",
    "\n",
    "\n",
    "# def getWalkthrough():\n",
    "#   try:\n",
    "#     if not Walkthrough:\n",
    "#       raise NameError\n",
    "#     else:\n",
    "#       return Walkthrough\n",
    "#   except NameError:\n",
    "#     print (\"Please answer Walkthrough Question\")\n",
    "#     return None\n",
    "\n",
    "def getComments():\n",
    "  try:\n",
    "    if not Comments:\n",
    "      raise NameError\n",
    "    else:\n",
    "      return Comments\n",
    "  except NameError:\n",
    "    print (\"Please answer Comments Question\")\n",
    "    return None\n",
    "\n",
    "\n",
    "def getMentorSupport():\n",
    "  try:\n",
    "    if not Mentor_support:\n",
    "      raise NameError\n",
    "    else:\n",
    "      return Mentor_support\n",
    "  except NameError:\n",
    "    print (\"Please answer Mentor support Question\")\n",
    "    return None\n",
    "\n",
    "def getAnswer():\n",
    "  try:\n",
    "    if not Answer:\n",
    "      raise NameError\n",
    "    else:\n",
    "      return Answer\n",
    "  except NameError:\n",
    "    print (\"Please answer Question\")\n",
    "    return None\n",
    "\n",
    "\n",
    "def getId():\n",
    "  try:\n",
    "    return Id if Id else None\n",
    "  except NameError:\n",
    "    return None\n",
    "\n",
    "def getPassword():\n",
    "  try:\n",
    "    return password if password else None\n",
    "  except NameError:\n",
    "    return None\n",
    "\n",
    "submission_id = None\n",
    "### Setup\n",
    "if getPassword() and getId():\n",
    "  submission_id = submit_notebook()\n",
    "  if submission_id:\n",
    "    setup()\n",
    "else:\n",
    "  print (\"Please complete Id and Password cells before running setup\")\n",
    "\n"
   ]
  },
  {
   "cell_type": "markdown",
   "id": "-ariaNkNg4lt",
   "metadata": {
    "id": "-ariaNkNg4lt"
   },
   "source": [
    "**Note:** We will be using the MPI for Python package mpi4py, Refer the [link](https://mpi4py.readthedocs.io/)"
   ]
  },
  {
   "cell_type": "code",
   "execution_count": 4,
   "id": "delayed-newsletter",
   "metadata": {
    "colab": {
     "base_uri": "https://localhost:8080/"
    },
    "executionInfo": {
     "elapsed": 247238,
     "status": "ok",
     "timestamp": 1746263836846,
     "user": {
      "displayName": "Harish Achappa",
      "userId": "05335455338103194332"
     },
     "user_tz": -330
    },
    "id": "delayed-newsletter",
    "outputId": "e6c25ed6-63e9-49f8-f769-d7c965c1c03b"
   },
   "outputs": [
    {
     "name": "stdout",
     "output_type": "stream",
     "text": [
      "\u001b[?25l     \u001b[90m━━━━━━━━━━━━━━━━━━━━━━━━━━━━━━━━━━━━━━━━\u001b[0m \u001b[32m0.0/466.3 kB\u001b[0m \u001b[31m?\u001b[0m eta \u001b[36m-:--:--\u001b[0m\r\u001b[2K     \u001b[91m━━━━━━━━━━━\u001b[0m\u001b[90m╺\u001b[0m\u001b[90m━━━━━━━━━━━━━━━━━━━━━━━━━━━\u001b[0m \u001b[32m133.1/466.3 kB\u001b[0m \u001b[31m3.7 MB/s\u001b[0m eta \u001b[36m0:00:01\u001b[0m\r\u001b[2K     \u001b[90m━━━━━━━━━━━━━━━━━━━━━━━━━━━━━━━━━━━━━━━\u001b[0m \u001b[32m466.3/466.3 kB\u001b[0m \u001b[31m7.0 MB/s\u001b[0m eta \u001b[36m0:00:00\u001b[0m\n",
      "\u001b[?25h  Installing build dependencies ... \u001b[?25l\u001b[?25hdone\n",
      "  Getting requirements to build wheel ... \u001b[?25l\u001b[?25hdone\n",
      "  Installing backend dependencies ... \u001b[?25l\u001b[?25hdone\n",
      "  Preparing metadata (pyproject.toml) ... \u001b[?25l\u001b[?25hdone\n",
      "  Building wheel for mpi4py (pyproject.toml) ... \u001b[?25l\u001b[?25hdone\n"
     ]
    }
   ],
   "source": [
    "# Install the mpi4py package\n",
    "!pip -qq install mpi4py"
   ]
  },
  {
   "cell_type": "markdown",
   "id": "certain-malta",
   "metadata": {
    "id": "certain-malta"
   },
   "source": [
    "### Blocking Communication\n",
    "\n",
    "In Blocking communication the process sending a message will be waiting until the process receiving has finished receiving all the information.\n",
    "\n",
    "To know more about Blocking Communication click [here](https://stackoverflow.com/questions/10017301/mpi-blocking-vs-non-blocking#:~:text=BLOCKING%20COMMUNICATION%20%3A%20Blocking%20doesn't,buffer%20is%20available%20for%20reuse.)"
   ]
  },
  {
   "cell_type": "markdown",
   "id": "V-GjCG5m58pg",
   "metadata": {
    "id": "V-GjCG5m58pg"
   },
   "source": [
    "#### Creating a Communicator and Getting rank of each process\n",
    "\n",
    "- A Communicator is a collection of MPI processes that can send and receive messages to and from each other.\n",
    "- A size is a number of processes in a communicator\n",
    "- A Rank is a unique identifier for each process in the communicator\n",
    "\n",
    "To know more about Communicator, size and rank click [here](https://www.codingame.com/playgrounds/349/introduction-to-mpi/mpi_comm_world-size-and-ranks)"
   ]
  },
  {
   "cell_type": "markdown",
   "id": "lesser-charge",
   "metadata": {
    "id": "lesser-charge"
   },
   "source": [
    "We will be using magic command **%%writefile** to write the contents of the cell to a file.\n",
    "\n",
    "To know more about magic commands click [here](https://ipython.readthedocs.io/en/stable/interactive/magics.html#)"
   ]
  },
  {
   "cell_type": "code",
   "execution_count": 9,
   "id": "jGNaPWiFghB8",
   "metadata": {
    "colab": {
     "base_uri": "https://localhost:8080/",
     "height": 35
    },
    "executionInfo": {
     "elapsed": 54,
     "status": "ok",
     "timestamp": 1746265600016,
     "user": {
      "displayName": "Harish Achappa",
      "userId": "05335455338103194332"
     },
     "user_tz": -330
    },
    "id": "jGNaPWiFghB8",
    "outputId": "b70ae3ee-db3e-4e1b-fc91-137e600c96ec"
   },
   "outputs": [
    {
     "data": {
      "application/vnd.google.colaboratory.intrinsic+json": {
       "type": "string"
      },
      "text/plain": [
       "'/content'"
      ]
     },
     "execution_count": 9,
     "metadata": {},
     "output_type": "execute_result"
    }
   ],
   "source": [
    "import os\n",
    "os.getcwd()"
   ]
  },
  {
   "cell_type": "code",
   "execution_count": 2,
   "id": "b82a9308",
   "metadata": {},
   "outputs": [],
   "source": [
    "from mpi4py import MPI"
   ]
  },
  {
   "cell_type": "code",
   "execution_count": 3,
   "id": "compliant-garbage",
   "metadata": {
    "colab": {
     "base_uri": "https://localhost:8080/"
    },
    "executionInfo": {
     "elapsed": 17,
     "status": "ok",
     "timestamp": 1746265630134,
     "user": {
      "displayName": "Harish Achappa",
      "userId": "05335455338103194332"
     },
     "user_tz": -330
    },
    "id": "compliant-garbage",
    "outputId": "aea409f4-a5d6-45e8-cb43-d57af390491c"
   },
   "outputs": [
    {
     "name": "stdout",
     "output_type": "stream",
     "text": [
      "Writing rank.py\n"
     ]
    }
   ],
   "source": [
    "%%writefile rank.py\n",
    "from mpi4py import MPI # Importing mpi4py package from MPI module\n",
    "# Define a function\n",
    "def main():\n",
    "    # creating the communicator\n",
    "    comm = MPI.COMM_WORLD\n",
    "    # number of the process running the code i.e rank\n",
    "    rank = comm.Get_rank()\n",
    "    # total number of processes running i.e size\n",
    "    size = comm.Get_size()\n",
    "    # Displaying the rank and size of a communicator\n",
    "    print(\"rank is {} and size is {}\".format(rank,size))\n",
    "\n",
    "# invoke the function\n",
    "main()"
   ]
  },
  {
   "cell_type": "markdown",
   "id": "reverse-mexican",
   "metadata": {
    "id": "reverse-mexican"
   },
   "source": [
    "To run an MPI code, we commonly use a \"wrapper\" called **mpirun**. Now let us see how we can use the **mpirun** program to execute the above python code using 4 processes. The value after -np is the number of processes to use when running the file of python code saved when executing the previous code cell.\n",
    "\n",
    "To know more about the mpirun click [here](https://docs.oracle.com/cd/E19356-01/820-3176-10/ExecutingPrograms.html#50413574_62903)"
   ]
  },
  {
   "cell_type": "code",
   "execution_count": 14,
   "id": "distinct-tiffany",
   "metadata": {
    "colab": {
     "base_uri": "https://localhost:8080/"
    },
    "executionInfo": {
     "elapsed": 1112,
     "status": "ok",
     "timestamp": 1746265636004,
     "user": {
      "displayName": "Harish Achappa",
      "userId": "05335455338103194332"
     },
     "user_tz": -330
    },
    "id": "distinct-tiffany",
    "outputId": "fac6a689-b0ac-46cb-bea4-2a0b3ccc43ab"
   },
   "outputs": [
    {
     "name": "stdout",
     "output_type": "stream",
     "text": [
      "rank is 1 and size is 4\n",
      "rank is 2 and size is 4\n",
      "rank is 3 and size is 4\n",
      "rank is 0 and size is 4\n"
     ]
    }
   ],
   "source": [
    "!mpirun --allow-run-as-root --oversubscribe -np 4 python rank.py"
   ]
  },
  {
   "cell_type": "markdown",
   "id": "5QWh95iCa1Jm",
   "metadata": {
    "id": "5QWh95iCa1Jm"
   },
   "source": [
    "We can execute the above code using wrapper `mpiexec` instead of wrapper mpirun or as a alternative to it.\n",
    "\n",
    "Hint: [mpiexec](https://www.mpich.org/static/docs/v3.1/www1/mpiexec.html)"
   ]
  },
  {
   "cell_type": "markdown",
   "id": "wound-impossible",
   "metadata": {
    "id": "wound-impossible"
   },
   "source": [
    "#### Exercise\n",
    "\n",
    "- Run the above code, using different number of processes."
   ]
  },
  {
   "cell_type": "markdown",
   "id": "literary-bumper",
   "metadata": {
    "id": "literary-bumper"
   },
   "source": [
    "#### Point-to-point communication\n",
    "\n",
    "The elementary communication operation in MPI is \"point-to-point\" communication, that is, direct communication between two processors, one of which sends and the other receives.\n",
    "\n",
    "![Image](https://cdn.iisc.talentsprint.com/CDS/Images/pointopoint.png)\n",
    "\n",
    "To know more about point-to-point communication click [here](https://www.sciencedirect.com/topics/computer-science/point-to-point-communication)"
   ]
  },
  {
   "cell_type": "markdown",
   "id": "YF1uOchu5yfZ",
   "metadata": {
    "id": "YF1uOchu5yfZ"
   },
   "source": [
    "**Passing an Integer**"
   ]
  },
  {
   "cell_type": "code",
   "execution_count": 1,
   "id": "29c43f37",
   "metadata": {},
   "outputs": [
    {
     "ename": "ModuleNotFoundError",
     "evalue": "No module named 'mpi4py'",
     "output_type": "error",
     "traceback": [
      "\u001b[31m---------------------------------------------------------------------------\u001b[39m",
      "\u001b[31mModuleNotFoundError\u001b[39m                       Traceback (most recent call last)",
      "\u001b[36mCell\u001b[39m\u001b[36m \u001b[39m\u001b[32mIn[1]\u001b[39m\u001b[32m, line 1\u001b[39m\n\u001b[32m----> \u001b[39m\u001b[32m1\u001b[39m \u001b[38;5;28;01mfrom\u001b[39;00m\u001b[38;5;250m \u001b[39m\u001b[34;01mmpi4py\u001b[39;00m\u001b[38;5;250m \u001b[39m\u001b[38;5;28;01mimport\u001b[39;00m MPI\n",
      "\u001b[31mModuleNotFoundError\u001b[39m: No module named 'mpi4py'"
     ]
    }
   ],
   "source": [
    "from mpi4py import MPI"
   ]
  },
  {
   "cell_type": "code",
   "execution_count": 15,
   "id": "powered-qualification",
   "metadata": {
    "colab": {
     "base_uri": "https://localhost:8080/"
    },
    "executionInfo": {
     "elapsed": 7,
     "status": "ok",
     "timestamp": 1746265667227,
     "user": {
      "displayName": "Harish Achappa",
      "userId": "05335455338103194332"
     },
     "user_tz": -330
    },
    "id": "powered-qualification",
    "outputId": "3a9b6cb3-b352-4f9b-d711-e4ece5059883"
   },
   "outputs": [
    {
     "name": "stdout",
     "output_type": "stream",
     "text": [
      "Writing comm.py\n"
     ]
    }
   ],
   "source": [
    "%%writefile comm.py\n",
    "from mpi4py import MPI # Importing mpi4py package from MPI module\n",
    "# Defining a function\n",
    "def main():\n",
    "    # Creating a Communicator\n",
    "    comm = MPI.COMM_WORLD\n",
    "    #number of the process running the code\n",
    "    rank = comm.Get_rank()\n",
    "    # total number of processes running\n",
    "    size = comm.Get_size()\n",
    "    # master process\n",
    "    if rank == 0:\n",
    "        data = 123 # Defining a integer\n",
    "        # master process sends data to worker processes by\n",
    "        # going through the ranks of all worker processes\n",
    "        for i in range(1, size):\n",
    "            # Sending the data to each process\n",
    "            comm.send(data, dest=i, tag=i)\n",
    "            print('Process {} sent data:'.format(rank), data)\n",
    "    # worker processes\n",
    "    else:\n",
    "        # each worker process receives data from master process\n",
    "        data = comm.recv(source=0, tag=rank)\n",
    "        print('Process {} received data:'.format(rank), data)\n",
    "main()"
   ]
  },
  {
   "cell_type": "markdown",
   "id": "comparable-advertiser",
   "metadata": {
    "id": "comparable-advertiser"
   },
   "source": [
    "Now let us see how we can use the **mpirun** program to execute the above python code using 2 processes. The value after -np is the number of processes to use when running the file of python code saved when executing the previous code cell."
   ]
  },
  {
   "cell_type": "code",
   "execution_count": 16,
   "id": "amended-hampton",
   "metadata": {
    "colab": {
     "base_uri": "https://localhost:8080/"
    },
    "executionInfo": {
     "elapsed": 515,
     "status": "ok",
     "timestamp": 1746265672928,
     "user": {
      "displayName": "Harish Achappa",
      "userId": "05335455338103194332"
     },
     "user_tz": -330
    },
    "id": "amended-hampton",
    "outputId": "064fe7b3-6323-4274-9ae8-c3f4493eaee6"
   },
   "outputs": [
    {
     "name": "stdout",
     "output_type": "stream",
     "text": [
      "Process 0 sent data: 123\n",
      "Process 1 received data: 123\n"
     ]
    }
   ],
   "source": [
    "!mpirun --allow-run-as-root --oversubscribe -np 2 python comm.py"
   ]
  },
  {
   "cell_type": "markdown",
   "id": "considerable-particular",
   "metadata": {
    "id": "considerable-particular"
   },
   "source": [
    "#### Exercise\n",
    "\n",
    "- Run the above code, using different number of processes."
   ]
  },
  {
   "cell_type": "markdown",
   "id": "latest-growing",
   "metadata": {
    "id": "latest-growing"
   },
   "source": [
    "**Passing a Python Dictionary**"
   ]
  },
  {
   "cell_type": "code",
   "execution_count": 17,
   "id": "moderate-quantum",
   "metadata": {
    "colab": {
     "base_uri": "https://localhost:8080/"
    },
    "executionInfo": {
     "elapsed": 46,
     "status": "ok",
     "timestamp": 1746265695786,
     "user": {
      "displayName": "Harish Achappa",
      "userId": "05335455338103194332"
     },
     "user_tz": -330
    },
    "id": "moderate-quantum",
    "outputId": "4e276a30-b6da-438a-e506-bae0de00c7f0"
   },
   "outputs": [
    {
     "name": "stdout",
     "output_type": "stream",
     "text": [
      "Writing passing_dict.py\n"
     ]
    }
   ],
   "source": [
    "%%writefile passing_dict.py\n",
    "from mpi4py import MPI # Importing mpi4py package from MPI module\n",
    "# Defining a function\n",
    "def main():\n",
    "    # Creating a communicator\n",
    "    comm = MPI.COMM_WORLD\n",
    "    # number of the process running the code\n",
    "    rank = comm.Get_rank()\n",
    "    # total number of processes running\n",
    "    size = comm.Get_size()\n",
    "    # master process\n",
    "    if rank == 0:\n",
    "        # Generate a dictionary with arbitrary data in it\n",
    "        data = {'States' : [\"Hyderabad\", \"Goa\", \"Punjab\"]}\n",
    "        # master process sends data to worker processes by\n",
    "        # going through the ranks of all worker processes\n",
    "        for i in range(1, size):\n",
    "            # Sending data\n",
    "            comm.send(data, dest=i, tag=i)\n",
    "            # Displaying the results\n",
    "            print('Process {} sent data:'.format(rank), data)\n",
    "    # worker processes\n",
    "    else:\n",
    "        # each worker process receives data from master process\n",
    "        data = comm.recv(source=0, tag=rank)\n",
    "        # Displaying the results\n",
    "        print('Process {} received data:'.format(rank), data)\n",
    "# Calling the function\n",
    "main()"
   ]
  },
  {
   "cell_type": "markdown",
   "id": "shaped-inflation",
   "metadata": {
    "id": "shaped-inflation"
   },
   "source": [
    "Now let us see how we can use the **mpirun** program to execute the above python code using 3 processes. The value after -np is the number of processes to use when running the file of python code saved when executing the previous code cell."
   ]
  },
  {
   "cell_type": "code",
   "execution_count": 18,
   "id": "compact-linux",
   "metadata": {
    "colab": {
     "base_uri": "https://localhost:8080/"
    },
    "executionInfo": {
     "elapsed": 613,
     "status": "ok",
     "timestamp": 1746265703703,
     "user": {
      "displayName": "Harish Achappa",
      "userId": "05335455338103194332"
     },
     "user_tz": -330
    },
    "id": "compact-linux",
    "outputId": "2b6125c2-8f55-470d-c86c-c47ea6b962be"
   },
   "outputs": [
    {
     "name": "stdout",
     "output_type": "stream",
     "text": [
      "Process 0 sent data: {'States': ['Hyderabad', 'Goa', 'Punjab']}\n",
      "Process 0 sent data: {'States': ['Hyderabad', 'Goa', 'Punjab']}\n",
      "Process 2 received data: {'States': ['Hyderabad', 'Goa', 'Punjab']}\n",
      "Process 1 received data: {'States': ['Hyderabad', 'Goa', 'Punjab']}\n"
     ]
    }
   ],
   "source": [
    "!mpirun --allow-run-as-root --oversubscribe -np 3 python passing_dict.py"
   ]
  },
  {
   "cell_type": "markdown",
   "id": "chicken-moldova",
   "metadata": {
    "id": "chicken-moldova"
   },
   "source": [
    "#### Exercise\n",
    "\n",
    "- Run the above code, using different number of processes."
   ]
  },
  {
   "cell_type": "markdown",
   "id": "restricted-bouquet",
   "metadata": {
    "id": "restricted-bouquet"
   },
   "source": [
    "#### Research Question\n",
    "\n",
    "- Write a code to send and receive a Tuple, List, NumPy array, and User Input from one process to another process."
   ]
  },
  {
   "cell_type": "markdown",
   "id": "3YNkcmUz6J8p",
   "metadata": {
    "id": "3YNkcmUz6J8p"
   },
   "source": [
    "###  Non-blocking communication\n",
    "\n",
    "So far we have seen how to send and receive messages using blocking communication. In this case, the sender or receiver is not able to perform any other actions until the corresponding message has been sent or received.\n",
    "\n",
    "Blocking communication has a number of disadvantages. Potential computational time is simply wasted while waiting for the call to complete. An alternate approach is to allow the program to continue execution while the messages are being sent or received. This is known as **non-blocking communication.**\n",
    "\n",
    "To know more about Non-blocking communication click [here](https://www.mpi-forum.org/docs/mpi-1.1/mpi-11-html/node44.html#:~:text=A%20nonblocking%20send%20start%20call,out%20of%20the%20send%20buffer.)"
   ]
  },
  {
   "cell_type": "markdown",
   "id": "amateur-adobe",
   "metadata": {
    "id": "amateur-adobe"
   },
   "source": [
    "Now let us create a non-blocking version of the send and receive program. Note there is no need to wait after process 1 sends the message, nor after process 0 sends the reply. However it is necessary for process 1 to wait for the reply so that it knows the message has been fully received before trying to print it out. Similarly, process 0 must wait for the full message before trying to compute randNum * 2."
   ]
  },
  {
   "cell_type": "code",
   "execution_count": 19,
   "id": "boolean-success",
   "metadata": {
    "colab": {
     "base_uri": "https://localhost:8080/"
    },
    "executionInfo": {
     "elapsed": 5,
     "status": "ok",
     "timestamp": 1746265739065,
     "user": {
      "displayName": "Harish Achappa",
      "userId": "05335455338103194332"
     },
     "user_tz": -330
    },
    "id": "boolean-success",
    "outputId": "9d7387da-13f7-463e-f3f6-e288f13a0e2f"
   },
   "outputs": [
    {
     "name": "stdout",
     "output_type": "stream",
     "text": [
      "Writing nonblockingarray.py\n"
     ]
    }
   ],
   "source": [
    "%%writefile nonblockingarray.py\n",
    "from mpi4py import MPI # Importing mpi4py package from MPI module\n",
    "import numpy as np # Importing Numpy Package undername np\n",
    "# Defining a function\n",
    "def main():\n",
    "    # Creating a communicator\n",
    "    comm = MPI.COMM_WORLD\n",
    "    # number of the process running the code\n",
    "    rank = comm.Get_rank()\n",
    "    # Generating a random number\n",
    "    randNum = np.zeros(1)\n",
    "    # Generating a random float value in the open interval\n",
    "    diffNum = np.random.random_sample(1)\n",
    "    if rank == 1:\n",
    "        # Generating a random float value in the open interval\n",
    "        randNum = np.random.random_sample(1)\n",
    "        # Display the results\n",
    "        print(\"Process\", rank, \"drew the number\", randNum[0])\n",
    "        # Sending the random number to the processes\n",
    "        comm.Isend(randNum, dest=0)\n",
    "        # Receiving the Passed random number from the process\n",
    "        req = comm.Irecv(randNum, source=0)\n",
    "        # Waiting for the reply\n",
    "        req.Wait()\n",
    "        # Displaying the received random number\n",
    "        print(\"Process\", rank, \"received the number\", randNum[0])\n",
    "    if rank == 0:\n",
    "        # Displaying the results before receiving the number\n",
    "        print(\"Process\", rank, \"before receiving has the number\", randNum[0])\n",
    "        # Receiving the randomNumber\n",
    "        req = comm.Irecv(randNum, source=1)\n",
    "        # Waiting for the reply\n",
    "        req.Wait()\n",
    "        # Displaying the results\n",
    "        print(\"Process\", rank, \"received the number\", randNum[0])\n",
    "        randNum *= 2\n",
    "        # Sending the random Number\n",
    "        comm.Isend(randNum, dest=1)\n",
    "# Calling the function\n",
    "main()"
   ]
  },
  {
   "cell_type": "markdown",
   "id": "legendary-consolidation",
   "metadata": {
    "id": "legendary-consolidation"
   },
   "source": [
    "Now let us see how we can use the **mpirun** program to execute the above python code using 4 processes. The value after -np is the number of processes to use when running the file of python code saved when executing the previous code cell."
   ]
  },
  {
   "cell_type": "code",
   "execution_count": 20,
   "id": "altered-chase",
   "metadata": {
    "colab": {
     "base_uri": "https://localhost:8080/"
    },
    "executionInfo": {
     "elapsed": 1216,
     "status": "ok",
     "timestamp": 1746265744504,
     "user": {
      "displayName": "Harish Achappa",
      "userId": "05335455338103194332"
     },
     "user_tz": -330
    },
    "id": "altered-chase",
    "outputId": "5b6e96ff-cc78-4708-cf01-212acb5377ab"
   },
   "outputs": [
    {
     "name": "stdout",
     "output_type": "stream",
     "text": [
      "Process 1 drew the number 0.557272667426449\n",
      "Process 0 before receiving has the number 0.0\n",
      "Process 0 received the number 0.557272667426449\n",
      "Process 1 received the number 1.114545334852898\n"
     ]
    }
   ],
   "source": [
    "!mpirun --allow-run-as-root --oversubscribe -np 4 python nonblockingarray.py"
   ]
  },
  {
   "cell_type": "markdown",
   "id": "alone-necklace",
   "metadata": {
    "id": "alone-necklace"
   },
   "source": [
    "#### Exercise\n",
    "\n",
    "- Run the above code, using different number of processes."
   ]
  },
  {
   "cell_type": "markdown",
   "id": "Tn7p6QvZ64EZ",
   "metadata": {
    "id": "Tn7p6QvZ64EZ"
   },
   "source": [
    "**Overlapping communication and computation**\n",
    "\n",
    "Now let us modify the above code so that process 1 overlaps a computation with sending the message and receiving the reply. The computation is to divide diffNum by 3.14 and print the result."
   ]
  },
  {
   "cell_type": "code",
   "execution_count": 21,
   "id": "conditional-silence",
   "metadata": {
    "colab": {
     "base_uri": "https://localhost:8080/"
    },
    "executionInfo": {
     "elapsed": 43,
     "status": "ok",
     "timestamp": 1746265769719,
     "user": {
      "displayName": "Harish Achappa",
      "userId": "05335455338103194332"
     },
     "user_tz": -330
    },
    "id": "conditional-silence",
    "outputId": "9f5f2f40-0d2e-4c78-8669-121f48aacf34"
   },
   "outputs": [
    {
     "name": "stdout",
     "output_type": "stream",
     "text": [
      "Writing overlappingCommunication.py\n"
     ]
    }
   ],
   "source": [
    "%%writefile overlappingCommunication.py\n",
    "from mpi4py import MPI # Importing mpi4py package from MPI module\n",
    "import numpy as np # Importing Numpy Package undername np\n",
    "# Defining a function\n",
    "def main():\n",
    "    # Creating a communicator\n",
    "    comm = MPI.COMM_WORLD\n",
    "    # number of the process running the code\n",
    "    rank = comm.Get_rank()\n",
    "    # Generating a random number\n",
    "    randNum = np.zeros(1)\n",
    "    # Generating a random float value in the open interval\n",
    "    diffNum = np.random.random_sample(1)\n",
    "    if rank == 1:\n",
    "        # Generating a random float value in the open interval\n",
    "        randNum = np.random.random_sample(1)\n",
    "        # Display the results\n",
    "        print(\"Process\", rank, \"drew the number\", randNum[0])\n",
    "        # Sending the random number to the processes\n",
    "        comm.Isend(randNum, dest=0)\n",
    "        diffNum /= 3.14 # overlap communication\n",
    "        # Displaying the result\n",
    "        print(\"diffNum=\", diffNum[0])\n",
    "        # Receiving the Passed random number from the process\n",
    "        req = comm.Irecv(randNum, source=0)\n",
    "        # Waiting for the reply\n",
    "        req.Wait()\n",
    "        # Displaying the received random number\n",
    "        print(\"Process\", rank, \"received the number\", randNum[0])\n",
    "    if rank == 0:\n",
    "        # Displaying the results before receiving the number\n",
    "        print(\"Process\", rank, \"before receiving has the number\", randNum[0])\n",
    "        # Receiving the randomNumber\n",
    "        req = comm.Irecv(randNum, source=1)\n",
    "        # Waiting for the reply\n",
    "        req.Wait()\n",
    "        # Displaying the results\n",
    "        print(\"Process\", rank, \"received the number\", randNum[0])\n",
    "        randNum *= 2\n",
    "        # Sending the random Number\n",
    "        comm.Isend(randNum, dest=1)\n",
    "# Calling the function\n",
    "main()"
   ]
  },
  {
   "cell_type": "markdown",
   "id": "breeding-navigator",
   "metadata": {
    "id": "breeding-navigator"
   },
   "source": [
    "Now let us see how we can use the **mpirun** program to execute the above python code using 2 processes. The value after -np is the number of processes to use when running the file of python code saved when executing the previous code cell."
   ]
  },
  {
   "cell_type": "code",
   "execution_count": 22,
   "id": "lyric-companion",
   "metadata": {
    "colab": {
     "base_uri": "https://localhost:8080/"
    },
    "executionInfo": {
     "elapsed": 809,
     "status": "ok",
     "timestamp": 1746265781658,
     "user": {
      "displayName": "Harish Achappa",
      "userId": "05335455338103194332"
     },
     "user_tz": -330
    },
    "id": "lyric-companion",
    "outputId": "f38a5c3f-2bfe-40fc-e486-0077e15e1091"
   },
   "outputs": [
    {
     "name": "stdout",
     "output_type": "stream",
     "text": [
      "Process 1 drew the number 0.414254485450827\n",
      "diffNum= 0.2977514580308489\n",
      "Process 0 before receiving has the number 0.0\n",
      "Process 0 received the number 0.414254485450827\n",
      "Process 1 received the number 0.828508970901654\n"
     ]
    }
   ],
   "source": [
    "!mpirun --allow-run-as-root --oversubscribe -np 2 python overlappingCommunication.py"
   ]
  },
  {
   "cell_type": "markdown",
   "id": "respected-album",
   "metadata": {
    "id": "respected-album"
   },
   "source": [
    "#### Exercise\n",
    "\n",
    "- Run the above code, using different number of processes."
   ]
  },
  {
   "cell_type": "markdown",
   "id": "elementary-debut",
   "metadata": {
    "id": "elementary-debut"
   },
   "source": [
    "### Collective Communication\n",
    "\n",
    "In addition to point-to-point communications between individual pairs of processors, MPI includes routines for performing collective communications. These routines allow larger groups of processors to communicate in various ways.\n",
    "\n",
    "Examples of collective communications include broadcast operations, gather and scatter operations, and reduction operations. Now let us try to understand them one by one.\n",
    "\n",
    "To know more about collective communication click [here](https://www.mpi-forum.org/docs/mpi-1.1/mpi-11-html/node64.html#:~:text=Collective%20communication%20is%20defined%20as,members%20of%20a%20group%20(Sec.)"
   ]
  },
  {
   "cell_type": "markdown",
   "id": "spread-radio",
   "metadata": {
    "id": "spread-radio"
   },
   "source": [
    "#### 1. Broadcast\n",
    "\n",
    "The simplest kind of collective operation is the broadcast. In a broadcast operation a single process sends a copy of some data to all the other processes in a group.\n",
    "\n",
    "The communication pattern of a broadcast looks like this:\n",
    "\n",
    "![Image](https://cdn.iisc.talentsprint.com/CDS/Images/broadcast.png)\n",
    "\n",
    "In the above figure, process zero is the root process, and it has the initial copy of data. All of the other processes receive the copy of data."
   ]
  },
  {
   "cell_type": "markdown",
   "id": "alive-migration",
   "metadata": {
    "id": "alive-migration"
   },
   "source": [
    "**Broadcasting a Python Dictionary**"
   ]
  },
  {
   "cell_type": "code",
   "execution_count": null,
   "id": "73355e7f",
   "metadata": {},
   "outputs": [],
   "source": []
  },
  {
   "cell_type": "code",
   "execution_count": 24,
   "id": "aging-medium",
   "metadata": {
    "colab": {
     "base_uri": "https://localhost:8080/"
    },
    "executionInfo": {
     "elapsed": 717,
     "status": "ok",
     "timestamp": 1746265934669,
     "user": {
      "displayName": "Harish Achappa",
      "userId": "05335455338103194332"
     },
     "user_tz": -330
    },
    "id": "aging-medium",
    "outputId": "5b393f84-3cea-46ed-982e-2002ea412c62"
   },
   "outputs": [
    {
     "name": "stdout",
     "output_type": "stream",
     "text": [
      "Rank:  0 , data:  {'States': ['Hyderabad', 'Goa', 'Punjab']}\n",
      "Rank:  2 , data:  {'States': ['Hyderabad', 'Goa', 'Punjab']}\n",
      "Rank:  1 , data:  {'States': ['Hyderabad', 'Goa', 'Punjab']}\n",
      "Rank:  3 , data:  {'States': ['Hyderabad', 'Goa', 'Punjab']}\n"
     ]
    }
   ],
   "source": [
    "! mpirun --allow-run-as-root --oversubscribe -np 4 python BroadcastingDictionary.py"
   ]
  },
  {
   "cell_type": "markdown",
   "id": "exact-portsmouth",
   "metadata": {
    "id": "exact-portsmouth"
   },
   "source": [
    "#### Exercise\n",
    "\n",
    "- Run the above code, using different number of processes."
   ]
  },
  {
   "cell_type": "markdown",
   "id": "measured-netherlands",
   "metadata": {
    "id": "measured-netherlands"
   },
   "source": [
    "**Broadcasting a NumPy array**"
   ]
  },
  {
   "cell_type": "code",
   "execution_count": 25,
   "id": "arranged-courtesy",
   "metadata": {
    "colab": {
     "base_uri": "https://localhost:8080/"
    },
    "executionInfo": {
     "elapsed": 9,
     "status": "ok",
     "timestamp": 1746265944577,
     "user": {
      "displayName": "Harish Achappa",
      "userId": "05335455338103194332"
     },
     "user_tz": -330
    },
    "id": "arranged-courtesy",
    "outputId": "6aa8d279-0dd6-40a2-b812-bf305400a546"
   },
   "outputs": [
    {
     "name": "stdout",
     "output_type": "stream",
     "text": [
      "Writing BroadcastingNumpy.py\n"
     ]
    }
   ],
   "source": [
    "%%writefile BroadcastingNumpy.py\n",
    "from mpi4py import MPI # Importing mpi4py package from MPI module\n",
    "import numpy as np # Importing numpy package under a name np\n",
    "# Defining a function\n",
    "def main():\n",
    "    # communicator\n",
    "    comm = MPI.COMM_WORLD\n",
    "    rank = comm.Get_rank()   # number of the process running the code\n",
    "    size = comm.Get_size()   # total number of processes running\n",
    "    if rank == 0:\n",
    "        # Generate a Numpy arary with arbitrary data in it\n",
    "        data = np.ones(4)\n",
    "    else:\n",
    "        # start with empty data\n",
    "        data = None\n",
    "    # Broadcasting the data\n",
    "    data = comm.bcast(data, root=0)\n",
    "    # Printing the results\n",
    "    if rank == 0:\n",
    "        print('Process {} broadcast data:'.format(rank), data)\n",
    "    else:\n",
    "        print('Process {} received data:'.format(rank), data)\n",
    "# Calling the main function\n",
    "main()"
   ]
  },
  {
   "cell_type": "markdown",
   "id": "remarkable-telephone",
   "metadata": {
    "id": "remarkable-telephone"
   },
   "source": [
    "Now let us see how we can use the **mpirun** program to execute the above python code using 3 processes. The value after -np is the number of processes to use when running the file of python code saved when executing the previous code cell."
   ]
  },
  {
   "cell_type": "code",
   "execution_count": 26,
   "id": "friendly-concern",
   "metadata": {
    "colab": {
     "base_uri": "https://localhost:8080/"
    },
    "executionInfo": {
     "elapsed": 1106,
     "status": "ok",
     "timestamp": 1746265956502,
     "user": {
      "displayName": "Harish Achappa",
      "userId": "05335455338103194332"
     },
     "user_tz": -330
    },
    "id": "friendly-concern",
    "outputId": "cf346706-5072-46fa-997b-177bc36b8f24"
   },
   "outputs": [
    {
     "name": "stdout",
     "output_type": "stream",
     "text": [
      "Process 0 broadcast data: [1. 1. 1. 1.]\n",
      "Process 2 received data: [1. 1. 1. 1.]\n",
      "Process 1 received data: [1. 1. 1. 1.]\n",
      "Process 3 received data: [1. 1. 1. 1.]\n"
     ]
    }
   ],
   "source": [
    "! mpirun --allow-run-as-root --oversubscribe -np 4 python BroadcastingNumpy.py"
   ]
  },
  {
   "cell_type": "markdown",
   "id": "advanced-marketplace",
   "metadata": {
    "id": "advanced-marketplace"
   },
   "source": [
    "#### Research Question\n",
    "\n",
    "- Write a code to Broadcast a Integer, List, and User Input"
   ]
  },
  {
   "cell_type": "markdown",
   "id": "large-wallet",
   "metadata": {
    "id": "large-wallet"
   },
   "source": [
    "#### 2. Gather and Scatter Operations\n",
    "\n",
    "**Scatter Operation**\n",
    "\n",
    "Scatter takes an array and distributes contiguous sections of it across the ranks of a communicator. The communication pattern of a Scatter looks like this:\n",
    "\n",
    "![Image](https://cdn.iisc.talentsprint.com/CDS/Images/Scatter.png)\n",
    "\n",
    "Broadcast takes a single data element at the root process (the red box) and copies it to all other processes. However the scatter takes an array of elements and distributes the elements in the order of process rank. The first element (in red) goes to process zero, the second element (in green) goes to process one, and so on. Although the root process (process zero) contains the entire array of data, the scatter operation will copy the appropriate element into the receiving buffer of the process.\n",
    "\n",
    "**Gather Operation**\n",
    "\n",
    "The reverse of a scatter is a gather, which takes subsets of an array that are distributed across the ranks, and gathers them back into the full array. The communication pattern of a gather looks like this:\n",
    "\n",
    "![Image](https://cdn.iisc.talentsprint.com/CDS/Images/gather.png)\n",
    "\n",
    "Similar to scatter, gather takes elements from each process and gathers them to the root process. The elements are ordered by the rank of the process from which they were received.\n",
    "\n",
    "To know more about Gather and Scatter Operation click [here](https://www.codingame.com/playgrounds/349/introduction-to-mpi/scattering-and-gathering)"
   ]
  },
  {
   "cell_type": "markdown",
   "id": "turkish-investment",
   "metadata": {
    "id": "turkish-investment"
   },
   "source": [
    "**Scatter Operation on a NumPy Array**"
   ]
  },
  {
   "cell_type": "code",
   "execution_count": 27,
   "id": "organic-government",
   "metadata": {
    "colab": {
     "base_uri": "https://localhost:8080/"
    },
    "executionInfo": {
     "elapsed": 44,
     "status": "ok",
     "timestamp": 1746266002775,
     "user": {
      "displayName": "Harish Achappa",
      "userId": "05335455338103194332"
     },
     "user_tz": -330
    },
    "id": "organic-government",
    "outputId": "5708bd31-f309-4069-c035-b5641194cc98"
   },
   "outputs": [
    {
     "name": "stdout",
     "output_type": "stream",
     "text": [
      "Writing ScatteringNumpyArray.py\n"
     ]
    }
   ],
   "source": [
    "%%writefile ScatteringNumpyArray.py\n",
    "from mpi4py import MPI # Importing mpi4py package from MPI module\n",
    "import numpy as np # Importing numpy package under a name np\n",
    "# Defining a function\n",
    "def main():\n",
    "    # communicator\n",
    "    comm = MPI.COMM_WORLD\n",
    "    rank = comm.Get_rank()   # number of the process running the code\n",
    "    size = comm.Get_size()   # total number of processes running\n",
    "    numDataPerRank = 10   # Number of elements in a array for each rank\n",
    "    data = None # Starting with an empty  data\n",
    "    if rank == 0:\n",
    "        # Creating a Numpy array.\n",
    "        data = np.linspace(1, size * numDataPerRank,numDataPerRank * size)\n",
    "    # when size = 2 (using -n 2), data = [1.0:20.0]\n",
    "    recvbuf = np.empty(numDataPerRank, dtype='d') # allocate space for recvbuf\n",
    "    # scatter operation\n",
    "    comm.Scatter(data, recvbuf, root=0)\n",
    "    # Displaying the result\n",
    "    print('Rank: ',rank, ', recvbuf received: ',recvbuf)\n",
    "# Calling the main function\n",
    "main()"
   ]
  },
  {
   "cell_type": "markdown",
   "id": "framed-mortality",
   "metadata": {
    "id": "framed-mortality"
   },
   "source": [
    "Now let us see how we can use the **mpirun** program to execute the above python code using 6 processes. The value after -np is the number of processes to use when running the file of python code saved when executing the previous code cell."
   ]
  },
  {
   "cell_type": "code",
   "execution_count": 28,
   "id": "clear-constitutional",
   "metadata": {
    "colab": {
     "base_uri": "https://localhost:8080/"
    },
    "executionInfo": {
     "elapsed": 1526,
     "status": "ok",
     "timestamp": 1746266027485,
     "user": {
      "displayName": "Harish Achappa",
      "userId": "05335455338103194332"
     },
     "user_tz": -330
    },
    "id": "clear-constitutional",
    "outputId": "59cdc01d-130e-450d-c17d-d5ced8e7452e"
   },
   "outputs": [
    {
     "name": "stdout",
     "output_type": "stream",
     "text": [
      "Rank:  0 , recvbuf received:  [ 1.  2.  3.  4.  5.  6.  7.  8.  9. 10.]\n",
      "Rank:  4 , recvbuf received:  [41. 42. 43. 44. 45. 46. 47. 48. 49. 50.]\n",
      "Rank:  1 , recvbuf received:  [11. 12. 13. 14. 15. 16. 17. 18. 19. 20.]\n",
      "Rank:  2 , recvbuf received:  [21. 22. 23. 24. 25. 26. 27. 28. 29. 30.]\n",
      "Rank:  5 , recvbuf received:  [51. 52. 53. 54. 55. 56. 57. 58. 59. 60.]\n",
      "Rank:  3 , recvbuf received:  [31. 32. 33. 34. 35. 36. 37. 38. 39. 40.]\n"
     ]
    }
   ],
   "source": [
    "! mpirun --allow-run-as-root --oversubscribe -np 6 python ScatteringNumpyArray.py"
   ]
  },
  {
   "cell_type": "markdown",
   "id": "afraid-coast",
   "metadata": {
    "id": "afraid-coast"
   },
   "source": [
    "#### Exercise\n",
    "\n",
    "- Run the above code, using different number of processes."
   ]
  },
  {
   "cell_type": "markdown",
   "id": "challenging-sequence",
   "metadata": {
    "id": "challenging-sequence"
   },
   "source": [
    "**Gather Operation on a NumPy Array**"
   ]
  },
  {
   "cell_type": "code",
   "execution_count": 29,
   "id": "atmospheric-engineering",
   "metadata": {
    "colab": {
     "base_uri": "https://localhost:8080/"
    },
    "executionInfo": {
     "elapsed": 18,
     "status": "ok",
     "timestamp": 1746266038179,
     "user": {
      "displayName": "Harish Achappa",
      "userId": "05335455338103194332"
     },
     "user_tz": -330
    },
    "id": "atmospheric-engineering",
    "outputId": "b8347e62-bda1-4dc1-c1ea-8a9ca5ee09f8"
   },
   "outputs": [
    {
     "name": "stdout",
     "output_type": "stream",
     "text": [
      "Writing GatherringNumPyArray.py\n"
     ]
    }
   ],
   "source": [
    "%%writefile GatherringNumPyArray.py\n",
    "from mpi4py import MPI # Importing mpi4py package from MPI module\n",
    "import numpy as np # Importing numpy package under a name np\n",
    "# Defining a function\n",
    "def main():\n",
    "    # communicator\n",
    "    comm = MPI.COMM_WORLD\n",
    "    rank = comm.Get_rank()   # number of the process running the code\n",
    "    size = comm.Get_size()   # total number of processes running\n",
    "    numDataPerRank = 10   # Number of elements in a array for each rank\n",
    "    # Creating a sender buffer array\n",
    "    sendbuf = np.linspace(rank * numDataPerRank + 1,(rank + 1) * numDataPerRank,numDataPerRank)\n",
    "    # Printing the result\n",
    "    print('Rank: ',rank, ', sendbuf: ',sendbuf)\n",
    "    recvbuf = None\n",
    "    if rank == 0:\n",
    "        # Creating a receiver buffer array\n",
    "        recvbuf = np.empty(numDataPerRank * size, dtype='d')\n",
    "    # Gathering the Information\n",
    "    comm.Gather(sendbuf, recvbuf, root = 0)\n",
    "    # Display the result\n",
    "    if rank == 0:\n",
    "        print('Rank: ',rank, ', recvbuf received: ',recvbuf)\n",
    "# Calling a function\n",
    "main()"
   ]
  },
  {
   "cell_type": "markdown",
   "id": "caring-security",
   "metadata": {
    "id": "caring-security"
   },
   "source": [
    "Now let us see how we can use the **mpirun** program to execute the above python code using 2 processes. The value after -np is the number of processes to use when running the file of python code saved when executing the previous code cell."
   ]
  },
  {
   "cell_type": "code",
   "execution_count": 30,
   "id": "located-express",
   "metadata": {
    "colab": {
     "base_uri": "https://localhost:8080/"
    },
    "executionInfo": {
     "elapsed": 707,
     "status": "ok",
     "timestamp": 1746266043288,
     "user": {
      "displayName": "Harish Achappa",
      "userId": "05335455338103194332"
     },
     "user_tz": -330
    },
    "id": "located-express",
    "outputId": "541fc434-ddcc-46e4-f9e3-e8be489f46bc"
   },
   "outputs": [
    {
     "name": "stdout",
     "output_type": "stream",
     "text": [
      "Rank:  0 , sendbuf:  [ 1.  2.  3.  4.  5.  6.  7.  8.  9. 10.]\n",
      "Rank:  1 , sendbuf:  [11. 12. 13. 14. 15. 16. 17. 18. 19. 20.]\n",
      "Rank:  0 , recvbuf received:  [ 1.  2.  3.  4.  5.  6.  7.  8.  9. 10. 11. 12. 13. 14. 15. 16. 17. 18.\n",
      " 19. 20.]\n"
     ]
    }
   ],
   "source": [
    "! mpirun --allow-run-as-root --oversubscribe -np 2 python GatherringNumPyArray.py"
   ]
  },
  {
   "cell_type": "markdown",
   "id": "aggressive-playing",
   "metadata": {
    "id": "aggressive-playing"
   },
   "source": [
    "#### Exercise\n",
    "\n",
    "- Run the above code, using different number of processes."
   ]
  },
  {
   "cell_type": "markdown",
   "id": "passing-tooth",
   "metadata": {
    "id": "passing-tooth"
   },
   "source": [
    "#### Research Question\n",
    "\n",
    "- Write a code to perform Gather and Scatter operation on a Python List"
   ]
  },
  {
   "cell_type": "markdown",
   "id": "metallic-thompson",
   "metadata": {
    "id": "metallic-thompson"
   },
   "source": [
    "#### 3. Reduction Operation\n",
    "\n",
    "Reduce is a classic concept from functional programming. Data reduction involves reducing a set of numbers into a smaller set of numbers via a function. For example, let’s say we have a list of numbers [1, 2, 3, 4, 5]. Reducing this list of numbers with the sum function would produce sum([1, 2, 3, 4, 5]) = 15. Similarly, the multiplication reduction would yield multiply([1, 2, 3, 4, 5]) = 120.\n",
    "\n",
    "The communication pattern of a reduction looks like this:\n",
    "\n",
    "![Image](https://cdn.iisc.talentsprint.com/CDS/Images/reduction.png)\n",
    "\n",
    "In the above image, each process contains one integer. The reduction operation is called with a root process of 0 and using MPI_SUM as the reduction operation. The four numbers are summed to the result and stored on the root process.\n",
    "\n",
    "It is also useful to see what happens when processes contain multiple elements. The illustration below shows reduction of multiple numbers per process.\n",
    "\n",
    "![Image](https://cdn.iisc.talentsprint.com/CDS/Images/reduction1.png)\n",
    "\n",
    "To know more about reduction operation click [here](https://www.codingame.com/playgrounds/349/introduction-to-mpi/reductions)"
   ]
  },
  {
   "cell_type": "markdown",
   "id": "unlikely-beach",
   "metadata": {
    "id": "unlikely-beach"
   },
   "source": [
    "**Reduction Operation on all values of Array using sum and max**"
   ]
  },
  {
   "cell_type": "code",
   "execution_count": 31,
   "id": "familiar-sally",
   "metadata": {
    "colab": {
     "base_uri": "https://localhost:8080/"
    },
    "executionInfo": {
     "elapsed": 39,
     "status": "ok",
     "timestamp": 1746266132838,
     "user": {
      "displayName": "Harish Achappa",
      "userId": "05335455338103194332"
     },
     "user_tz": -330
    },
    "id": "familiar-sally",
    "outputId": "7a4cd001-bf2e-4533-8925-b7897d58c92f"
   },
   "outputs": [
    {
     "name": "stdout",
     "output_type": "stream",
     "text": [
      "Writing ReducingNumpyArray.py\n"
     ]
    }
   ],
   "source": [
    "%%writefile ReducingNumpyArray.py\n",
    "from mpi4py import MPI # Importing mpi4py package from MPI module\n",
    "import numpy as np # Importing numpy package under a name np\n",
    "# Defining a function\n",
    "def main():\n",
    "    # communicator\n",
    "    comm = MPI.COMM_WORLD\n",
    "    rank = comm.Get_rank()   # number of the process running the code\n",
    "    size = comm.Get_size()   # total number of processes running\n",
    "    # Create numpy arrays on each process: For this experiment, the arrays have only one\n",
    "    # entry that is assigned to be the rank of the processor\n",
    "    value = np.array(rank,'d')\n",
    "    # Displaying the value and its rank\n",
    "    print(' Rank: ',rank, ' value = ', value)\n",
    "    # initialize the np arrays that will store the results:\n",
    "    value_sum      = np.array(0.0,'d')\n",
    "    value_max      = np.array(0.0,'d')\n",
    "    # perform the reductions:\n",
    "    comm.Reduce(value, value_sum, op=MPI.SUM, root=0)\n",
    "    comm.Reduce(value, value_max, op=MPI.MAX, root=0)\n",
    "    # Displaying the result\n",
    "    if rank == 0:\n",
    "        print(' Rank 0: value_sum =    ',value_sum)\n",
    "        print(' Rank 0: value_max =    ',value_max)\n",
    "# Calling a function\n",
    "main()"
   ]
  },
  {
   "cell_type": "markdown",
   "id": "liquid-reserve",
   "metadata": {
    "id": "liquid-reserve"
   },
   "source": [
    "Now let us see how we can use the **mpirun** program to execute the above python code using 5 processes. The value after -np is the number of processes to use when running the file of python code saved when executing the previous code cell."
   ]
  },
  {
   "cell_type": "code",
   "execution_count": 32,
   "id": "excess-senegal",
   "metadata": {
    "colab": {
     "base_uri": "https://localhost:8080/"
    },
    "executionInfo": {
     "elapsed": 708,
     "status": "ok",
     "timestamp": 1746266138732,
     "user": {
      "displayName": "Harish Achappa",
      "userId": "05335455338103194332"
     },
     "user_tz": -330
    },
    "id": "excess-senegal",
    "outputId": "e7ffea52-2b08-4a04-d2de-e63d12dbb77d"
   },
   "outputs": [
    {
     "name": "stdout",
     "output_type": "stream",
     "text": [
      " Rank:  0  value =  0.0\n",
      " Rank:  1  value =  1.0\n",
      " Rank 0: value_sum =     1.0\n",
      " Rank 0: value_max =     1.0\n"
     ]
    }
   ],
   "source": [
    "! mpirun --allow-run-as-root --oversubscribe -np 2 python ReducingNumpyArray.py"
   ]
  },
  {
   "cell_type": "markdown",
   "id": "useful-shape",
   "metadata": {
    "id": "useful-shape"
   },
   "source": [
    "#### Exercise\n",
    "\n",
    "- Run the above code, using different number of processes."
   ]
  },
  {
   "cell_type": "markdown",
   "id": "random-gross",
   "metadata": {
    "id": "random-gross"
   },
   "source": [
    "#### Research Question\n",
    "\n",
    "- Try replacing MPI.MAX with MPI.MIN(minimum) and/or replacing MPI.SUM with MPI.PROD (product). Then save and run the code again.\n",
    "- Write a code to perform reduction operation on values of a list"
   ]
  },
  {
   "cell_type": "markdown",
   "id": "VHfHdGCP_n6Y",
   "metadata": {
    "id": "VHfHdGCP_n6Y"
   },
   "source": [
    "### Please answer the questions below to complete the experiment:\n",
    "\n",
    "\n"
   ]
  },
  {
   "cell_type": "code",
   "execution_count": 33,
   "id": "VgSwVENIPcM6",
   "metadata": {
    "executionInfo": {
     "elapsed": 53,
     "status": "ok",
     "timestamp": 1746266244369,
     "user": {
      "displayName": "Harish Achappa",
      "userId": "05335455338103194332"
     },
     "user_tz": -330
    },
    "id": "VgSwVENIPcM6"
   },
   "outputs": [],
   "source": [
    "# @title Mark the following statement as TRUE or FALSE: Scatter sends the same piece of data to all processes while Broadcast sends sections of an array to different processes { run: \"auto\", form-width: \"500px\", display-mode: \"form\" }\n",
    "Answer = \"FALSE\" #@param [\"\",\"TRUE\",\"FALSE\"]"
   ]
  },
  {
   "cell_type": "code",
   "execution_count": 34,
   "id": "NMzKSbLIgFzQ",
   "metadata": {
    "executionInfo": {
     "elapsed": 3,
     "status": "ok",
     "timestamp": 1746266246100,
     "user": {
      "displayName": "Harish Achappa",
      "userId": "05335455338103194332"
     },
     "user_tz": -330
    },
    "id": "NMzKSbLIgFzQ"
   },
   "outputs": [],
   "source": [
    "#@title How was the experiment? { run: \"auto\", form-width: \"500px\", display-mode: \"form\" }\n",
    "Complexity = \"Was Tough, but I did it\" #@param [\"\",\"Too Simple, I am wasting time\", \"Good, But Not Challenging for me\", \"Good and Challenging for me\", \"Was Tough, but I did it\", \"Too Difficult for me\"]\n"
   ]
  },
  {
   "cell_type": "code",
   "execution_count": 35,
   "id": "DjcH1VWSFI2l",
   "metadata": {
    "executionInfo": {
     "elapsed": 4,
     "status": "ok",
     "timestamp": 1746266247795,
     "user": {
      "displayName": "Harish Achappa",
      "userId": "05335455338103194332"
     },
     "user_tz": -330
    },
    "id": "DjcH1VWSFI2l"
   },
   "outputs": [],
   "source": [
    "#@title If it was too easy, what more would you have liked to be added? If it was very difficult, what would you have liked to have been removed? { run: \"auto\", display-mode: \"form\" }\n",
    "Additional = \"Not easy - I need to practice the research questions and code them too. \" #@param {type:\"string\"}\n"
   ]
  },
  {
   "cell_type": "code",
   "execution_count": 36,
   "id": "4VBk_4VTAxCM",
   "metadata": {
    "executionInfo": {
     "elapsed": 7,
     "status": "ok",
     "timestamp": 1746266249250,
     "user": {
      "displayName": "Harish Achappa",
      "userId": "05335455338103194332"
     },
     "user_tz": -330
    },
    "id": "4VBk_4VTAxCM"
   },
   "outputs": [],
   "source": [
    "#@title Can you identify the concepts from the lecture which this experiment covered? { run: \"auto\", vertical-output: true, display-mode: \"form\" }\n",
    "Concepts = \"Yes\" #@param [\"\",\"Yes\", \"No\"]\n"
   ]
  },
  {
   "cell_type": "code",
   "execution_count": 37,
   "id": "XH91cL1JWH7m",
   "metadata": {
    "executionInfo": {
     "elapsed": 7,
     "status": "ok",
     "timestamp": 1746266250420,
     "user": {
      "displayName": "Harish Achappa",
      "userId": "05335455338103194332"
     },
     "user_tz": -330
    },
    "id": "XH91cL1JWH7m"
   },
   "outputs": [],
   "source": [
    "#@title  Text and image description/explanation and code comments within the experiment: { run: \"auto\", vertical-output: true, display-mode: \"form\" }\n",
    "Comments = \"Somewhat Useful\" #@param [\"\",\"Very Useful\", \"Somewhat Useful\", \"Not Useful\", \"Didn't use\"]\n"
   ]
  },
  {
   "cell_type": "code",
   "execution_count": 38,
   "id": "z8xLqj7VWIKW",
   "metadata": {
    "executionInfo": {
     "elapsed": 4,
     "status": "ok",
     "timestamp": 1746266251685,
     "user": {
      "displayName": "Harish Achappa",
      "userId": "05335455338103194332"
     },
     "user_tz": -330
    },
    "id": "z8xLqj7VWIKW"
   },
   "outputs": [],
   "source": [
    "#@title Mentor Support: { run: \"auto\", vertical-output: true, display-mode: \"form\" }\n",
    "Mentor_support = \"Didn't use\" #@param [\"\",\"Very Useful\", \"Somewhat Useful\", \"Not Useful\", \"Didn't use\"]\n"
   ]
  },
  {
   "cell_type": "code",
   "execution_count": 39,
   "id": "FzAZHt1zw-Y-",
   "metadata": {
    "cellView": "form",
    "colab": {
     "base_uri": "https://localhost:8080/"
    },
    "executionInfo": {
     "elapsed": 1101,
     "status": "ok",
     "timestamp": 1746266254358,
     "user": {
      "displayName": "Harish Achappa",
      "userId": "05335455338103194332"
     },
     "user_tz": -330
    },
    "id": "FzAZHt1zw-Y-",
    "outputId": "3a50401e-8a6b-4b47-820b-dd1d4f929549"
   },
   "outputs": [
    {
     "name": "stdout",
     "output_type": "stream",
     "text": [
      "Your submission is successful.\n",
      "Ref Id: 4660\n",
      "Date of submission:  03 May 2025\n",
      "Time of submission:  15:27:34\n",
      "View your submissions: https://learn-iisc.talentsprint.com/notebook_submissions\n"
     ]
    }
   ],
   "source": [
    "#@title Run this cell to submit your notebook for grading { vertical-output: true }\n",
    "try:\n",
    "  if submission_id:\n",
    "      return_id = submit_notebook()\n",
    "      if return_id : submission_id = return_id\n",
    "  else:\n",
    "      print(\"Please complete the setup first.\")\n",
    "except NameError:\n",
    "  print (\"Please complete the setup first.\")"
   ]
  }
 ],
 "metadata": {
  "colab": {
   "collapsed_sections": [
    "chicken-moldova",
    "restricted-bouquet",
    "respected-album",
    "advanced-marketplace",
    "aggressive-playing",
    "passing-tooth",
    "useful-shape",
    "random-gross"
   ],
   "provenance": [
    {
     "file_id": "1e_vXqHNQRY-56JS1u7hrAzAAJbcMtzSq",
     "timestamp": 1746263353702
    }
   ]
  },
  "kernelspec": {
   "display_name": "Python 3",
   "language": "python",
   "name": "python3"
  },
  "language_info": {
   "codemirror_mode": {
    "name": "ipython",
    "version": 3
   },
   "file_extension": ".py",
   "mimetype": "text/x-python",
   "name": "python",
   "nbconvert_exporter": "python",
   "pygments_lexer": "ipython3",
   "version": "3.12.4"
  }
 },
 "nbformat": 4,
 "nbformat_minor": 5
}
